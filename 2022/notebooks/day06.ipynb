{
 "cells": [
  {
   "cell_type": "code",
   "execution_count": 14,
   "metadata": {},
   "outputs": [],
   "source": [
    "# Load data\n",
    "with open(\"../data/day06.txt\", \"r\") as f:\n",
    "    input = f.read()"
   ]
  },
  {
   "cell_type": "code",
   "execution_count": 15,
   "metadata": {},
   "outputs": [
    {
     "name": "stdout",
     "output_type": "stream",
     "text": [
      "1142\n"
     ]
    }
   ],
   "source": [
    "# Puzzle 1\n",
    "# four different characters\n",
    "for n in range(0, len(input)-3):\n",
    "    chars = input[n:n+4]\n",
    "    if len(set(chars)) == 4:\n",
    "        print(n+4)\n",
    "        break"
   ]
  },
  {
   "cell_type": "code",
   "execution_count": 16,
   "metadata": {},
   "outputs": [
    {
     "name": "stdout",
     "output_type": "stream",
     "text": [
      "2803\n"
     ]
    }
   ],
   "source": [
    "# Puzzle 2\n",
    "# fourteen different characters\n",
    "for n in range(0, len(input)-13):\n",
    "    chars = input[n:n+14]\n",
    "    if len(set(chars)) == 14:\n",
    "        print(n+14)\n",
    "        break"
   ]
  },
  {
   "cell_type": "code",
   "execution_count": null,
   "metadata": {},
   "outputs": [],
   "source": []
  }
 ],
 "metadata": {
  "kernelspec": {
   "display_name": "Python 3.10.8 ('aoc')",
   "language": "python",
   "name": "python3"
  },
  "language_info": {
   "codemirror_mode": {
    "name": "ipython",
    "version": 3
   },
   "file_extension": ".py",
   "mimetype": "text/x-python",
   "name": "python",
   "nbconvert_exporter": "python",
   "pygments_lexer": "ipython3",
   "version": "3.10.8"
  },
  "orig_nbformat": 4,
  "vscode": {
   "interpreter": {
    "hash": "39edcdc22a4626f005eb81abe2e5685d92e4b5b22b498c4633a0842c7173c938"
   }
  }
 },
 "nbformat": 4,
 "nbformat_minor": 2
}
