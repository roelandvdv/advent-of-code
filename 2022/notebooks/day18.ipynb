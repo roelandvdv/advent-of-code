{
 "cells": [
  {
   "cell_type": "code",
   "execution_count": 75,
   "metadata": {},
   "outputs": [],
   "source": [
    "# Load data\n",
    "import numpy as np\n",
    "\n",
    "with open(\"../data/day18.txt\", \"r\") as f:\n",
    "    input = f.read().splitlines()\n",
    "\n",
    "data = [[int(c) for c in line.split(\",\")] for line in input]"
   ]
  },
  {
   "cell_type": "code",
   "execution_count": 77,
   "metadata": {},
   "outputs": [
    {
     "name": "stdout",
     "output_type": "stream",
     "text": [
      "3526\n"
     ]
    }
   ],
   "source": [
    "# Puzzle 1\n",
    "from operator import add\n",
    "#from itertools import product\n",
    "#dc_list = [np.array(p) for p in product([-1, 0, 1], repeat=3)]\n",
    "dc_list = [\n",
    "    (-1, 0, 0),\n",
    "    (1, 0, 0),\n",
    "    (0, -1, 0),\n",
    "    (0, 1, 0),\n",
    "    (0, 0, -1),\n",
    "    (0, 0, 1),\n",
    "]\n",
    "\n",
    "def calc_area(data):\n",
    "    area = 0\n",
    "    for cube in data:\n",
    "        for dc in dc_list:\n",
    "            if not list(map(add, dc, cube)) in data:\n",
    "                area += 1\n",
    "    return area\n",
    "\n",
    "print(calc_area(data))"
   ]
  },
  {
   "cell_type": "code",
   "execution_count": 79,
   "metadata": {},
   "outputs": [
    {
     "name": "stdout",
     "output_type": "stream",
     "text": [
      "2084\n"
     ]
    }
   ],
   "source": [
    "# Puzzle 2\n",
    "from scipy.ndimage import binary_fill_holes\n",
    "\n",
    "# find pockets, so ones with 6 adjacent ones > no actually, could be larger pockets\n",
    "# https://docs.scipy.org/doc/scipy/reference/generated/scipy.ndimage.binary_fill_holes.html\n",
    "\n",
    "# Make 3D array\n",
    "data_np = np.array(data)\n",
    "x_min, x_max = min(data_np[:, 0]), max(data_np[:, 0])\n",
    "y_min, y_max = min(data_np[:, 1]), max(data_np[:, 1])\n",
    "z_min, z_max = min(data_np[:, 2]), max(data_np[:, 2])\n",
    "A = np.zeros([x_max, y_max, z_max], dtype=int)\n",
    "A[data_np[:, 0] - 1, data_np[:, 1] -1, data_np[:, 2] - 1] = 1\n",
    "\n",
    "# 3D cross\n",
    "element = np.zeros([3,3,3], dtype=int)\n",
    "element[np.array(dc_list)[:, 0] + 1, np.array(dc_list)[:, 1] + 1,np.array(dc_list)[:, 2] + 1] = 1\n",
    "element[1, 1, 1] = 1\n",
    "\n",
    "R = binary_fill_holes(A, structure=element)\n",
    "\n",
    "data_filled = (np.array(np.where(R)).T + 1).tolist()\n",
    "print(calc_area(data_filled))\n",
    "\n",
    "# works for test\n",
    "# 2084 too low\n",
    "# cross element doesn't help"
   ]
  },
  {
   "cell_type": "code",
   "execution_count": null,
   "metadata": {},
   "outputs": [],
   "source": []
  }
 ],
 "metadata": {
  "kernelspec": {
   "display_name": "Python 3.10.8 ('aoc')",
   "language": "python",
   "name": "python3"
  },
  "language_info": {
   "codemirror_mode": {
    "name": "ipython",
    "version": 3
   },
   "file_extension": ".py",
   "mimetype": "text/x-python",
   "name": "python",
   "nbconvert_exporter": "python",
   "pygments_lexer": "ipython3",
   "version": "3.10.8"
  },
  "orig_nbformat": 4,
  "vscode": {
   "interpreter": {
    "hash": "118a976d43be9101cb4bfb9c3adcabe8ebada84d72e0327935fd155bc3446a23"
   }
  }
 },
 "nbformat": 4,
 "nbformat_minor": 2
}
