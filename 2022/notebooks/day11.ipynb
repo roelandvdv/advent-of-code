{
 "cells": [
  {
   "cell_type": "code",
   "execution_count": 4,
   "metadata": {},
   "outputs": [],
   "source": [
    "# Load data\n",
    "with open(\"../data/day11test.txt\", \"r\") as f:\n",
    "    input = f.read().split(\"\\n\\n\")"
   ]
  },
  {
   "cell_type": "code",
   "execution_count": 37,
   "metadata": {},
   "outputs": [
    {
     "name": "stdout",
     "output_type": "stream",
     "text": [
      "old * 19\n",
      "<_ast.Expression object at 0x7fd02f2d7950>\n",
      "old + 6\n",
      "<_ast.Expression object at 0x7fd02e606410>\n",
      "old * old\n",
      "<_ast.Expression object at 0x7fd02e606510>\n",
      "old + 3\n",
      "<_ast.Expression object at 0x7fd02e82b0d0>\n"
     ]
    }
   ],
   "source": [
    "# Parse it (overkill but why not)\n",
    "import ast\n",
    "monkey_input = [[line.lstrip() for line in monkey.splitlines()] for monkey in input]\n",
    "\n",
    "for monkey in monkey_input:\n",
    "    items = [int(item.strip()) for item in monkey[1].split(\":\")[1].split(\",\")]\n",
    "    operation = monkey[2].split(\"=\")[1].strip()\n",
    "    print(operation)\n",
    "    node = ast.parse(operation, \"<string>\", mode=\"eval\")\n",
    "    print(node)\n"
   ]
  },
  {
   "cell_type": "code",
   "execution_count": 39,
   "metadata": {},
   "outputs": [
    {
     "ename": "TypeError",
     "evalue": "'Expression' object is not callable",
     "output_type": "error",
     "traceback": [
      "\u001b[0;31m---------------------------------------------------------------------------\u001b[0m",
      "\u001b[0;31mTypeError\u001b[0m                                 Traceback (most recent call last)",
      "\u001b[0;32m/var/folders/xd/dtwy8fx12_ndg8fg_8v0m0880000gn/T/ipykernel_5224/1732635644.py\u001b[0m in \u001b[0;36m<module>\u001b[0;34m\u001b[0m\n\u001b[0;32m----> 1\u001b[0;31m \u001b[0mnode\u001b[0m\u001b[0;34m(\u001b[0m\u001b[0;36m3\u001b[0m\u001b[0;34m)\u001b[0m\u001b[0;34m\u001b[0m\u001b[0;34m\u001b[0m\u001b[0m\n\u001b[0m",
      "\u001b[0;31mTypeError\u001b[0m: 'Expression' object is not callable"
     ]
    }
   ],
   "source": [
    "node(3)"
   ]
  },
  {
   "cell_type": "code",
   "execution_count": 14,
   "metadata": {},
   "outputs": [],
   "source": [
    "# Puzzle 1\n",
    "from dataclasses import dataclass\n",
    "from typing import Callable\n",
    "\n",
    "@dataclass\n",
    "class Monkey:\n",
    "    items: list\n",
    "    operation: Callable\n",
    "    test: Callable\n",
    "    throw_to: tuple\n",
    "    worry: int = 0\n",
    "\n",
    "    def inspect(self):\n",
    "        item = self.items.pop(0)\n",
    "        worry = self.operation(item)\n",
    "        to = self.throw_to[0] if test(worry) else self.throw_to[1]\n",
    "\n",
    "# during turn, call inspect\n",
    "\n",
    "# pass list of monkeys so items can be added?\n",
    "# orchestrator:\n",
    "# - create monkeys first\n",
    "# - mapping from numbers to monkey objects\n",
    "# - do turns, call inspect of monkeys\n",
    "\n",
    "fun = lambda x: x * 19\n",
    "test = lambda x: x % 23 == 0\n",
    "\n",
    "monkey1 = Monkey([79, 98], fun, test, (2, 3))"
   ]
  },
  {
   "cell_type": "code",
   "execution_count": 10,
   "metadata": {},
   "outputs": [
    {
     "data": {
      "text/plain": [
       "<function __main__.<lambda>(x)>"
      ]
     },
     "execution_count": 10,
     "metadata": {},
     "output_type": "execute_result"
    }
   ],
   "source": [
    "monkey1.operation"
   ]
  },
  {
   "cell_type": "code",
   "execution_count": null,
   "metadata": {},
   "outputs": [],
   "source": []
  }
 ],
 "metadata": {
  "kernelspec": {
   "display_name": "Python 3.7.9 ('aoc')",
   "language": "python",
   "name": "python3"
  },
  "language_info": {
   "codemirror_mode": {
    "name": "ipython",
    "version": 3
   },
   "file_extension": ".py",
   "mimetype": "text/x-python",
   "name": "python",
   "nbconvert_exporter": "python",
   "pygments_lexer": "ipython3",
   "version": "3.7.9"
  },
  "orig_nbformat": 4,
  "vscode": {
   "interpreter": {
    "hash": "2652f06b02976001099b950d6147bac727240ee3cc1ef0d920bd705c8021af22"
   }
  }
 },
 "nbformat": 4,
 "nbformat_minor": 2
}
