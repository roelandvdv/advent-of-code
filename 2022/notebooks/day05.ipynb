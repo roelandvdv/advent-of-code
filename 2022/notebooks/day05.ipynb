{
 "cells": [
  {
   "cell_type": "code",
   "execution_count": 123,
   "metadata": {},
   "outputs": [],
   "source": [
    "# Load data\n",
    "from io import StringIO\n",
    "import numpy as np\n",
    "import re\n",
    "import copy\n",
    "\n",
    "with open(\"../data/day05.txt\", \"r\") as f:\n",
    "    input = f.read()\n",
    "data = input.split(\"\\n\\n\")"
   ]
  },
  {
   "cell_type": "code",
   "execution_count": 124,
   "metadata": {},
   "outputs": [
    {
     "name": "stdout",
     "output_type": "stream",
     "text": [
      "FRDSQRRCD\n",
      "HRFTQVWNN\n"
     ]
    }
   ],
   "source": [
    "# Puzzle 1 and 2\n",
    "def move(stack_list, action_list):\n",
    "    \"Move n from stack a to stack b, (n, a, b)\"\n",
    "    n, a, b = action_list\n",
    "    for i in range(0, n):\n",
    "        item = stack_list[a-1].pop(0)\n",
    "        stack_list[b-1].insert(0, item)\n",
    "    return\n",
    "\n",
    "def move_multiple(stack_list, action_list):\n",
    "    \"Move n from stack a to stack b, (n, a, b)\"\n",
    "    n, a, b = action_list\n",
    "    items = stack_list[a-1][:n]\n",
    "    stack_list[a-1] = stack_list[a-1][n:]\n",
    "    stack_list[b-1] = items + stack_list[b-1]\n",
    "    return\n",
    "\n",
    "# Initialize stack list\n",
    "stacks = np.genfromtxt(StringIO(data[0]), dtype=str, delimiter=4)\n",
    "stacks = np.char.strip(stacks, \" []\")\n",
    "stack_list = [list(\"\".join(stacks[:-1, n])) for n in range(0, stacks.shape[1])]\n",
    "stack_list_2 = copy.deepcopy(stack_list) # copy lists inside\n",
    "\n",
    "# Iterate over actions\n",
    "for action_string in data[1].splitlines():\n",
    "    m = re.match(\"move (\\d*) from (\\d*) to (\\d*)\", action_string)\n",
    "    action_list = [int(n) for n in m.groups(1)]\n",
    "    move(stack_list, action_list)\n",
    "    move_multiple(stack_list_2, action_list)\n",
    "\n",
    "# Answer\n",
    "print(\"\".join([stack[0] for stack in stack_list]))\n",
    "print(\"\".join([stack[0] for stack in stack_list_2]))"
   ]
  }
 ],
 "metadata": {
  "kernelspec": {
   "display_name": "Python 3.7.9 ('aoc')",
   "language": "python",
   "name": "python3"
  },
  "language_info": {
   "codemirror_mode": {
    "name": "ipython",
    "version": 3
   },
   "file_extension": ".py",
   "mimetype": "text/x-python",
   "name": "python",
   "nbconvert_exporter": "python",
   "pygments_lexer": "ipython3",
   "version": "3.7.9"
  },
  "orig_nbformat": 4,
  "vscode": {
   "interpreter": {
    "hash": "2652f06b02976001099b950d6147bac727240ee3cc1ef0d920bd705c8021af22"
   }
  }
 },
 "nbformat": 4,
 "nbformat_minor": 2
}
