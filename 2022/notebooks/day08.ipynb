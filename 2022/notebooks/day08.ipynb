{
 "cells": [
  {
   "cell_type": "code",
   "execution_count": 26,
   "metadata": {},
   "outputs": [],
   "source": [
    "# Load data\n",
    "with open(\"../data/day08.txt\", \"r\") as f:\n",
    "    input = f.read()\n",
    "\n",
    "from io import StringIO\n",
    "import numpy as np\n",
    "M = np.genfromtxt(StringIO(input), delimiter=1, dtype=int)"
   ]
  },
  {
   "cell_type": "code",
   "execution_count": 25,
   "metadata": {},
   "outputs": [
    {
     "data": {
      "text/plain": [
       "1546"
      ]
     },
     "execution_count": 25,
     "metadata": {},
     "output_type": "execute_result"
    }
   ],
   "source": [
    "# Puzzle 1\n",
    "n = 0\n",
    "for i in range(0, M.shape[0]):\n",
    "    for j in range(0, M.shape[1]):\n",
    "        height = M[i, j]\n",
    "        left = M[i, 0:j]\n",
    "        right = M[i, (j+1):]\n",
    "        top = M[0:i, j]\n",
    "        bottom = M[(i+1):, j]\n",
    "        max_height = [max(dir) if dir.size > 0 else -1 for dir in (left, right, top, bottom)]\n",
    "        is_higher = [height > m for m in max_height]\n",
    "        if sum(is_higher) > 0:\n",
    "            n += 1\n",
    "n\n"
   ]
  },
  {
   "cell_type": "code",
   "execution_count": null,
   "metadata": {},
   "outputs": [],
   "source": []
  }
 ],
 "metadata": {
  "kernelspec": {
   "display_name": "Python 3.7.9 ('aoc')",
   "language": "python",
   "name": "python3"
  },
  "language_info": {
   "codemirror_mode": {
    "name": "ipython",
    "version": 3
   },
   "file_extension": ".py",
   "mimetype": "text/x-python",
   "name": "python",
   "nbconvert_exporter": "python",
   "pygments_lexer": "ipython3",
   "version": "3.7.9"
  },
  "orig_nbformat": 4,
  "vscode": {
   "interpreter": {
    "hash": "2652f06b02976001099b950d6147bac727240ee3cc1ef0d920bd705c8021af22"
   }
  }
 },
 "nbformat": 4,
 "nbformat_minor": 2
}
