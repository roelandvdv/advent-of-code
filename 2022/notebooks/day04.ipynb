{
 "cells": [
  {
   "cell_type": "code",
   "execution_count": 22,
   "metadata": {},
   "outputs": [
    {
     "data": {
      "text/plain": [
       "['1-93,2-11', '26-94,26-94', '72-92,48-88']"
      ]
     },
     "execution_count": 22,
     "metadata": {},
     "output_type": "execute_result"
    }
   ],
   "source": [
    "# Load data\n",
    "with open(\"../data/day04.txt\", \"r\") as f:\n",
    "    input = f.read()\n",
    "\n",
    "data = input.split(\"\\n\")\n",
    "data[0:3]"
   ]
  },
  {
   "cell_type": "code",
   "execution_count": 23,
   "metadata": {},
   "outputs": [
    {
     "name": "stdout",
     "output_type": "stream",
     "text": [
      "503\n",
      "827\n"
     ]
    }
   ],
   "source": [
    "# Puzzle 1 and 2\n",
    "# Not very elegant\n",
    "\n",
    "count1 = 0\n",
    "count2 = 0\n",
    "for line in data:\n",
    "    pairs = line.split(\",\")\n",
    "    edges0 = pairs[0].split(\"-\")\n",
    "    edges1 = pairs[1].split(\"-\")\n",
    "    set0 = set(range(int(edges0[0]), int(edges0[1])+1))\n",
    "    set1 = set(range(int(edges1[0]), int(edges1[1])+1))\n",
    "    if set0.issubset(set1) or set1.issubset(set0):\n",
    "        count1 += 1\n",
    "    if len(set0.intersection(set1)):\n",
    "        count2 += 1\n",
    "print(count1)\n",
    "print(count2)"
   ]
  },
  {
   "cell_type": "markdown",
   "metadata": {},
   "source": []
  }
 ],
 "metadata": {
  "kernelspec": {
   "display_name": "Python 3.7.9 ('aoc')",
   "language": "python",
   "name": "python3"
  },
  "language_info": {
   "codemirror_mode": {
    "name": "ipython",
    "version": 3
   },
   "file_extension": ".py",
   "mimetype": "text/x-python",
   "name": "python",
   "nbconvert_exporter": "python",
   "pygments_lexer": "ipython3",
   "version": "3.7.9"
  },
  "orig_nbformat": 4,
  "vscode": {
   "interpreter": {
    "hash": "2652f06b02976001099b950d6147bac727240ee3cc1ef0d920bd705c8021af22"
   }
  }
 },
 "nbformat": 4,
 "nbformat_minor": 2
}
