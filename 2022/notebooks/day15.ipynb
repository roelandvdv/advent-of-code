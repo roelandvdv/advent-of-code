{
 "cells": [
  {
   "cell_type": "code",
   "execution_count": 64,
   "metadata": {},
   "outputs": [
    {
     "data": {
      "text/plain": [
       "['Sensor at x=2, y=18: closest beacon is at x=-2, y=15',\n",
       " 'Sensor at x=9, y=16: closest beacon is at x=10, y=16',\n",
       " 'Sensor at x=13, y=2: closest beacon is at x=15, y=3',\n",
       " 'Sensor at x=12, y=14: closest beacon is at x=10, y=16',\n",
       " 'Sensor at x=10, y=20: closest beacon is at x=10, y=16']"
      ]
     },
     "execution_count": 64,
     "metadata": {},
     "output_type": "execute_result"
    }
   ],
   "source": [
    "# Load data\n",
    "import numpy as np\n",
    "\n",
    "with open(\"../data/day15test.txt\", \"r\") as f:\n",
    "    input = f.read()\n",
    "\n",
    "data = input.splitlines()\n",
    "data[0:5]"
   ]
  },
  {
   "cell_type": "code",
   "execution_count": 65,
   "metadata": {},
   "outputs": [],
   "source": [
    "# Puzzle 1\n",
    "# Real data has very large x and y coords\n",
    "def manhattan(c1, c2):\n",
    "    return abs(c1[0] - c2[0]) + abs(c1[1] - c2[1])\n",
    "\n",
    "sensors = []\n",
    "for sensor in data:\n",
    "    left, right = sensor.split(\":\")\n",
    "    c_s = [int(part.split(\"=\")[-1]) for part in left.split(\",\")]\n",
    "    c_b = [int(part.split(\"=\")[-1]) for part in right.split(\",\")]\n",
    "    distance = manhattan(c_s, c_b)\n",
    "    sensors.append([c_s, c_b, distance])"
   ]
  },
  {
   "cell_type": "code",
   "execution_count": 67,
   "metadata": {},
   "outputs": [
    {
     "name": "stdout",
     "output_type": "stream",
     "text": [
      "26\n"
     ]
    }
   ],
   "source": [
    "# 40 seconds, too slow\n",
    "# manhattan can probably be faster without y\n",
    "#y = 2_000_000\n",
    "y = 10\n",
    "line = \"\"\n",
    "count = 0\n",
    "for x in range(-4, 26+1):\n",
    "#for x in range(0, 4_000_000):\n",
    "    pos = \".\"\n",
    "    for sensor in sensors:\n",
    "        if [x, y] == sensor[0]:\n",
    "            pos = \"S\"\n",
    "            break\n",
    "        if [x, y] == sensor[1]:\n",
    "            pos = \"B\"\n",
    "            break\n",
    "    if pos != \".\":\n",
    "        #line += pos\n",
    "        continue\n",
    "        \n",
    "    for sensor in sensors:\n",
    "        if manhattan((x, y), sensor[0]) <= sensor[2]:\n",
    "            pos = \"#\"\n",
    "            count += 1\n",
    "            break\n",
    "    #line += pos\n",
    "\n",
    "#print(line)\n",
    "print(count)"
   ]
  },
  {
   "cell_type": "code",
   "execution_count": null,
   "metadata": {},
   "outputs": [],
   "source": [
    "# get min and max x?\n",
    "\n",
    "# abs(x - xs) + abs(10 - ys) <= 9\n",
    "# x has 0, one or two solutions"
   ]
  },
  {
   "cell_type": "code",
   "execution_count": null,
   "metadata": {},
   "outputs": [],
   "source": [
    "y = 10\n",
    "line = \"\"\n",
    "count = 0\n",
    "\n",
    "# in the end subtract beacons and sensors?\n",
    "\n",
    "start = -4\n",
    "end = 26\n",
    "\n",
    "for sensor in sensors:\n",
    "    array = np.zeros(start - end, dtype=bool)\n",
    "    n = 0\n",
    "    for x in range(start, end+1):\n",
    "        array[n] = manhattan((x, y), sensor[0]) <= sensor[2]:\n",
    "        n += 1\n"
   ]
  }
 ],
 "metadata": {
  "kernelspec": {
   "display_name": "aoc",
   "language": "python",
   "name": "aoc"
  },
  "language_info": {
   "codemirror_mode": {
    "name": "ipython",
    "version": 3
   },
   "file_extension": ".py",
   "mimetype": "text/x-python",
   "name": "python",
   "nbconvert_exporter": "python",
   "pygments_lexer": "ipython3",
   "version": "3.7.9 (default, Aug 31 2020, 07:22:35) \n[Clang 10.0.0 ]"
  },
  "orig_nbformat": 4,
  "vscode": {
   "interpreter": {
    "hash": "2652f06b02976001099b950d6147bac727240ee3cc1ef0d920bd705c8021af22"
   }
  }
 },
 "nbformat": 4,
 "nbformat_minor": 2
}
