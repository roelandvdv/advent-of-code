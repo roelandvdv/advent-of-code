{
 "cells": [
  {
   "cell_type": "code",
   "execution_count": 145,
   "metadata": {},
   "outputs": [],
   "source": [
    "# Load data\n",
    "with open(\"../data/day09.txt\", \"r\") as f:\n",
    "    input = f.read()\n",
    "\n",
    "def parse_line(line):\n",
    "    d, n = line.split(\" \")\n",
    "    return d, int(n)\n",
    "\n",
    "data = [parse_line(line) for line in input.splitlines()]"
   ]
  },
  {
   "cell_type": "code",
   "execution_count": 146,
   "metadata": {},
   "outputs": [
    {
     "data": {
      "text/plain": [
       "6503"
      ]
     },
     "execution_count": 146,
     "metadata": {},
     "output_type": "execute_result"
    }
   ],
   "source": [
    "import math\n",
    "import numpy as np\n",
    "\n",
    "# Puzzle 1\n",
    "hx, hy, tx, ty = 0, 0, 0, 0\n",
    "\n",
    "moves = {\n",
    "    'U': (0, 1),\n",
    "    'D': (0, -1),\n",
    "    'R': (1, 0,),\n",
    "    'L': (-1, 0),\n",
    "}\n",
    "\n",
    "positions = []\n",
    "for motions in data:\n",
    "    for n in range(0, motions[1]):\n",
    "        dx, dy = moves[motions[0]]\n",
    "        hx += dx\n",
    "        hy += dy\n",
    "        if abs(hx - tx) > 1:\n",
    "            tx += int(math.copysign(1, hx - tx))\n",
    "            ty = hy\n",
    "        if abs(hy - ty) > 1:\n",
    "            ty += int(math.copysign(1, hy - ty))\n",
    "            tx = hx\n",
    "        positions.append((tx, ty))\n",
    "\n",
    "len(set(positions))\n"
   ]
  },
  {
   "cell_type": "code",
   "execution_count": 147,
   "metadata": {},
   "outputs": [
    {
     "data": {
      "text/plain": [
       "2724"
      ]
     },
     "execution_count": 147,
     "metadata": {},
     "output_type": "execute_result"
    }
   ],
   "source": [
    "# Puzzle 2\n",
    "\n",
    "def move(hx, hy, tx, ty):\n",
    "    if (abs(hx - tx) > 1) & (abs(hy - ty) > 1):\n",
    "        tx += int(math.copysign(1, hx - tx))\n",
    "        ty += int(math.copysign(1, hy - ty))\n",
    "        return tx, ty\n",
    "    if abs(hx - tx) > 1:\n",
    "        tx += int(math.copysign(1, hx - tx))\n",
    "        ty = hy\n",
    "    if abs(hy - ty) > 1:\n",
    "        ty += int(math.copysign(1, hy - ty))\n",
    "        tx = hx\n",
    "    return tx, ty\n",
    "\n",
    "n = 10\n",
    "rope = [(0, 0) for _ in range(0, n)]\n",
    "tail_positions = [(0, 0)]\n",
    "for motions in data:\n",
    "    for i in range(0, motions[1]):\n",
    "        dx, dy = moves[motions[0]]\n",
    "        hx, hy = rope[0]\n",
    "        hx += dx\n",
    "        hy += dy\n",
    "        rope[0] = (hx, hy)\n",
    "        for j in range(0, n-1):\n",
    "            new = move(*rope[j], *rope[j+1])\n",
    "            rope[j+1] = new\n",
    "        tail_positions.append(rope[-1])\n",
    "\n",
    "        #plot(rope)\n",
    "        #print(\"\\n\")\n",
    "\n",
    "len(set(tail_positions))"
   ]
  },
  {
   "cell_type": "code",
   "execution_count": 144,
   "metadata": {},
   "outputs": [
    {
     "name": "stdout",
     "output_type": "stream",
     "text": [
      "......\n",
      "......\n",
      "......\n",
      ".T....\n",
      "H1....\n"
     ]
    }
   ],
   "source": [
    "def plot(rope):\n",
    "    array = np.array(rope)\n",
    "    # 21, 26\n",
    "    M = np.ones((5, 6)).astype(str)\n",
    "    M[:] = \".\"\n",
    "    # 15, 11\n",
    "    M[4 - array[:, 1], 0 + array[:, 0]] = [\"H\"] + [str(n) for n in range(1, len(rope)-1)] + [\"T\"]\n",
    "    print('\\n'.join([''.join(row) for row in M]))\n",
    "\n",
    "rope = [(0, 0), (1, 0), (1, 1)]\n",
    "plot(rope)"
   ]
  },
  {
   "cell_type": "code",
   "execution_count": null,
   "metadata": {},
   "outputs": [],
   "source": []
  }
 ],
 "metadata": {
  "kernelspec": {
   "display_name": "Python 3.7.9 ('aoc')",
   "language": "python",
   "name": "python3"
  },
  "language_info": {
   "codemirror_mode": {
    "name": "ipython",
    "version": 3
   },
   "file_extension": ".py",
   "mimetype": "text/x-python",
   "name": "python",
   "nbconvert_exporter": "python",
   "pygments_lexer": "ipython3",
   "version": "3.7.9"
  },
  "orig_nbformat": 4,
  "vscode": {
   "interpreter": {
    "hash": "2652f06b02976001099b950d6147bac727240ee3cc1ef0d920bd705c8021af22"
   }
  }
 },
 "nbformat": 4,
 "nbformat_minor": 2
}
