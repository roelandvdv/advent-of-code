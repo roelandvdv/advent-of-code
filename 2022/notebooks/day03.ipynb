{
 "cells": [
  {
   "cell_type": "code",
   "execution_count": 50,
   "metadata": {},
   "outputs": [
    {
     "data": {
      "text/plain": [
       "['NLBLfrNNLvqwbMfDqSjSzzSJjjggcdVs',\n",
       " 'lTRGPPZnRRHszcsZdSsccZ',\n",
       " 'CFTTFtFHTtCtDDzrmBtrBD']"
      ]
     },
     "execution_count": 50,
     "metadata": {},
     "output_type": "execute_result"
    }
   ],
   "source": [
    "# Load data\n",
    "with open(\"../data/day03.txt\", \"r\") as f:\n",
    "    input = f.read()\n",
    "\n",
    "data = input.split(\"\\n\")\n",
    "data[0:3]"
   ]
  },
  {
   "cell_type": "code",
   "execution_count": 51,
   "metadata": {},
   "outputs": [
    {
     "name": "stdout",
     "output_type": "stream",
     "text": [
      "7990\n"
     ]
    }
   ],
   "source": [
    "# Puzzle 1\n",
    "def letter_to_num(letter):\n",
    "    num = ord(letter) - 96\n",
    "    if num < 0:\n",
    "        num += 58\n",
    "    return num\n",
    "\n",
    "priority = 0\n",
    "for line in data:\n",
    "    half = int(len(line)/2)\n",
    "    comp1 = set(line[0:half])\n",
    "    comp2 = set(line[half:])\n",
    "    letter = list(comp2.intersection(comp1))[0]\n",
    "    num = letter_to_num(letter)\n",
    "    priority += num\n",
    "\n",
    "print(priority)"
   ]
  },
  {
   "cell_type": "code",
   "execution_count": 52,
   "metadata": {},
   "outputs": [
    {
     "name": "stdout",
     "output_type": "stream",
     "text": [
      "2602\n"
     ]
    }
   ],
   "source": [
    "# Puzzle 2\n",
    "import numpy as np\n",
    "\n",
    "groups = np.reshape(data, (-1, 3))\n",
    "priority = 0\n",
    "for group in groups:\n",
    "    letter = list(set(group[0]).intersection(set(group[1]), set(group[2])))[0]\n",
    "    num = letter_to_num(letter)\n",
    "    priority += num\n",
    "print(priority)"
   ]
  },
  {
   "cell_type": "markdown",
   "metadata": {},
   "source": []
  }
 ],
 "metadata": {
  "kernelspec": {
   "display_name": "Python 3.7.9 ('aoc')",
   "language": "python",
   "name": "python3"
  },
  "language_info": {
   "codemirror_mode": {
    "name": "ipython",
    "version": 3
   },
   "file_extension": ".py",
   "mimetype": "text/x-python",
   "name": "python",
   "nbconvert_exporter": "python",
   "pygments_lexer": "ipython3",
   "version": "3.7.9"
  },
  "orig_nbformat": 4,
  "vscode": {
   "interpreter": {
    "hash": "2652f06b02976001099b950d6147bac727240ee3cc1ef0d920bd705c8021af22"
   }
  }
 },
 "nbformat": 4,
 "nbformat_minor": 2
}
