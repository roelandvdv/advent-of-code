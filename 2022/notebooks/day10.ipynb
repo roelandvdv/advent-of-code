{
 "cells": [
  {
   "cell_type": "code",
   "execution_count": 51,
   "metadata": {},
   "outputs": [],
   "source": [
    "# Load data\n",
    "with open(\"../data/day10.txt\", \"r\") as f:\n",
    "    input = f.read().splitlines()"
   ]
  },
  {
   "cell_type": "code",
   "execution_count": 52,
   "metadata": {},
   "outputs": [
    {
     "name": "stdout",
     "output_type": "stream",
     "text": [
      "17\n",
      "17\n",
      "7\n",
      "21\n",
      "21\n",
      "17\n",
      "12520\n"
     ]
    }
   ],
   "source": [
    "# Puzzle 1\n",
    "\n",
    "#input = [\"noop\", \"addx 3\", \"addx -5\"]\n",
    "\n",
    "signal = 0\n",
    "x = 1\n",
    "c = 1\n",
    "c_list = [20, 60, 100, 140, 180, 220]\n",
    "for instruction in input:\n",
    "    if instruction == \"noop\":\n",
    "        dc = 1\n",
    "        dx = 0\n",
    "    if instruction.startswith(\"addx\"):\n",
    "        dc = 2\n",
    "        dx = int(instruction.split(\" \")[1])\n",
    "    \n",
    "    for _ in range(0, dc):\n",
    "        if c in c_list:\n",
    "            print(x)\n",
    "            signal += x * c\n",
    "        c += 1\n",
    "    x += dx\n",
    "\n",
    "    #print(f\"{c}, {x}\")\n",
    "\n",
    "print(signal)"
   ]
  },
  {
   "cell_type": "code",
   "execution_count": 54,
   "metadata": {},
   "outputs": [
    {
     "name": "stdout",
     "output_type": "stream",
     "text": [
      "# # # # . # . . # . # # # . . # # # # . # # # . . . . # # . . # # . . # . . . .\n",
      "# . . . . # . . # . # . . # . . . . # . # . . # . . . . # . # . . # . # . . . .\n",
      "# # # . . # # # # . # . . # . . . # . . # . . # . . . . # . # . . . . # . . . .\n",
      "# . . . . # . . # . # # # . . . # . . . # # # . . . . . # . # . # # . # . . . .\n",
      "# . . . . # . . # . # . . . . # . . . . # . . . . # . . # . # . . # . # . . . .\n",
      "# # # # . # . . # . # . . . . # # # # . # . . . . . # # . . . # # # . # # # # .\n"
     ]
    }
   ],
   "source": [
    "# Puzzle 2\n",
    "import numpy as np\n",
    "\n",
    "x = 1 # sprite position\n",
    "c = 0\n",
    "\n",
    "M = np.ones((6, 40)).astype(str)\n",
    "M[:] = \".\"\n",
    "\n",
    "for instruction in input:\n",
    "    if instruction == \"noop\":\n",
    "        dc = 1\n",
    "        dx = 0\n",
    "    if instruction.startswith(\"addx\"):\n",
    "        dc = 2\n",
    "        dx = int(instruction.split(\" \")[1])\n",
    "    \n",
    "    for _ in range(0, dc):\n",
    "        y_draw, x_draw = divmod(c, 40)\n",
    "        if x_draw in range(x-1, x+2):\n",
    "            M[y_draw, x_draw] = \"#\"\n",
    "        c += 1\n",
    "    x += dx\n",
    "\n",
    "print('\\n'.join([' '.join(row) for row in M]))\n"
   ]
  }
 ],
 "metadata": {
  "kernelspec": {
   "display_name": "Python 3.7.9 ('aoc')",
   "language": "python",
   "name": "python3"
  },
  "language_info": {
   "codemirror_mode": {
    "name": "ipython",
    "version": 3
   },
   "file_extension": ".py",
   "mimetype": "text/x-python",
   "name": "python",
   "nbconvert_exporter": "python",
   "pygments_lexer": "ipython3",
   "version": "3.7.9"
  },
  "orig_nbformat": 4,
  "vscode": {
   "interpreter": {
    "hash": "2652f06b02976001099b950d6147bac727240ee3cc1ef0d920bd705c8021af22"
   }
  }
 },
 "nbformat": 4,
 "nbformat_minor": 2
}
