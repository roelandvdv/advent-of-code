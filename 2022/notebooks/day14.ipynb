{
 "cells": [
  {
   "cell_type": "code",
   "execution_count": 2,
   "metadata": {},
   "outputs": [
    {
     "data": {
      "text/plain": [
       "[[[498, 4], [498, 6], [496, 6]], [[503, 4], [502, 4], [502, 9], [494, 9]]]"
      ]
     },
     "execution_count": 2,
     "metadata": {},
     "output_type": "execute_result"
    }
   ],
   "source": [
    "# Load data\n",
    "import numpy as np\n",
    "\n",
    "with open(\"../data/day14test.txt\", \"r\") as f:\n",
    "    input = f.read()\n",
    "\n",
    "data = [[[int(coord) for coord in coords.split(\",\")] for coords in path.split(\" -> \")] for path in input.splitlines()]\n",
    "data"
   ]
  },
  {
   "cell_type": "code",
   "execution_count": 26,
   "metadata": {},
   "outputs": [],
   "source": [
    "# Create list of coordinates\n",
    "def range_b(a, b):\n",
    "    return range(min(a,b), max(a,b)+1)\n",
    "\n",
    "# Two ways of storing, let's see what works best\n",
    "cave_dict = {}\n",
    "cave_list = []\n",
    "for path in data:\n",
    "    for n in range(0, len(path)-1):\n",
    "        x0, y0 = path[n]\n",
    "        x1, y1 = path[n+1]\n",
    "        \n",
    "        X = range_b(x0, x1)\n",
    "        Y = range_b(y0, y1)\n",
    "\n",
    "        if len(X) == 1:\n",
    "            Xs, Ys= [X[0]]*len(Y), Y\n",
    "        elif len(Y) == 1:\n",
    "            Xs, Ys = X, [Y[0]]*len(X)\n",
    "        else:\n",
    "            raise ValueError\n",
    "\n",
    "        for x, y in zip(Xs, Ys):\n",
    "            cave_dict[(x, y)] = \"#\"\n",
    "            cave_list.append([x, y, 1]) # no mixed types in array\n",
    "            \n",
    "#print(np.array(cave_list))"
   ]
  },
  {
   "cell_type": "code",
   "execution_count": 30,
   "metadata": {},
   "outputs": [
    {
     "data": {
      "text/plain": [
       "{(498, 4): '#',\n",
       " (498, 5): '#',\n",
       " (498, 6): '#',\n",
       " (496, 6): '#',\n",
       " (497, 6): '#',\n",
       " (502, 4): '#',\n",
       " (503, 4): '#',\n",
       " (502, 5): '#',\n",
       " (502, 6): '#',\n",
       " (502, 7): '#',\n",
       " (502, 8): '#',\n",
       " (502, 9): '#',\n",
       " (494, 9): '#',\n",
       " (495, 9): '#',\n",
       " (496, 9): '#',\n",
       " (497, 9): '#',\n",
       " (498, 9): '#',\n",
       " (499, 9): '#',\n",
       " (500, 9): '#',\n",
       " (501, 9): '#'}"
      ]
     },
     "execution_count": 30,
     "metadata": {},
     "output_type": "execute_result"
    }
   ],
   "source": [
    "cave_dict"
   ]
  },
  {
   "cell_type": "code",
   "execution_count": 32,
   "metadata": {},
   "outputs": [],
   "source": [
    "if (503, 9) in cave_dict:\n",
    "    print(\"bla\")"
   ]
  },
  {
   "cell_type": "code",
   "execution_count": null,
   "metadata": {},
   "outputs": [],
   "source": [
    "SOURCE_X, SOURCE_y = 500, 0\n",
    "\n",
    "sand_list = []\n",
    "while True: # loop for particles\n",
    "\n",
    "    x, y = SOURCE_X, SOURCE_y\n",
    "    while True: # step for every particle\n",
    "        if (x, y + 1) not in cave_dict:\n",
    "            y += 1\n",
    "            continue\n",
    "        if (x - 1, y + 1) not in cave_dict:\n",
    "            x -= 1\n",
    "            y += 1\n",
    "            continue\n",
    "        if (x + 1, y + 1) not in cave_dict:\n",
    "            x += 1\n",
    "            y += 1\n",
    "            continue\n",
    "        # Break out of this loop when particle stops, or goes out of frame\n",
    "        # Update dict with stopped particle, so new particles can interact with it\n",
    "        \n",
    "\n",
    "    # Use min x and max x to determine when to break out of loop\n",
    "    sand_list.append([x, y, 1])"
   ]
  },
  {
   "cell_type": "code",
   "execution_count": 27,
   "metadata": {},
   "outputs": [
    {
     "name": "stdout",
     "output_type": "stream",
     "text": [
      ". . . . . . + . . .\n",
      ". . . . . . . . . .\n",
      ". . . . . . . . . .\n",
      ". . . . . . . . . .\n",
      ". . . . # . . . # #\n",
      ". . . . # . . . # .\n",
      ". . # # # . . . # .\n",
      ". . . . . . . . # .\n",
      ". . . . . . . . # .\n",
      "# # # # # # # # # .\n"
     ]
    }
   ],
   "source": [
    "def show_cave(cave_list):\n",
    "    # TODO: add plotting of sand particles\n",
    "    cave_array = np.array(cave_list)\n",
    "    x_min, x_max = min(*cave_array[:, 0], SOURCE_X), max(*cave_array[:, 0], SOURCE_X)\n",
    "    y_min, y_max = min(*cave_array[:, 1], SOURCE_y), max(*cave_array[:, 1], SOURCE_y)\n",
    "    size_x = (x_max - x_min) + 1\n",
    "    size_y = (y_max - y_min) + 1\n",
    "\n",
    "    M = np.ones((size_y, size_x)).astype(str)\n",
    "    M[:] = \".\"\n",
    "    M[SOURCE_y - y_min, SOURCE_X - x_min] = \"+\"\n",
    "    M[cave_array[:,1] - y_min, cave_array[:,0]-  x_min] = \"#\"\n",
    "    print('\\n'.join([' '.join(row) for row in M]))\n",
    "\n",
    "show_cave(cave_list)"
   ]
  },
  {
   "cell_type": "code",
   "execution_count": null,
   "metadata": {},
   "outputs": [],
   "source": []
  }
 ],
 "metadata": {
  "kernelspec": {
   "display_name": "aoc",
   "language": "python",
   "name": "python3"
  },
  "language_info": {
   "codemirror_mode": {
    "name": "ipython",
    "version": 3
   },
   "file_extension": ".py",
   "mimetype": "text/x-python",
   "name": "python",
   "nbconvert_exporter": "python",
   "pygments_lexer": "ipython3",
   "version": "3.10.8"
  },
  "orig_nbformat": 4,
  "vscode": {
   "interpreter": {
    "hash": "39edcdc22a4626f005eb81abe2e5685d92e4b5b22b498c4633a0842c7173c938"
   }
  }
 },
 "nbformat": 4,
 "nbformat_minor": 2
}
