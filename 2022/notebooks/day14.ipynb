{
 "cells": [
  {
   "cell_type": "code",
   "execution_count": 105,
   "metadata": {},
   "outputs": [],
   "source": [
    "# Load data\n",
    "import numpy as np\n",
    "\n",
    "with open(\"../data/day14.txt\", \"r\") as f:\n",
    "    input = f.read()\n",
    "\n",
    "data = [[[int(coord) for coord in coords.split(\",\")] for coords in path.split(\" -> \")] for path in input.splitlines()]\n",
    "#data"
   ]
  },
  {
   "cell_type": "code",
   "execution_count": 106,
   "metadata": {},
   "outputs": [],
   "source": [
    "SOURCE_X, SOURCE_Y = 500, 0\n",
    "\n",
    "def range_b(a, b):\n",
    "    return range(min(a,b), max(a,b)+1)\n",
    "\n",
    "def init_cave_dict(data):\n",
    "    cave_dict = {}\n",
    "    for path in data:\n",
    "        for n in range(0, len(path)-1):\n",
    "            x0, y0 = path[n]\n",
    "            x1, y1 = path[n+1]\n",
    "            \n",
    "            X = range_b(x0, x1)\n",
    "            Y = range_b(y0, y1)\n",
    "\n",
    "            if len(X) == 1:\n",
    "                Xs, Ys= [X[0]]*len(Y), Y\n",
    "            elif len(Y) == 1:\n",
    "                Xs, Ys = X, [Y[0]]*len(X)\n",
    "            else:\n",
    "                raise ValueError\n",
    "\n",
    "            for x, y in zip(Xs, Ys):\n",
    "                cave_dict[(x, y)] = 1\n",
    "    return cave_dict\n",
    "\n",
    "def show_cave(cave_dict):\n",
    "    cave_list = [[*item[0], item[1]] for item in cave_dict.items()]\n",
    "    cave_array = np.array(cave_list)\n",
    "    x_min, x_max = min(*cave_array[:, 0], SOURCE_X), max(*cave_array[:, 0], SOURCE_X)\n",
    "    y_min, y_max = min(*cave_array[:, 1], SOURCE_Y), max(*cave_array[:, 1], SOURCE_Y)\n",
    "    size_x = (x_max - x_min) + 1\n",
    "    size_y = (y_max - y_min) + 1\n",
    "\n",
    "    M = np.ones((size_y, size_x)).astype(str)\n",
    "    M[:] = \".\"\n",
    "    M[SOURCE_Y - y_min, SOURCE_X - x_min] = \"+\"\n",
    "\n",
    "    index_rock = cave_array[:, 2] == 1\n",
    "    index_sand = cave_array[:, 2] == 2\n",
    "    M[cave_array[index_rock, 1] - y_min, cave_array[index_rock, 0]-  x_min] = \"#\"\n",
    "    M[cave_array[index_sand, 1] - y_min, cave_array[index_sand, 0]-  x_min] = \"o\"\n",
    "    \n",
    "    print('\\n'.join([' '.join(row) for row in M]))"
   ]
  },
  {
   "cell_type": "code",
   "execution_count": 108,
   "metadata": {},
   "outputs": [
    {
     "name": "stdout",
     "output_type": "stream",
     "text": [
      "715\n"
     ]
    }
   ],
   "source": [
    "# Puzzle 1\n",
    "\n",
    "cave_dict = init_cave_dict(data)\n",
    "\n",
    "x_list, y_list = zip(*cave_dict.keys())\n",
    "x_min, x_max = min(x_list), max(x_list)\n",
    "y_min, y_max = min(y_list), max(y_list)\n",
    "\n",
    "n = 0\n",
    "while True: # loop for particles\n",
    "    x, y = SOURCE_X, SOURCE_Y\n",
    "    while True: # step for every particle\n",
    "        done = (x < x_min) or (x > x_max) or (y > y_max)\n",
    "        if done:\n",
    "            break\n",
    "        if (x, y + 1) not in cave_dict:\n",
    "            y += 1\n",
    "            continue\n",
    "        if (x - 1, y + 1) not in cave_dict:\n",
    "            x -= 1\n",
    "            y += 1\n",
    "            continue\n",
    "        if (x + 1, y + 1) not in cave_dict:\n",
    "            x += 1\n",
    "            y += 1\n",
    "            continue\n",
    "        break\n",
    "    if done:\n",
    "        print(n)\n",
    "        break\n",
    "    # Update dict with stopped particle, so new particles can interact with it\n",
    "    cave_dict[(x, y)] = 2\n",
    "    n += 1\n",
    "\n",
    "#show_cave(cave_dict)"
   ]
  },
  {
   "cell_type": "code",
   "execution_count": 109,
   "metadata": {},
   "outputs": [
    {
     "name": "stdout",
     "output_type": "stream",
     "text": [
      "25248\n"
     ]
    }
   ],
   "source": [
    "# Puzzle 2\n",
    "\n",
    "cave_dict = init_cave_dict(data)\n",
    "\n",
    "x_list, y_list = zip(*cave_dict.keys())\n",
    "x_min, x_max = min(x_list), max(x_list)\n",
    "y_min, y_max = min(y_list), max(y_list)\n",
    "\n",
    "n = 0\n",
    "while True: # loop for particles\n",
    "    x, y = SOURCE_X, SOURCE_Y\n",
    "    while True: # step for every particle\n",
    "        particle_stop = (y + 1) == (y_max + 2)\n",
    "        if (x, y + 1) not in cave_dict and not particle_stop:\n",
    "            y += 1\n",
    "            continue\n",
    "        if (x - 1, y + 1) not in cave_dict and not particle_stop:\n",
    "            x -= 1\n",
    "            y += 1\n",
    "            continue\n",
    "        if (x + 1, y + 1) not in cave_dict and not particle_stop:\n",
    "            x += 1\n",
    "            y += 1\n",
    "            continue\n",
    "        break\n",
    "    # Update dict with stopped particle, so new particles can interact with it\n",
    "    cave_dict[(x, y)] = 2\n",
    "    n += 1\n",
    "    # Break if particle is at starting pos\n",
    "    if (x, y) == (SOURCE_X, SOURCE_Y):\n",
    "        print(n)\n",
    "        break\n",
    "\n",
    "#show_cave(cave_dict)"
   ]
  },
  {
   "cell_type": "code",
   "execution_count": null,
   "metadata": {},
   "outputs": [],
   "source": []
  }
 ],
 "metadata": {
  "kernelspec": {
   "display_name": "Python 3.7.9 ('aoc')",
   "language": "python",
   "name": "python3"
  },
  "language_info": {
   "codemirror_mode": {
    "name": "ipython",
    "version": 3
   },
   "file_extension": ".py",
   "mimetype": "text/x-python",
   "name": "python",
   "nbconvert_exporter": "python",
   "pygments_lexer": "ipython3",
   "version": "3.7.9"
  },
  "orig_nbformat": 4,
  "vscode": {
   "interpreter": {
    "hash": "2652f06b02976001099b950d6147bac727240ee3cc1ef0d920bd705c8021af22"
   }
  }
 },
 "nbformat": 4,
 "nbformat_minor": 2
}
