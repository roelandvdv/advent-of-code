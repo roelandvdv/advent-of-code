{
 "cells": [
  {
   "cell_type": "code",
   "execution_count": 13,
   "metadata": {},
   "outputs": [
    {
     "data": {
      "text/plain": [
       "[[7914, 5032, 11424, 2567, 4123, 3567, 7346],\n",
       " [1334,\n",
       "  2173,\n",
       "  5437,\n",
       "  1104,\n",
       "  1872,\n",
       "  1148,\n",
       "  6547,\n",
       "  3149,\n",
       "  5923,\n",
       "  5705,\n",
       "  4036,\n",
       "  5348,\n",
       "  1100],\n",
       " [4108, 14444, 25596]]"
      ]
     },
     "execution_count": 13,
     "metadata": {},
     "output_type": "execute_result"
    }
   ],
   "source": [
    "# Load data\n",
    "with open(\"../data/day1.txt\", \"r\") as f:\n",
    "    input = f.read()\n",
    "\n",
    "data = [[int(x) for x in elf.split(\"\\n\")] for elf in input.split(\"\\n\\n\")]\n",
    "data[0:3]"
   ]
  },
  {
   "cell_type": "code",
   "execution_count": 14,
   "metadata": {},
   "outputs": [
    {
     "data": {
      "text/plain": [
       "64929"
      ]
     },
     "execution_count": 14,
     "metadata": {},
     "output_type": "execute_result"
    }
   ],
   "source": [
    "# Puzzle 1\n",
    "total_calories = [sum(elf) for elf in data]\n",
    "max(total_calories)"
   ]
  },
  {
   "cell_type": "code",
   "execution_count": 23,
   "metadata": {},
   "outputs": [
    {
     "data": {
      "text/plain": [
       "193697"
      ]
     },
     "execution_count": 23,
     "metadata": {},
     "output_type": "execute_result"
    }
   ],
   "source": [
    "# Puzzle 2\n",
    "sum(sorted(total_calories)[-3:])"
   ]
  }
 ],
 "metadata": {
  "kernelspec": {
   "display_name": "Python 3.10.8 ('aoc')",
   "language": "python",
   "name": "python3"
  },
  "language_info": {
   "codemirror_mode": {
    "name": "ipython",
    "version": 3
   },
   "file_extension": ".py",
   "mimetype": "text/x-python",
   "name": "python",
   "nbconvert_exporter": "python",
   "pygments_lexer": "ipython3",
   "version": "3.10.8"
  },
  "orig_nbformat": 4,
  "vscode": {
   "interpreter": {
    "hash": "39edcdc22a4626f005eb81abe2e5685d92e4b5b22b498c4633a0842c7173c938"
   }
  }
 },
 "nbformat": 4,
 "nbformat_minor": 2
}
