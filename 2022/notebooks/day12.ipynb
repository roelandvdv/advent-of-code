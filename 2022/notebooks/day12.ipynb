{
 "cells": [
  {
   "cell_type": "code",
   "execution_count": 40,
   "metadata": {},
   "outputs": [
    {
     "data": {
      "text/plain": [
       "array([['a', 'a', 'b', 'q', 'p', 'o', 'n', 'm'],\n",
       "       ['a', 'b', 'c', 'r', 'y', 'x', 'x', 'l'],\n",
       "       ['a', 'c', 'c', 's', 'z', 'z', 'x', 'k'],\n",
       "       ['a', 'c', 'c', 't', 'u', 'v', 'w', 'j'],\n",
       "       ['a', 'b', 'd', 'e', 'f', 'g', 'h', 'i']], dtype='<U1')"
      ]
     },
     "execution_count": 40,
     "metadata": {},
     "output_type": "execute_result"
    }
   ],
   "source": [
    "# Load data\n",
    "with open(\"../data/day12test.txt\", \"r\") as f:\n",
    "    input = f.read()\n",
    "\n",
    "from io import StringIO\n",
    "import numpy as np\n",
    "M = np.genfromtxt(StringIO(input), delimiter=1, dtype=str)\n",
    "start_coords = np.where(M == \"S\")\n",
    "end_coords = np.where(M == \"E\")\n",
    "M[start_coords] = \"a\"\n",
    "M[end_coords] = \"z\"\n",
    "M"
   ]
  },
  {
   "cell_type": "code",
   "execution_count": null,
   "metadata": {},
   "outputs": [],
   "source": [
    "# Puzzle 1\n",
    "# convert to numbers? See one of the previous puzzles for that\n",
    "\n",
    "# see previous years perhaps, 2021 day 15, Dijkstra\n",
    "# https://en.wikipedia.org/wiki/Shortest_path_problem\n",
    "\n",
    "# only add edges where possible between nodes\n",
    "\n",
    "\"b\" > \"a\""
   ]
  },
  {
   "cell_type": "code",
   "execution_count": 24,
   "metadata": {},
   "outputs": [],
   "source": [
    "import numpy as np\n",
    "import matplotlib.pyplot as plt\n",
    "import networkx as nx\n",
    "from networkx.generators.lattice import grid_2d_graph\n",
    "from networkx.algorithms.shortest_paths.weighted import bidirectional_dijkstra\n",
    "\n",
    "G = grid_2d_graph(*M.shape, create_using=nx.DiGraph)\n",
    "#G.clear_edges()\n",
    "\n",
    "for node in G.nodes:\n",
    "    G.nodes[\"letter\"] = M[node]\n",
    "\n",
    "    for edge in G.in_edges(node): # only have to do in_edges or out_edges\n",
    "        pass\n",
    "\n",
    "    \n"
   ]
  },
  {
   "cell_type": "code",
   "execution_count": 28,
   "metadata": {},
   "outputs": [],
   "source": [
    "G.nodes[(0,0)][\"letter\"] = \"a\""
   ]
  },
  {
   "cell_type": "code",
   "execution_count": 32,
   "metadata": {},
   "outputs": [
    {
     "data": {
      "text/plain": [
       "NodeView(((0, 0), (0, 1), (0, 2), (0, 3), (0, 4), (0, 5), (0, 6), (0, 7), (1, 0), (1, 1), (1, 2), (1, 3), (1, 4), (1, 5), (1, 6), (1, 7), (2, 0), (2, 1), (2, 2), (2, 3), (2, 4), (2, 5), (2, 6), (2, 7), (3, 0), (3, 1), (3, 2), (3, 3), (3, 4), (3, 5), (3, 6), (3, 7), (4, 0), (4, 1), (4, 2), (4, 3), (4, 4), (4, 5), (4, 6), (4, 7)))"
      ]
     },
     "execution_count": 32,
     "metadata": {},
     "output_type": "execute_result"
    }
   ],
   "source": [
    "G.nodes"
   ]
  },
  {
   "cell_type": "code",
   "execution_count": 23,
   "metadata": {},
   "outputs": [
    {
     "ename": "SyntaxError",
     "evalue": "can't assign to function call (3838339703.py, line 1)",
     "output_type": "error",
     "traceback": [
      "\u001b[0;36m  File \u001b[0;32m\"/var/folders/xd/dtwy8fx12_ndg8fg_8v0m0880000gn/T/ipykernel_9372/3838339703.py\"\u001b[0;36m, line \u001b[0;32m1\u001b[0m\n\u001b[0;31m    G.in_edges((0,0)) = [((1,0),(0,0))]\u001b[0m\n\u001b[0m                                       ^\u001b[0m\n\u001b[0;31mSyntaxError\u001b[0m\u001b[0;31m:\u001b[0m can't assign to function call\n"
     ]
    }
   ],
   "source": [
    "G.in_edges((0,0)) = [((1,0),(0,0))]\n",
    "G.in_edges((0,0))"
   ]
  },
  {
   "cell_type": "code",
   "execution_count": 12,
   "metadata": {},
   "outputs": [
    {
     "data": {
      "text/plain": [
       "AtlasView({(0, 1): {}, (1, 0): {}})"
      ]
     },
     "execution_count": 12,
     "metadata": {},
     "output_type": "execute_result"
    }
   ],
   "source": []
  },
  {
   "cell_type": "code",
   "execution_count": null,
   "metadata": {},
   "outputs": [],
   "source": []
  }
 ],
 "metadata": {
  "kernelspec": {
   "display_name": "Python 3.7.9 ('aoc')",
   "language": "python",
   "name": "python3"
  },
  "language_info": {
   "codemirror_mode": {
    "name": "ipython",
    "version": 3
   },
   "file_extension": ".py",
   "mimetype": "text/x-python",
   "name": "python",
   "nbconvert_exporter": "python",
   "pygments_lexer": "ipython3",
   "version": "3.7.9"
  },
  "orig_nbformat": 4,
  "vscode": {
   "interpreter": {
    "hash": "2652f06b02976001099b950d6147bac727240ee3cc1ef0d920bd705c8021af22"
   }
  }
 },
 "nbformat": 4,
 "nbformat_minor": 2
}
