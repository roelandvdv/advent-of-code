{
 "cells": [
  {
   "cell_type": "code",
   "execution_count": 92,
   "metadata": {},
   "outputs": [
    {
     "data": {
      "text/plain": [
       "array([['a', 'b', 'a', ..., 'a', 'a', 'a'],\n",
       "       ['a', 'b', 'a', ..., 'a', 'a', 'a'],\n",
       "       ['a', 'b', 'c', ..., 'a', 'a', 'a'],\n",
       "       ...,\n",
       "       ['a', 'b', 'c', ..., 'c', 'a', 'a'],\n",
       "       ['a', 'b', 'c', ..., 'a', 'a', 'a'],\n",
       "       ['a', 'b', 'c', ..., 'a', 'a', 'a']], dtype='<U1')"
      ]
     },
     "execution_count": 92,
     "metadata": {},
     "output_type": "execute_result"
    }
   ],
   "source": [
    "from io import StringIO\n",
    "import numpy as np\n",
    "import matplotlib.pyplot as plt\n",
    "import networkx as nx\n",
    "from networkx.generators.lattice import grid_2d_graph\n",
    "from networkx.algorithms.shortest_paths.weighted import bidirectional_dijkstra\n",
    "\n",
    "\n",
    "# Load data\n",
    "with open(\"../data/day12.txt\", \"r\") as f:\n",
    "    input = f.read()\n",
    "\n",
    "M = np.genfromtxt(StringIO(input), delimiter=1, dtype=str)\n",
    "start_coords = np.where(M == \"S\")\n",
    "end_coords = np.where(M == \"E\")\n",
    "M[start_coords] = \"a\"\n",
    "M[end_coords] = \"z\"\n",
    "start_tuple = tuple([c[0] for c in start_coords])\n",
    "end_tuple = tuple([c[0] for c in end_coords])\n",
    "M"
   ]
  },
  {
   "cell_type": "code",
   "execution_count": 93,
   "metadata": {},
   "outputs": [
    {
     "name": "stdout",
     "output_type": "stream",
     "text": [
      "504\n"
     ]
    }
   ],
   "source": [
    "# Puzzle 1\n",
    "# see previous years perhaps, 2021 day 15, Dijkstra\n",
    "# https://en.wikipedia.org/wiki/Shortest_path_problem\n",
    "\n",
    "\n",
    "# From previous\n",
    "def letter_to_num(letter):\n",
    "    num = ord(letter) - 96\n",
    "    if num < 0:\n",
    "        num += 58\n",
    "    return num\n",
    "\n",
    "\n",
    "G = grid_2d_graph(*M.shape, create_using=nx.DiGraph)\n",
    "\n",
    "# First assign letters\n",
    "for node in G.nodes:\n",
    "    G.nodes[node][\"letter\"] = M[node]\n",
    "\n",
    "# Iterate again to remove edges\n",
    "for node in G.nodes:\n",
    "    node_letter = G.nodes[node][\"letter\"]\n",
    "\n",
    "    edges_to_remove = []\n",
    "    for edge in G.out_edges(node): # only have to do in_edges or out_edges\n",
    "        out_letter = G.nodes[edge[1]][\"letter\"]\n",
    "        if letter_to_num(out_letter) > (letter_to_num(node_letter) + 1):\n",
    "            edges_to_remove.append(edge)\n",
    "    G.remove_edges_from(edges_to_remove)\n",
    "   \n",
    "path_length, path = bidirectional_dijkstra(G, start_tuple, end_tuple)\n",
    "print(path_length)\n",
    "\n",
    "M2 = M.copy()\n",
    "for step in path:\n",
    "    M2[step] = \".\"\n",
    "#print('\\n'.join([' '.join(row) for row in M2]))"
   ]
  },
  {
   "cell_type": "code",
   "execution_count": 95,
   "metadata": {},
   "outputs": [
    {
     "data": {
      "text/plain": [
       "500"
      ]
     },
     "execution_count": 95,
     "metadata": {},
     "output_type": "execute_result"
    }
   ],
   "source": [
    "# Puzzle 2\n",
    "\n",
    "lengths = []\n",
    "for start_tuple in zip(*np.where(M == \"a\")):\n",
    "    try:\n",
    "        path_length, _ = bidirectional_dijkstra(G, start_tuple, end_tuple)\n",
    "        lengths.append(path_length)\n",
    "    except:\n",
    "        continue\n",
    "\n",
    "min(lengths)"
   ]
  }
 ],
 "metadata": {
  "kernelspec": {
   "display_name": "Python 3.10.8 ('aoc')",
   "language": "python",
   "name": "python3"
  },
  "language_info": {
   "codemirror_mode": {
    "name": "ipython",
    "version": 3
   },
   "file_extension": ".py",
   "mimetype": "text/x-python",
   "name": "python",
   "nbconvert_exporter": "python",
   "pygments_lexer": "ipython3",
   "version": "3.10.8"
  },
  "orig_nbformat": 4,
  "vscode": {
   "interpreter": {
    "hash": "118a976d43be9101cb4bfb9c3adcabe8ebada84d72e0327935fd155bc3446a23"
   }
  }
 },
 "nbformat": 4,
 "nbformat_minor": 2
}
