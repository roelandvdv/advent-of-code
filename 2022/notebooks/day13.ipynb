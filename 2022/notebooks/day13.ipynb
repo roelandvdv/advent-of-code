{
 "cells": [
  {
   "cell_type": "code",
   "execution_count": 36,
   "metadata": {},
   "outputs": [],
   "source": [
    "# Load data\n",
    "import ast\n",
    "\n",
    "with open(\"../data/day13.txt\", \"r\") as f:\n",
    "    input = f.read()\n",
    "data = [[ast.literal_eval(part) for part in pair.split(\"\\n\")] for pair in input.split(\"\\n\\n\")]"
   ]
  },
  {
   "cell_type": "code",
   "execution_count": 37,
   "metadata": {},
   "outputs": [
    {
     "name": "stdout",
     "output_type": "stream",
     "text": [
      "6478\n"
     ]
    }
   ],
   "source": [
    "# Puzzle 1\n",
    "\n",
    "def convert(a):\n",
    "    if isinstance(a, int):\n",
    "        return [a]\n",
    "    elif isinstance(a, list):\n",
    "        return a\n",
    "    else:\n",
    "        raise TypeError\n",
    "\n",
    "\n",
    "def compare(left, right):\n",
    "    # Done if two unequal integers\n",
    "    if isinstance(left, int) and isinstance(right, int):\n",
    "        if not left == right:\n",
    "            return left < right\n",
    "        else:\n",
    "            return None\n",
    "\n",
    "    # Convert mixed types\n",
    "    left, right = convert(left), convert(right)\n",
    "    \n",
    "    # Check lists\n",
    "    n = 0\n",
    "    left_empty, right_empty = False, False\n",
    "    while True:\n",
    "        try:\n",
    "            left[n]\n",
    "        except IndexError:\n",
    "            left_empty = True\n",
    "        try:\n",
    "            right[n]\n",
    "        except IndexError:\n",
    "            right_empty = True\n",
    "        if not left_empty == right_empty:\n",
    "            return left_empty\n",
    "        if left_empty & right_empty:\n",
    "            return None # none gives right answer\n",
    "        result = compare(left[n], right[n])\n",
    "        if result != None:\n",
    "            return result\n",
    "        n += 1\n",
    "    return\n",
    "\n",
    "n = 0\n",
    "for i, pair in enumerate(data):\n",
    "    result = compare(pair[0], pair[1])\n",
    "    #print(f\"{i+1}: {result}\")\n",
    "    if result:\n",
    "        n += i+1\n",
    "print(n)"
   ]
  },
  {
   "cell_type": "code",
   "execution_count": 38,
   "metadata": {},
   "outputs": [
    {
     "name": "stdout",
     "output_type": "stream",
     "text": [
      "21922\n"
     ]
    }
   ],
   "source": [
    "# Puzzle 2\n",
    "from functools import cmp_to_key\n",
    "\n",
    "flat_data = [item for pair in data for item in pair]\n",
    "flat_data += [[[2]], [[6]]]\n",
    "\n",
    "mapping = {\n",
    "    True: 1,\n",
    "    None: 0,\n",
    "    False: -1,\n",
    "}\n",
    "comp_fun = lambda x, y: mapping[compare(x, y)]\n",
    "flat_data_sorted = sorted(flat_data, key=cmp_to_key(comp_fun), reverse=True)\n",
    "i2 = flat_data_sorted.index([[2]])+1\n",
    "i6 = flat_data_sorted.index([[6]])+1\n",
    "print(i2 * i6)"
   ]
  }
 ],
 "metadata": {
  "kernelspec": {
   "display_name": "Python 3.7.9 ('aoc')",
   "language": "python",
   "name": "python3"
  },
  "language_info": {
   "codemirror_mode": {
    "name": "ipython",
    "version": 3
   },
   "file_extension": ".py",
   "mimetype": "text/x-python",
   "name": "python",
   "nbconvert_exporter": "python",
   "pygments_lexer": "ipython3",
   "version": "3.7.9"
  },
  "orig_nbformat": 4,
  "vscode": {
   "interpreter": {
    "hash": "2652f06b02976001099b950d6147bac727240ee3cc1ef0d920bd705c8021af22"
   }
  }
 },
 "nbformat": 4,
 "nbformat_minor": 2
}
