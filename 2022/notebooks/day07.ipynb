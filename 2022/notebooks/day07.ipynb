{
 "cells": [
  {
   "cell_type": "code",
   "execution_count": 97,
   "metadata": {},
   "outputs": [],
   "source": [
    "# Load data\n",
    "with open(\"../data/day07.txt\", \"r\") as f:\n",
    "    input = f.read()\n",
    "data = input.splitlines()"
   ]
  },
  {
   "cell_type": "code",
   "execution_count": 98,
   "metadata": {},
   "outputs": [],
   "source": [
    "from anytree import Node, RenderTree, search\n",
    "\n",
    "# Build tree\n",
    "root = Node(\"/\", type=\"dir\", parent=None)\n",
    "current_dir = root\n",
    "\n",
    "for line in data[1:]:\n",
    "    if line.startswith(\"$ cd\"):\n",
    "        name = line.split(\" \")[2]\n",
    "        if name == \"..\":\n",
    "            current_dir = current_dir.parent\n",
    "        else:\n",
    "            current_dir = [child for child in current_dir.children if child.name == name][0]\n",
    "        continue\n",
    "    if line.startswith(\"$ ls\"):\n",
    "        continue\n",
    "\n",
    "    if line.startswith(\"dir\"):\n",
    "        name = line.split(\" \")[1]\n",
    "        Node(name, type=\"dir\", parent=current_dir)\n",
    "    else:\n",
    "        size, name = line.split(\" \")\n",
    "        Node(name, type=\"file\", size=int(size), parent=current_dir)\n",
    "        \n",
    "#print(RenderTree(root))\n",
    "\n",
    "# Make list of dir sizes\n",
    "dirs = search.findall(root, filter_=lambda node: node.type == \"dir\")\n",
    "sizes = []\n",
    "for dir in dirs:\n",
    "    dir_size = 0\n",
    "    for node in dir.descendants:\n",
    "        if node.type == \"file\":\n",
    "            dir_size += node.size\n",
    "    sizes.append(dir_size)"
   ]
  },
  {
   "cell_type": "code",
   "execution_count": 99,
   "metadata": {},
   "outputs": [
    {
     "data": {
      "text/plain": [
       "1348005"
      ]
     },
     "execution_count": 99,
     "metadata": {},
     "output_type": "execute_result"
    }
   ],
   "source": [
    "# Puzzle 1\n",
    "sum([size for size in sizes if size <= 100_000])"
   ]
  },
  {
   "cell_type": "code",
   "execution_count": 100,
   "metadata": {},
   "outputs": [
    {
     "data": {
      "text/plain": [
       "12785886"
      ]
     },
     "execution_count": 100,
     "metadata": {},
     "output_type": "execute_result"
    }
   ],
   "source": [
    "# Puzzle 2\n",
    "free_space = 70_000_000 - max(sizes)\n",
    "required_extra = 30_000_000 - free_space\n",
    "min([size for size in sizes if size >= required_extra])"
   ]
  }
 ],
 "metadata": {
  "kernelspec": {
   "display_name": "Python 3.10.8 ('aoc')",
   "language": "python",
   "name": "python3"
  },
  "language_info": {
   "codemirror_mode": {
    "name": "ipython",
    "version": 3
   },
   "file_extension": ".py",
   "mimetype": "text/x-python",
   "name": "python",
   "nbconvert_exporter": "python",
   "pygments_lexer": "ipython3",
   "version": "3.10.8"
  },
  "orig_nbformat": 4,
  "vscode": {
   "interpreter": {
    "hash": "39edcdc22a4626f005eb81abe2e5685d92e4b5b22b498c4633a0842c7173c938"
   }
  }
 },
 "nbformat": 4,
 "nbformat_minor": 2
}
