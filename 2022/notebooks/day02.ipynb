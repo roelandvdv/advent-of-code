{
 "cells": [
  {
   "cell_type": "code",
   "execution_count": 19,
   "metadata": {},
   "outputs": [
    {
     "data": {
      "text/plain": [
       "[['C', 'X'], ['A', 'Y'], ['C', 'Z']]"
      ]
     },
     "execution_count": 19,
     "metadata": {},
     "output_type": "execute_result"
    }
   ],
   "source": [
    "# Load data\n",
    "with open(\"../data/day02.txt\", \"r\") as f:\n",
    "    input = f.read()\n",
    "\n",
    "data = [line.split(\" \") for line in input.split(\"\\n\")]\n",
    "data[0:3]"
   ]
  },
  {
   "cell_type": "code",
   "execution_count": 20,
   "metadata": {},
   "outputs": [
    {
     "name": "stdout",
     "output_type": "stream",
     "text": [
      "12679\n"
     ]
    }
   ],
   "source": [
    "# Puzzle 1\n",
    "winning = [\n",
    "    [\"A\", \"Y\"],\n",
    "    [\"B\", \"Z\"],\n",
    "    [\"C\", \"X\"],\n",
    "]\n",
    "draw = [\n",
    "    [\"A\", \"X\"],\n",
    "    [\"B\", \"Y\"],\n",
    "    [\"C\", \"Z\"],\n",
    "]\n",
    "shape_score = {\n",
    "    \"X\": 1, \"Y\": 2, \"Z\": 3\n",
    "}\n",
    "\n",
    "score = 0\n",
    "for round in data:\n",
    "    if round in winning:\n",
    "        score += 6\n",
    "    if round in draw:\n",
    "        score += 3\n",
    "    score += shape_score[round[1]]\n",
    "print(score)"
   ]
  },
  {
   "cell_type": "code",
   "execution_count": 21,
   "metadata": {},
   "outputs": [
    {
     "name": "stdout",
     "output_type": "stream",
     "text": [
      "14470\n"
     ]
    }
   ],
   "source": [
    "# Puzzle 2\n",
    "opponent = {\n",
    "    \"A\": 0,\n",
    "    \"B\": 1,\n",
    "    \"C\": 2,\n",
    "}\n",
    "\n",
    "result = {\n",
    "    \"X\": -1,\n",
    "    \"Y\": 0,\n",
    "    \"Z\": 1,\n",
    "}\n",
    "\n",
    "score = 0\n",
    "for round in data:\n",
    "    you = (3 + opponent[round[0]] + result[round[1]]) % 3\n",
    "    score += (result[round[1]] + 1) * 3\n",
    "    score += you + 1\n",
    "print(score)"
   ]
  },
  {
   "cell_type": "code",
   "execution_count": null,
   "metadata": {},
   "outputs": [],
   "source": []
  }
 ],
 "metadata": {
  "kernelspec": {
   "display_name": "Python 3.10.8 ('aoc')",
   "language": "python",
   "name": "python3"
  },
  "language_info": {
   "codemirror_mode": {
    "name": "ipython",
    "version": 3
   },
   "file_extension": ".py",
   "mimetype": "text/x-python",
   "name": "python",
   "nbconvert_exporter": "python",
   "pygments_lexer": "ipython3",
   "version": "3.10.8"
  },
  "orig_nbformat": 4,
  "vscode": {
   "interpreter": {
    "hash": "118a976d43be9101cb4bfb9c3adcabe8ebada84d72e0327935fd155bc3446a23"
   }
  }
 },
 "nbformat": 4,
 "nbformat_minor": 2
}
