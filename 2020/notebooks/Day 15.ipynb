{
 "cells": [
  {
   "cell_type": "code",
   "execution_count": 4,
   "metadata": {},
   "outputs": [],
   "source": [
    "# Load data\n",
    "puzzle_input = [6,13,1,15,2,0]\n",
    "\n",
    "puzzle_input = [0,3,6] #436\n"
   ]
  },
  {
   "cell_type": "code",
   "execution_count": 20,
   "metadata": {},
   "outputs": [
    {
     "output_type": "stream",
     "name": "stdout",
     "text": [
      "0\n[0, 3, 6, 0]\n0\n[0, 3, 6, 0, 2, 0]\n0\n[0, 3, 6, 0, 2, 0, 1, 0]\n1\n[0, 3, 6, 0, 2, 0, 1, 0, 1]\n[0, 3, 6, 0, 2, 0, 1, 0, 1, 1]\n"
     ]
    }
   ],
   "source": [
    "\n",
    "number_history = []\n",
    "for k in range(0,10):\n",
    "    if k < len(puzzle_input):\n",
    "        spoken_number = puzzle_input[k]\n",
    "    else:\n",
    "        if not spoken_number in number_history[:-1]:\n",
    "            spoken_number = 0\n",
    "        else:\n",
    "            print(spoken_number)\n",
    "            print(number_history)\n",
    "            spoken_number = number_history[-2::-1].index(spoken_number)\n",
    "\n",
    "    number_history.append(spoken_number)\n",
    "print(number_history)"
   ]
  },
  {
   "cell_type": "code",
   "execution_count": 29,
   "metadata": {},
   "outputs": [
    {
     "output_type": "stream",
     "name": "stdout",
     "text": [
      "[1, 1, 0, 1, 0, 2, 0, 6, 3, 0]\n2\n4\n"
     ]
    }
   ],
   "source": [
    "print(number_history[::-1])\n",
    "last_time = number_history[::-1].index(0)\n",
    "print(last_time)\n",
    "last_time = number_history[::-1].index(0, last_time+1)\n",
    "print(last_time)"
   ]
  },
  {
   "cell_type": "code",
   "execution_count": 16,
   "metadata": {},
   "outputs": [
    {
     "output_type": "execute_result",
     "data": {
      "text/plain": [
       "[0, 0, 0, 0, 0, 0, 6, 3, 0]"
      ]
     },
     "metadata": {},
     "execution_count": 16
    }
   ],
   "source": [
    "number_history[-2::-1]"
   ]
  },
  {
   "cell_type": "code",
   "execution_count": null,
   "metadata": {},
   "outputs": [],
   "source": []
  }
 ],
 "metadata": {
  "kernelspec": {
   "name": "aoc",
   "display_name": "aoc",
   "language": "python"
  },
  "language_info": {
   "codemirror_mode": {
    "name": "ipython",
    "version": 3
   },
   "file_extension": ".py",
   "mimetype": "text/x-python",
   "name": "python",
   "nbconvert_exporter": "python",
   "pygments_lexer": "ipython3",
   "version": "3.7.9-final"
  }
 },
 "nbformat": 4,
 "nbformat_minor": 2
}