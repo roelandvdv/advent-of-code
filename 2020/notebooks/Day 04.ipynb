{
 "cells": [
  {
   "cell_type": "code",
   "execution_count": 17,
   "metadata": {
    "tags": []
   },
   "outputs": [
    {
     "output_type": "execute_result",
     "data": {
      "text/plain": [
       "['ecl:hzl byr:1926 iyr:2010\\npid:221225902 cid:61 hgt:186cm eyr:2021 hcl:#7d3b0c',\n",
       " 'hcl:#efcc98 hgt:178 pid:433543520\\neyr:2020 byr:1926\\necl:blu cid:92\\niyr:2010',\n",
       " 'iyr:2018\\neyr:2026\\nbyr:1946 ecl:brn\\nhcl:#b6652a hgt:158cm\\npid:822320101',\n",
       " 'iyr:2010\\nhgt:138 ecl:grn pid:21019503 eyr:1937 byr:2008 hcl:z',\n",
       " 'byr:2018 hcl:z eyr:1990 ecl:#d06796 iyr:2019\\nhgt:176in cid:75 pid:153cm',\n",
       " 'byr:1994\\nhcl:#ceb3a1 hgt:176cm cid:80 pid:665071929 eyr:2024 iyr:2020 ecl:grn',\n",
       " 'cid:280 byr:1955 ecl:blu hgt:155cm hcl:#733820\\neyr:2013 iyr:2011 pid:2346820632',\n",
       " 'hcl:#4a5917 hgt:61cm\\npid:4772651050\\niyr:2026 ecl:brn byr:2015 eyr:2026',\n",
       " 'iyr:2019 hcl:#a97842 hgt:182cm eyr:2024 ecl:gry pid:917294399 byr:1974',\n",
       " 'ecl:#9c635c pid:830491851 hgt:175cm cid:141\\niyr:2010\\nhcl:z\\nbyr:2026 eyr:1998']"
      ]
     },
     "metadata": {},
     "execution_count": 17
    }
   ],
   "source": [
    "# Load data\n",
    "with open(\"../data/day4.txt\", \"r\") as f:\n",
    "    input = f.read()\n",
    "\n",
    "data = input.split(\"\\n\\n\")\n",
    "data[0:10]"
   ]
  },
  {
   "cell_type": "code",
   "execution_count": 18,
   "metadata": {},
   "outputs": [
    {
     "output_type": "stream",
     "name": "stdout",
     "text": [
      "237\n172\n"
     ]
    }
   ],
   "source": [
    "# Puzzle 1 & 2\n",
    "import re\n",
    "\n",
    "required_keys = (\"byr\", \"iyr\", \"eyr\", \"hgt\", \"hcl\", \"ecl\", \"pid\")\n",
    "\n",
    "m1 = 0\n",
    "m2 = 0\n",
    "for line in data:\n",
    "    elements = [element.split(\":\") for element in line.replace(\"\\n\", \" \").split(\" \")]\n",
    "    element_dict = {element[0]:element[1] for element in elements}\n",
    "        \n",
    "    if all (k in element_dict for k in required_keys):\n",
    "        m1 += 1\n",
    "            \n",
    "        byr_correct = 1920 <= int(element_dict[\"byr\"]) <= 2002\n",
    "        iyr_correct = 2010 <= int(element_dict[\"iyr\"]) <= 2020\n",
    "        eyr_correct = 2020 <= int(element_dict[\"eyr\"]) <= 2030\n",
    "        \n",
    "        hgt_correct = False\n",
    "        match = re.match(\"^([0-9]*)(cm|in)$\", element_dict[\"hgt\"])\n",
    "        if match is not None:\n",
    "            if match[2] == \"cm\":\n",
    "                hgt_correct = 150 <= int(match[1]) <= 193\n",
    "            if match[2] == \"in\":\n",
    "                hgt_correct = 59 <= int(match[1]) <= 76\n",
    "        \n",
    "        hcl_correct = re.match(\"^#[0-9a-f]{6}$\", element_dict[\"hcl\"]) is not None\n",
    "        ecl_correct = element_dict[\"ecl\"] in (\"amb\", \"blu\", \"brn\", \"gry\", \"grn\", \"hzl\", \"oth\")\n",
    "        pid_correct = re.match(\"^[0-9]{9}$\", element_dict[\"pid\"]) is not None\n",
    "        \n",
    "        if byr_correct & iyr_correct & eyr_correct & hgt_correct & hcl_correct & ecl_correct & pid_correct:\n",
    "            m2 += 1\n",
    "\n",
    "print(m1)\n",
    "print(m2)"
   ]
  },
  {
   "cell_type": "code",
   "execution_count": 19,
   "metadata": {},
   "outputs": [],
   "source": [
    "#byr (Birth Year) - four digits; at least 1920 and at most 2002.\n",
    "#iyr (Issue Year) - four digits; at least 2010 and at most 2020.\n",
    "#eyr (Expiration Year) - four digits; at least 2020 and at most 2030.\n",
    "#hgt (Height) - a number followed by either cm or in:\n",
    "#If cm, the number must be at least 150 and at most 193.\n",
    "#If in, the number must be at least 59 and at most 76.\n",
    "#hcl (Hair Color) - a # followed by exactly six characters 0-9 or a-f.\n",
    "#ecl (Eye Color) - exactly one of: amb blu brn gry grn hzl oth.\n",
    "#pid (Passport ID) - a nine-digit number, including leading zeroes.\n",
    "#cid (Country ID) - ignored, missing or not."
   ]
  },
  {
   "cell_type": "code",
   "execution_count": null,
   "metadata": {},
   "outputs": [],
   "source": []
  }
 ],
 "metadata": {
  "kernelspec": {
   "display_name": "aoc",
   "language": "python",
   "name": "aoc"
  },
  "language_info": {
   "codemirror_mode": {
    "name": "ipython",
    "version": 3
   },
   "file_extension": ".py",
   "mimetype": "text/x-python",
   "name": "python",
   "nbconvert_exporter": "python",
   "pygments_lexer": "ipython3",
   "version": "3.7.9-final"
  }
 },
 "nbformat": 4,
 "nbformat_minor": 2
}