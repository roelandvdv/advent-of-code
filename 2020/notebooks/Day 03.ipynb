{
 "cells": [
  {
   "cell_type": "code",
   "execution_count": 8,
   "metadata": {},
   "outputs": [
    {
     "output_type": "execute_result",
     "data": {
      "text/plain": [
       "[[8, 11, 13, 14, 16],\n",
       " [3, 19, 21],\n",
       " [3, 6, 10, 13, 14, 19],\n",
       " [3, 17, 22, 28],\n",
       " [2, 9, 12, 16, 24],\n",
       " [14, 15],\n",
       " [0, 8, 18, 25, 30],\n",
       " [1, 7, 8, 9, 15, 19, 21, 23, 27],\n",
       " [0, 22, 27, 29],\n",
       " [7, 27]]"
      ]
     },
     "metadata": {},
     "execution_count": 8
    }
   ],
   "source": [
    "# Load data\n",
    "import re\n",
    "\n",
    "with open(\"../data/day3.txt\", \"r\") as f:\n",
    "    input = f.read()\n",
    "\n",
    "input_n = []\n",
    "for line in input.split(\"\\n\"):\n",
    "    input_n.append([m.start() for m in re.finditer('#', line)])\n",
    "    \n",
    "input_n[0:10]"
   ]
  },
  {
   "cell_type": "code",
   "execution_count": 11,
   "metadata": {},
   "outputs": [
    {
     "output_type": "stream",
     "name": "stdout",
     "text": [
      "250\n"
     ]
    }
   ],
   "source": [
    "# Puzzle 1\n",
    "pos_x = 0\n",
    "tree_count = 0\n",
    "\n",
    "for line in input_n:\n",
    "    if (pos_x % 31) in line:\n",
    "        tree_count += 1\n",
    "    pos_x += 3\n",
    "\n",
    "print(tree_count)"
   ]
  },
  {
   "cell_type": "code",
   "execution_count": 12,
   "metadata": {},
   "outputs": [
    {
     "output_type": "stream",
     "name": "stdout",
     "text": [
      "[55, 250, 54, 55, 39]\n1592662500\n"
     ]
    }
   ],
   "source": [
    "# Puzzle 2\n",
    "# Generalize to skip m lines\n",
    "import numpy as np\n",
    "\n",
    "steps_x = [1, 3, 5, 7, 1]\n",
    "steps_y = [1, 1, 1, 1, 2]\n",
    "\n",
    "trees = []\n",
    "for (x, y) in zip(steps_x, steps_y):\n",
    "    pos_x = 0\n",
    "    pos_y = 0\n",
    "    tree_count = 0\n",
    "\n",
    "    for line in input_n:\n",
    "        if pos_y % y == 0:\n",
    "            if (pos_x % 31) in line:\n",
    "                tree_count += 1\n",
    "            pos_x += x\n",
    "\n",
    "        pos_y += 1\n",
    "\n",
    "    trees.append(tree_count)\n",
    "\n",
    "print(trees)\n",
    "print(np.prod(trees))"
   ]
  },
  {
   "cell_type": "code",
   "execution_count": null,
   "metadata": {},
   "outputs": [],
   "source": []
  }
 ],
 "metadata": {
  "kernelspec": {
   "display_name": "aoc",
   "language": "python",
   "name": "aoc"
  },
  "language_info": {
   "codemirror_mode": {
    "name": "ipython",
    "version": 3
   },
   "file_extension": ".py",
   "mimetype": "text/x-python",
   "name": "python",
   "nbconvert_exporter": "python",
   "pygments_lexer": "ipython3",
   "version": "3.7.9-final"
  }
 },
 "nbformat": 4,
 "nbformat_minor": 2
}