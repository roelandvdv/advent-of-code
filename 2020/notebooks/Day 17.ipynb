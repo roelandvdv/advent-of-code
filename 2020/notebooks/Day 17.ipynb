{
 "cells": [
  {
   "cell_type": "code",
   "execution_count": 90,
   "metadata": {
    "tags": []
   },
   "outputs": [
    {
     "output_type": "execute_result",
     "data": {
      "text/plain": [
       "array([[1, 0, 1, 0, 1, 0, 1, 1],\n",
       "       [0, 1, 1, 1, 1, 0, 0, 1],\n",
       "       [1, 1, 1, 1, 1, 0, 1, 0],\n",
       "       [1, 1, 1, 1, 1, 0, 0, 1],\n",
       "       [1, 0, 0, 0, 0, 1, 1, 1],\n",
       "       [1, 1, 1, 0, 0, 0, 1, 1],\n",
       "       [0, 0, 0, 1, 0, 1, 0, 1],\n",
       "       [1, 0, 1, 1, 0, 0, 1, 1]])"
      ]
     },
     "metadata": {},
     "execution_count": 90
    }
   ],
   "source": [
    "# Load data\n",
    "import numpy as np\n",
    "\n",
    "with open(\"../data/day17.txt\", \"r\") as f:\n",
    "    input = f.read()\n",
    "\n",
    "#test_input = \".#.\\n..#\\n###\"\n",
    "\n",
    "initial = np.array(\n",
    "    [[int(character.replace(\".\", \"0\").replace(\"#\", \"1\")) for character in line] for line in input.split(\"\\n\")]\n",
    ")\n",
    "initial"
   ]
  },
  {
   "cell_type": "code",
   "execution_count": 99,
   "metadata": {},
   "outputs": [
    {
     "output_type": "stream",
     "name": "stdout",
     "text": [
      "73\n",
      "77\n",
      "160\n",
      "162\n",
      "332\n",
      "267\n"
     ]
    }
   ],
   "source": [
    "# Puzzle 1\n",
    "# To improve:\n",
    "# - sparse matrix?\n",
    "# - expanding grid\n",
    "\n",
    "#If a cube is active and exactly 2 or 3 of its neighbors are also active, the cube remains active. Otherwise, the cube becomes inactive.\n",
    "#If a cube is inactive but exactly 3 of its neighbors are active, the cube becomes active. Otherwise, the cube remains inactive.\n",
    "\n",
    "def get_nn(M, coordinates):\n",
    "    selection = M[\n",
    "        coordinates[0]-1:coordinates[0]+2,\n",
    "        coordinates[1]-1:coordinates[1]+2,\n",
    "        coordinates[2]-1:coordinates[2]+2\n",
    "    ]\n",
    "    return np.count_nonzero(selection) - (M[coordinates] != 0), selection\n",
    "\n",
    "\n",
    "# Initialize grid (make sure it's big enough)\n",
    "size = 20\n",
    "center = 10\n",
    "\n",
    "M = np.zeros((size, size, size))\n",
    "M[center, center-4:center+4,center-4:center+4] = initial\n",
    "\n",
    "for k in range(0,6):\n",
    "\n",
    "    M_new = M.copy() # can be removed if we collect updates, then apply at once\n",
    "    for z in range(0, size): # can also be done with itertools.permutations\n",
    "        for x in range(0, size):\n",
    "            for y in range(0, size):\n",
    "                coordinates = (z, x, y)\n",
    "                is_active = M[coordinates] != 0\n",
    "                nn = get_nn(M, coordinates)[0]\n",
    "\n",
    "                if is_active:\n",
    "                    if not nn in [2, 3]:\n",
    "                        M_new[coordinates] = 0\n",
    "                else:\n",
    "                    if nn == 3:\n",
    "                        M_new[coordinates] = 1\n",
    "\n",
    "    M = M_new\n",
    "    print(np.count_nonzero(M_new))\n",
    "\n",
    "#print(M)\n",
    "#print(M_new)"
   ]
  },
  {
   "cell_type": "code",
   "execution_count": 100,
   "metadata": {},
   "outputs": [
    {
     "output_type": "stream",
     "name": "stdout",
     "text": [
      "205\n",
      "176\n",
      "1044\n",
      "544\n",
      "1920\n",
      "1812\n"
     ]
    }
   ],
   "source": [
    "# Puzzle 2\n",
    "# 4D\n",
    "\n",
    "def get_nn(M, coordinates):\n",
    "    selection = M[\n",
    "        coordinates[0]-1:coordinates[0]+2,\n",
    "        coordinates[1]-1:coordinates[1]+2,\n",
    "        coordinates[2]-1:coordinates[2]+2,\n",
    "        coordinates[3]-1:coordinates[3]+2\n",
    "    ]\n",
    "    return np.count_nonzero(selection) - (M[coordinates] != 0), selection\n",
    "\n",
    "\n",
    "# Initialize grid\n",
    "size = 20\n",
    "center = 10\n",
    "\n",
    "M = np.zeros((size, size, size, size))\n",
    "M[center, center, center-4:center+4,center-4:center+4] = initial\n",
    "\n",
    "for k in range(0,6):\n",
    "\n",
    "    M_new = M.copy()\n",
    "    for w in range(0, size):\n",
    "        for z in range(0, size):\n",
    "            for x in range(0, size):\n",
    "                for y in range(0, size):\n",
    "                    coordinates = (w, z, x, y)\n",
    "                    is_active = M[coordinates] != 0\n",
    "                    nn = get_nn(M, coordinates)[0]\n",
    "\n",
    "                    if is_active:\n",
    "                        if not nn in [2, 3]:\n",
    "                            M_new[coordinates] = 0\n",
    "                    else:\n",
    "                        if nn == 3:\n",
    "                            M_new[coordinates] = 1\n",
    "\n",
    "    M = M_new\n",
    "    print(np.count_nonzero(M_new))"
   ]
  },
  {
   "cell_type": "code",
   "execution_count": null,
   "metadata": {},
   "outputs": [],
   "source": []
  }
 ],
 "metadata": {
  "kernelspec": {
   "name": "aoc",
   "display_name": "aoc",
   "language": "python"
  },
  "language_info": {
   "codemirror_mode": {
    "name": "ipython",
    "version": 3
   },
   "file_extension": ".py",
   "mimetype": "text/x-python",
   "name": "python",
   "nbconvert_exporter": "python",
   "pygments_lexer": "ipython3",
   "version": "3.7.9-final"
  }
 },
 "nbformat": 4,
 "nbformat_minor": 2
}