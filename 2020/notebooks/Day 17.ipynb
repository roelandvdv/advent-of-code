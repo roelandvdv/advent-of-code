{
 "cells": [
  {
   "cell_type": "code",
   "execution_count": 5,
   "metadata": {
    "tags": []
   },
   "outputs": [
    {
     "output_type": "execute_result",
     "data": {
      "text/plain": [
       "array([[1, 0, 1, 0, 1, 0, 1, 1],\n",
       "       [0, 1, 1, 1, 1, 0, 0, 1],\n",
       "       [1, 1, 1, 1, 1, 0, 1, 0],\n",
       "       [1, 1, 1, 1, 1, 0, 0, 1],\n",
       "       [1, 0, 0, 0, 0, 1, 1, 1],\n",
       "       [1, 1, 1, 0, 0, 0, 1, 1],\n",
       "       [0, 0, 0, 1, 0, 1, 0, 1],\n",
       "       [1, 0, 1, 1, 0, 0, 1, 1]])"
      ]
     },
     "metadata": {},
     "execution_count": 5
    }
   ],
   "source": [
    "# Load data\n",
    "import numpy as np\n",
    "\n",
    "with open(\"../data/day17.txt\", \"r\") as f:\n",
    "    input = f.read()\n",
    "\n",
    "test_input = \".#.\\n..#\\n###\"\n",
    "\n",
    "initial = np.array(\n",
    "    [[int(character.replace(\".\", \"0\").replace(\"#\", \"1\")) for character in line] for line in input.split(\"\\n\")]\n",
    ")\n",
    "initial"
   ]
  },
  {
   "cell_type": "code",
   "execution_count": 30,
   "metadata": {
    "tags": []
   },
   "outputs": [
    {
     "output_type": "stream",
     "name": "stdout",
     "text": [
      "73\n77\n160\n162\n332\n267\n0.23926591873168945\n"
     ]
    }
   ],
   "source": [
    "# Puzzle 1\n",
    "# To improve:\n",
    "# - sparse matrix? > no obvious solution\n",
    "# - expanding grid > use checks, but might slow things down\n",
    "# - collect updates and apply at once instead of copying matrix > not faster\n",
    "# - itertools instead of nested loops > not faster\n",
    "\n",
    "# rules:\n",
    "# - If a cube is active and exactly 2 or 3 of its neighbors are also active, the cube remains active. Otherwise, the cube becomes inactive.\n",
    "# - If a cube is inactive but exactly 3 of its neighbors are active, the cube becomes active. Otherwise, the cube remains inactive.\n",
    "import time\n",
    "from itertools import product\n",
    "\n",
    "def get_nn(M, coordinates):\n",
    "    selection = M[\n",
    "        coordinates[0]-1:coordinates[0]+2,\n",
    "        coordinates[1]-1:coordinates[1]+2,\n",
    "        coordinates[2]-1:coordinates[2]+2\n",
    "    ]\n",
    "    return np.count_nonzero(selection) - (M[coordinates] != 0), selection\n",
    "\n",
    "# Initialize grid (make sure it's big enough)\n",
    "size = 20\n",
    "center = 10\n",
    "\n",
    "M = np.zeros((size, size, size))\n",
    "M[center, center-4:center+4,center-4:center+4] = initial\n",
    "\n",
    "# Loop\n",
    "t = time.time()\n",
    "for k in range(0,6):\n",
    "    updates = {}\n",
    "    for coordinates in product(range(1,size-1), repeat=3): # because it is exhausted\n",
    "        nn = get_nn(M, coordinates)[0]\n",
    "        if M[coordinates] == 1:\n",
    "            if not nn in [2, 3]:\n",
    "                updates[coordinates] = 0\n",
    "        else:\n",
    "            if nn == 3:\n",
    "                updates[coordinates] = 1\n",
    "\n",
    "    for coordinates, value in updates.items():\n",
    "        M[coordinates] = value\n",
    "    print(np.count_nonzero(M))\n",
    "\n",
    "elapsed = time.time() - t\n",
    "print(elapsed)"
   ]
  },
  {
   "cell_type": "code",
   "execution_count": 31,
   "metadata": {},
   "outputs": [
    {
     "output_type": "stream",
     "name": "stdout",
     "text": [
      "205\n",
      "176\n",
      "1044\n",
      "544\n",
      "1920\n",
      "1812\n",
      "4.559570074081421\n"
     ]
    }
   ],
   "source": [
    "# Puzzle 2\n",
    "# 4D\n",
    "\n",
    "def get_nn(M, coordinates):\n",
    "    selection = M[\n",
    "        coordinates[0]-1:coordinates[0]+2,\n",
    "        coordinates[1]-1:coordinates[1]+2,\n",
    "        coordinates[2]-1:coordinates[2]+2,\n",
    "        coordinates[3]-1:coordinates[3]+2\n",
    "    ]\n",
    "    return np.count_nonzero(selection) - (M[coordinates] != 0), selection\n",
    "\n",
    "# Initialize grid\n",
    "size = 20\n",
    "center = 10\n",
    "\n",
    "M = np.zeros((size, size, size, size))\n",
    "M[center, center, center-4:center+4,center-4:center+4] = initial\n",
    "\n",
    "# Loop\n",
    "t = time.time()\n",
    "for k in range(0,6):\n",
    "    updates = {}\n",
    "    for coordinates in product(range(1,size-1), repeat=4): # because it is exhausted\n",
    "        nn = get_nn(M, coordinates)[0]\n",
    "        if M[coordinates] == 1:\n",
    "            if not nn in [2, 3]:\n",
    "                updates[coordinates] = 0\n",
    "        else:\n",
    "            if nn == 3:\n",
    "                updates[coordinates] = 1\n",
    "\n",
    "    for coordinates, value in updates.items():\n",
    "        M[coordinates] = value\n",
    "    print(np.count_nonzero(M))\n",
    "\n",
    "elapsed = time.time() - t\n",
    "print(elapsed)"
   ]
  },
  {
   "cell_type": "code",
   "execution_count": null,
   "metadata": {},
   "outputs": [],
   "source": []
  }
 ],
 "metadata": {
  "kernelspec": {
   "name": "aoc",
   "display_name": "aoc",
   "language": "python"
  },
  "language_info": {
   "codemirror_mode": {
    "name": "ipython",
    "version": 3
   },
   "file_extension": ".py",
   "mimetype": "text/x-python",
   "name": "python",
   "nbconvert_exporter": "python",
   "pygments_lexer": "ipython3",
   "version": "3.7.9-final"
  }
 },
 "nbformat": 4,
 "nbformat_minor": 2
}