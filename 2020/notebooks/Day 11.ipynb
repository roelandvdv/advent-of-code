{
 "cells": [
  {
   "cell_type": "code",
   "execution_count": 33,
   "metadata": {},
   "outputs": [
    {
     "output_type": "execute_result",
     "data": {
      "text/plain": [
       "[['L', '.', 'L', 'L', '.', 'L', 'L', '.', 'L', 'L'],\n",
       " ['L', 'L', 'L', 'L', 'L', 'L', 'L', '.', 'L', 'L'],\n",
       " ['L', '.', 'L', '.', 'L', '.', '.', 'L', '.', '.'],\n",
       " ['L', 'L', 'L', 'L', '.', 'L', 'L', '.', 'L', 'L'],\n",
       " ['L', '.', 'L', 'L', '.', 'L', 'L', '.', 'L', 'L'],\n",
       " ['L', '.', 'L', 'L', 'L', 'L', 'L', '.', 'L', 'L'],\n",
       " ['.', '.', 'L', '.', 'L', '.', '.', '.', '.', '.'],\n",
       " ['L', 'L', 'L', 'L', 'L', 'L', 'L', 'L', 'L', 'L'],\n",
       " ['L', '.', 'L', 'L', 'L', 'L', 'L', 'L', '.', 'L'],\n",
       " ['L', '.', 'L', 'L', 'L', 'L', 'L', '.', 'L', 'L']]"
      ]
     },
     "metadata": {},
     "execution_count": 33
    }
   ],
   "source": [
    "# Load data\n",
    "with open(\"../data/day11test.txt\", \"r\") as f:\n",
    "    input = f.read()\n",
    "\n",
    "data = [list(line) for line in input.split(\"\\n\")]\n",
    "data\n",
    "\n",
    "#np.loadtxt(\"../data/day11test.txt\", dtype=str, converters={0: lambda s: list(s)})"
   ]
  },
  {
   "cell_type": "code",
   "execution_count": 34,
   "metadata": {},
   "outputs": [
    {
     "output_type": "execute_result",
     "data": {
      "text/plain": [
       "array([['L', '.', 'L', 'L', '.', 'L', 'L', '.', 'L', 'L'],\n",
       "       ['L', 'L', 'L', 'L', 'L', 'L', 'L', '.', 'L', 'L'],\n",
       "       ['L', '.', 'L', '.', 'L', '.', '.', 'L', '.', '.'],\n",
       "       ['L', 'L', 'L', 'L', '.', 'L', 'L', '.', 'L', 'L'],\n",
       "       ['L', '.', 'L', 'L', '.', 'L', 'L', '.', 'L', 'L'],\n",
       "       ['L', '.', 'L', 'L', 'L', 'L', 'L', '.', 'L', 'L'],\n",
       "       ['.', '.', 'L', '.', 'L', '.', '.', '.', '.', '.'],\n",
       "       ['L', 'L', 'L', 'L', 'L', 'L', 'L', 'L', 'L', 'L'],\n",
       "       ['L', '.', 'L', 'L', 'L', 'L', 'L', 'L', '.', 'L'],\n",
       "       ['L', '.', 'L', 'L', 'L', 'L', 'L', '.', 'L', 'L']], dtype='<U1')"
      ]
     },
     "metadata": {},
     "execution_count": 34
    }
   ],
   "source": [
    "import numpy as np\n",
    "np.array(data)"
   ]
  },
  {
   "cell_type": "code",
   "execution_count": null,
   "metadata": {},
   "outputs": [],
   "source": []
  }
 ],
 "metadata": {
  "kernelspec": {
   "name": "aoc",
   "display_name": "aoc",
   "language": "python"
  },
  "language_info": {
   "codemirror_mode": {
    "name": "ipython",
    "version": 3
   },
   "file_extension": ".py",
   "mimetype": "text/x-python",
   "name": "python",
   "nbconvert_exporter": "python",
   "pygments_lexer": "ipython3",
   "version": "3.7.9-final"
  }
 },
 "nbformat": 4,
 "nbformat_minor": 2
}