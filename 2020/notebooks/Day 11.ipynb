{
 "cells": [
  {
   "cell_type": "code",
   "execution_count": 139,
   "metadata": {},
   "outputs": [],
   "source": [
    "# Load data\n",
    "with open(\"../data/day11test.txt\", \"r\") as f:\n",
    "    input = f.read()\n",
    "\n",
    "data = [list(line) for line in input.split(\"\\n\")]\n",
    "\n",
    "#np.loadtxt(\"../data/day11test.txt\", dtype=str, converters={0: lambda s: list(s)})"
   ]
  },
  {
   "cell_type": "code",
   "execution_count": 181,
   "metadata": {},
   "outputs": [
    {
     "output_type": "stream",
     "name": "stdout",
     "text": [
      "71\n20\n51\n30\n37\n37\n37\n37\n37\n37\n[['.' '.' '.' '.' '.' '.' '.' '.' '.' '.' '.' '.']\n ['.' 'L' '.' 'L' 'L' '.' 'L' 'L' '.' 'L' 'L' '.']\n ['.' 'L' 'L' 'L' 'L' 'L' 'L' 'L' '.' 'L' 'L' '.']\n ['.' 'L' '.' 'L' '.' 'L' '.' '.' 'L' '.' '.' '.']\n ['.' 'L' 'L' 'L' 'L' '.' 'L' 'L' '.' 'L' 'L' '.']\n ['.' 'L' '.' 'L' 'L' '.' 'L' 'L' '.' 'L' 'L' '.']\n ['.' 'L' '.' 'L' 'L' 'L' 'L' 'L' '.' 'L' 'L' '.']\n ['.' '.' '.' 'L' '.' 'L' '.' '.' '.' '.' '.' '.']\n ['.' 'L' 'L' 'L' 'L' 'L' 'L' 'L' 'L' 'L' 'L' '.']\n ['.' 'L' '.' 'L' 'L' 'L' 'L' 'L' 'L' '.' 'L' '.']\n ['.' 'L' '.' 'L' 'L' 'L' 'L' 'L' '.' 'L' 'L' '.']\n ['.' '.' '.' '.' '.' '.' '.' '.' '.' '.' '.' '.']]\n[['.' '.' '.' '.' '.' '.' '.' '.' '.' '.' '.' '.']\n ['.' '#' '.' '#' 'L' '.' 'L' '#' '.' '#' '#' '.']\n ['.' '#' 'L' 'L' 'L' '#' 'L' 'L' '.' 'L' '#' '.']\n ['.' 'L' '.' '#' '.' 'L' '.' '.' '#' '.' '.' '.']\n ['.' '#' 'L' '#' '#' '.' '#' '#' '.' 'L' '#' '.']\n ['.' '#' '.' '#' 'L' '.' 'L' 'L' '.' 'L' 'L' '.']\n ['.' '#' '.' '#' 'L' '#' 'L' '#' '.' '#' '#' '.']\n ['.' '.' '.' 'L' '.' 'L' '.' '.' '.' '.' '.' '.']\n ['.' '#' 'L' '#' 'L' '#' '#' 'L' '#' 'L' '#' '.']\n ['.' '#' '.' 'L' 'L' 'L' 'L' 'L' 'L' '.' 'L' '.']\n ['.' '#' '.' '#' 'L' '#' 'L' '#' '.' '#' '#' '.']\n ['.' '.' '.' '.' '.' '.' '.' '.' '.' '.' '.' '.']]\n"
     ]
    }
   ],
   "source": [
    "# Puzzle 1\n",
    "import numpy as np\n",
    "array = np.array(data)\n",
    "to_append_lr = np.full([np.shape(array)[0], 1], \".\")\n",
    "array = np.concatenate((to_append_lr, array, to_append_lr), axis=1)\n",
    "to_append_tb = np.full([1, np.shape(array)[1]], \".\")\n",
    "array = np.concatenate((to_append_tb, array, to_append_tb), axis=0)\n",
    "\n",
    "array_org = array.copy()\n",
    "array_new = array.copy()\n",
    "\n",
    "n = 0\n",
    "while n < 10:\n",
    "    for row in range(1, np.shape(array)[0]):\n",
    "        for col in range(1, np.shape(array)[1]):\n",
    "            # Get seat state\n",
    "            seat_state = array[row, col]\n",
    "\n",
    "            # Get number of occupied seats around it\n",
    "            selection = array[row-1:row+2, col-1:col+2]\n",
    "            selection_list = selection.flatten().tolist()\n",
    "            surrounding = selection_list[0:4] + selection_list[5:]\n",
    "            number_occupied = surrounding.count(\"#\")\n",
    "            \n",
    "            # Update new array\n",
    "            if seat_state == \"L\" and number_occupied == 0:\n",
    "                array_new[row, col] = \"#\"\n",
    "            if seat_state == \"#\" and number_occupied >= 4:\n",
    "                array_new[row, col] = \"L\"\n",
    "\n",
    "    number_occupied_total = np.count_nonzero(array_new == \"#\")\n",
    "    print(number_occupied_total)\n",
    "\n",
    "    array = array_new.copy()\n",
    "    n += 1\n",
    "\n",
    "print(array_org)\n",
    "print(array_new)\n"
   ]
  },
  {
   "cell_type": "code",
   "execution_count": 179,
   "metadata": {
    "tags": []
   },
   "outputs": [
    {
     "output_type": "stream",
     "name": "stdout",
     "text": [
      "(-1, -1)\nL\n.\n(-1, 0)\nL\n.\n(-1, 1)\nL\n.\n(0, -1)\nL\n.\n(0, 1)\nL\n.\nL\nL\n.\nL\nL\n.\nL\nL\n.\n(1, -1)\nL\n.\n(1, 0)\nL\nL\nL\nL\nL\nL\n.\nL\nL\nL\n.\n(1, 1)\nL\nL\nL\nL\n.\nL\n.\nL\n.\nL\n.\n"
     ]
    }
   ],
   "source": [
    "# Puzzle 2\n",
    "from itertools import product\n",
    "array_org\n",
    "# first seat in all directions\n",
    "\n",
    "row = 1\n",
    "col = 1\n",
    "\n",
    "\n",
    "\n",
    "# Find number of occupied seats according to new rule\n",
    "row_range = range(0, np.shape(array)[0])\n",
    "col_range = range(0, np.shape(array)[1])\n",
    "directions = [(x,y) for x in [-1, 0, 1] for y in [-1, 0, 1] if (x, y) != (0, 0)]\n",
    "\n",
    "number_occupied = 0\n",
    "for direction in directions:\n",
    "    row_t = row\n",
    "    col_t = col\n",
    "    print(direction)\n",
    "\n",
    "    finished = False\n",
    "    while row_t in row_range and col_t in col_range and not finished:\n",
    "        value = array_org[row_t, col_t]\n",
    "        print(value)\n",
    "        row_t += direction[0]\n",
    "        col_t += direction[1]\n",
    "        if value == \"#\":\n",
    "            finished = True\n",
    "            number_occupied += 1\n",
    "\n"
   ]
  },
  {
   "cell_type": "code",
   "execution_count": 163,
   "metadata": {},
   "outputs": [
    {
     "output_type": "execute_result",
     "data": {
      "text/plain": [
       "[(-1, -1), (-1, 0), (-1, 1), (0, -1), (0, 1), (1, -1), (1, 0), (1, 1)]"
      ]
     },
     "metadata": {},
     "execution_count": 163
    }
   ],
   "source": [
    "bla = [(x,y) for x in [-1, 0, 1] for y in [-1, 0, 1] if (x, y) != (0, 0)]\n",
    "bla"
   ]
  },
  {
   "cell_type": "code",
   "execution_count": 177,
   "metadata": {},
   "outputs": [
    {
     "output_type": "stream",
     "name": "stdout",
     "text": [
      "2\n1\n"
     ]
    }
   ],
   "source": [
    "a = 1\n",
    "x = a\n",
    "a = 2\n",
    "print(a)\n",
    "print(x)\n"
   ]
  },
  {
   "cell_type": "code",
   "execution_count": null,
   "metadata": {},
   "outputs": [],
   "source": []
  }
 ],
 "metadata": {
  "kernelspec": {
   "name": "aoc",
   "display_name": "aoc",
   "language": "python"
  },
  "language_info": {
   "codemirror_mode": {
    "name": "ipython",
    "version": 3
   },
   "file_extension": ".py",
   "mimetype": "text/x-python",
   "name": "python",
   "nbconvert_exporter": "python",
   "pygments_lexer": "ipython3",
   "version": "3.7.9-final"
  }
 },
 "nbformat": 4,
 "nbformat_minor": 2
}