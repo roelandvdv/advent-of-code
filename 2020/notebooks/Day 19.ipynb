{
 "cells": [
  {
   "cell_type": "code",
   "execution_count": 95,
   "metadata": {
    "tags": []
   },
   "outputs": [
    {
     "output_type": "execute_result",
     "data": {
      "text/plain": [
       "['4 1 5', '2 3 | 3 2', '4 4 | 5 5', '4 5 | 5 4', '\"a\"', '\"b\"']"
      ]
     },
     "metadata": {},
     "execution_count": 95
    }
   ],
   "source": [
    "# Load data\n",
    "with open(\"../data/day19test.txt\", \"r\") as f:\n",
    "    input = f.read()\n",
    "\n",
    "parts = input.split(\"\\n\\n\")\n",
    "rules = parts[0]\n",
    "msgs = parts[1]\n",
    "\n",
    "# real data is not sorted!\n",
    "rule_list = [rule[3:] for rule in rules.split(\"\\n\")]\n",
    "rule_list"
   ]
  },
  {
   "cell_type": "code",
   "execution_count": 176,
   "metadata": {},
   "outputs": [
    {
     "output_type": "stream",
     "name": "stdout",
     "text": [
      "['', '', '', '', '', '', '', '', '', ''] 4 1 5 0\n['', '', '', '', '', '', '', '', '', ''] \"a\" 0\n['a', '', '', '', '', '', '', '', '', ''] 2 3 | 3 2 0\n['a', '', '', '', '', '', '', '', '', ''] 4 4 | 5 5 0\n['a', '', '', '', '', '', '', '', '', ''] \"a\" 0\n['aa', '', '', '', '', '', '', '', '', ''] \"a\" 0\n['aaa', '', '', '', '', '', '', '', '', ''] \"b\" 1\n['aaa', 'b', '', '', '', '', '', '', '', ''] \"b\" 1\n['aaa', 'bb', '', '', '', '', '', '', '', ''] 4 5 | 5 4 0\n['aaa', 'bb', '', '', '', '', '', '', '', ''] \"a\" 0\n['aaaa', 'bb', '', '', '', '', '', '', '', ''] \"b\" 0\n['aaaab', 'bb', '', '', '', '', '', '', '', ''] \"b\" 1\n['aaaab', 'bbb', '', '', '', '', '', '', '', ''] \"a\" 1\n['aaaab', 'bbba', '', '', '', '', '', '', '', ''] 4 5 | 5 4 1\n['aaaab', 'bbba', '', '', '', '', '', '', '', ''] \"a\" 1\n['aaaab', 'bbbaa', '', '', '', '', '', '', '', ''] \"b\" 1\n['aaaab', 'bbbaab', '', '', '', '', '', '', '', ''] \"b\" 2\n['aaaab', 'bbbaab', 'b', '', '', '', '', '', '', ''] \"a\" 2\n['aaaab', 'bbbaab', 'ba', '', '', '', '', '', '', ''] 4 4 | 5 5 1\n['aaaab', 'bbbaab', 'ba', '', '', '', '', '', '', ''] \"a\" 1\n['aaaab', 'bbbaaba', 'ba', '', '', '', '', '', '', ''] \"a\" 1\n['aaaab', 'bbbaabaa', 'ba', '', '', '', '', '', '', ''] \"b\" 2\n['aaaab', 'bbbaabaa', 'bab', '', '', '', '', '', '', ''] \"b\" 2\n['aaaab', 'bbbaabaa', 'babb', '', '', '', '', '', '', ''] \"b\" 0\n"
     ]
    },
    {
     "output_type": "execute_result",
     "data": {
      "text/plain": [
       "['aaaabb', 'bbbaabaa', 'babb', '', '', '', '', '', '', '']"
      ]
     },
     "metadata": {},
     "execution_count": 176
    }
   ],
   "source": [
    "# Puzzle 1\n",
    "# Questions:\n",
    "# - build list of allowed options? might be too much\n",
    "# Options:\n",
    "# - recursion function (see below): turns out to be difficult\n",
    "# - as tree, possibly object-oriented? but then how to follow the tree when testing the messages?\n",
    "import re\n",
    "regex_rule = re.compile(r\"(\\d+ \\d+ \\| \\d+ \\d+)|((?:\\d+ ?)+)|\\\"([ab])\\\"\")\n",
    "\n",
    "# Recursion test, not correct\n",
    "# rule_list should be known\n",
    "rule = [\"\"]*10\n",
    "def parse(rule, k, n):\n",
    "    \"\"\"\n",
    "    rule = ruleset to build\n",
    "    k = \n",
    "    n = start rule\n",
    "    \"\"\"\n",
    "    # do regex and named groups for main rules\n",
    "    print(rule, rule_list[n], k)\n",
    "    results = regex_rule.search(rule_list[n])\n",
    "    groups = results.groups()\n",
    "\n",
    "    if groups[0]: # 2 3 | 3 2\n",
    "        parts = groups[0].split(\"|\")\n",
    "        #rule[k + 1] = rule[k]\n",
    "        for rule_n in parts[0].strip().split(\" \"):\n",
    "            rule = parse(rule, k, int(rule_n))\n",
    "        k += 1 # split here\n",
    "        for rule_n in parts[1].strip().split(\" \"):\n",
    "            rule = parse(rule, k, int(rule_n))\n",
    "    if groups[1]: # 4 1 5\n",
    "        for rule_n in groups[1].strip().split(\" \"):\n",
    "            rule = parse(rule, k, int(rule_n))\n",
    "    if groups[2]: # a b\n",
    "        if groups[2] == \"a\":\n",
    "            rule[k] = rule[k] + \"a\"\n",
    "        if groups[2] == \"b\":\n",
    "            rule[k] = rule[k] + \"b\"\n",
    "    return rule\n",
    "\n",
    "parse(rule, 0, 0)"
   ]
  },
  {
   "cell_type": "code",
   "execution_count": 98,
   "metadata": {},
   "outputs": [
    {
     "output_type": "execute_result",
     "data": {
      "text/plain": [
       "['4 1 5', '2 3 | 3 2', '4 4 | 5 5', '4 5 | 5 4', '\"a\"', '\"b\"']"
      ]
     },
     "metadata": {},
     "execution_count": 98
    }
   ],
   "source": [
    "rule_list"
   ]
  },
  {
   "cell_type": "code",
   "execution_count": 188,
   "metadata": {},
   "outputs": [
    {
     "output_type": "execute_result",
     "data": {
      "text/plain": [
       "'aaaabb'"
      ]
     },
     "metadata": {},
     "execution_count": 188
    }
   ],
   "source": [
    "# Puzzle 1 with objects\n",
    "\n",
    "# Not trees per se, but object-oriented, to easily copy objects.\n",
    "\n",
    "# Parsing function:\n",
    "#rule:\n",
    "# if a/b: store value, drop doing, move one of todo to doing, stop if todo is empty\n",
    "# if 1 2 3: put first into doing, rest into todo. \n",
    "# if 1 2 | 2 1: copy object, put both firsts into doing, rest into todo. call parsing functions of both\n",
    "\n",
    "import re\n",
    "regex_rule = re.compile(r\"(\\d+ \\d+ \\| \\d+ \\d+)|((?:\\d+ ?)+)|\\\"([ab])\\\"\")\n",
    "\n",
    "class Rule:\n",
    "    def __init__(self, rule_list, todo=[], result=\"\"):\n",
    "        self.rule_list = rule_list\n",
    "        self.todo = todo # belongs to result instance (1 of n)\n",
    "        self.result = result # belongs to result instance (1 of n)\n",
    "\n",
    "    def parse(self, n=0):\n",
    "        rule_to_parse = self.rule_list[n]\n",
    "        results = regex_rule.search(rule_to_parse) # to do: named groups for main rules\n",
    "        groups = results.groups()\n",
    "\n",
    "        if groups[0]: # 2 3 | 3 2\n",
    "            parts = groups[0].split(\"|\")\n",
    "            \n",
    "            # create new object with same history, but different todos\n",
    "            # or copy object\n",
    "            # then parse\n",
    "            queue1 = [int(value) for value in parts[0].strip().split(\" \")]\n",
    "            self.todo = queue1 + self.todo\n",
    "            self.parse(self.todo.pop(0))\n",
    "        if groups[1]: # 4 1 5\n",
    "            queue = [int(value) for value in groups[1].strip().split(\" \")]\n",
    "            self.todo = queue + self.todo\n",
    "            self.parse(self.todo.pop(0))\n",
    "        if groups[2]: # a b\n",
    "            if groups[2] == \"a\":\n",
    "                self.result += \"a\"\n",
    "            if groups[2] == \"b\":\n",
    "                self.result += \"b\"\n",
    "            if self.todo:\n",
    "                self.parse(self.todo.pop(0))\n",
    "        return\n",
    "\n",
    "\n",
    "rule = Rule(rule_list)\n",
    "rule.parse()\n",
    "rule.result"
   ]
  },
  {
   "cell_type": "code",
   "execution_count": 180,
   "metadata": {},
   "outputs": [],
   "source": [
    "x=[1,2,3]\n",
    "y = 2*x.pop(0)"
   ]
  },
  {
   "cell_type": "code",
   "execution_count": 182,
   "metadata": {},
   "outputs": [
    {
     "output_type": "execute_result",
     "data": {
      "text/plain": [
       "[2, 3]"
      ]
     },
     "metadata": {},
     "execution_count": 182
    }
   ],
   "source": [
    "x"
   ]
  },
  {
   "cell_type": "code",
   "execution_count": null,
   "metadata": {},
   "outputs": [],
   "source": []
  }
 ],
 "metadata": {
  "kernelspec": {
   "name": "aoc",
   "display_name": "aoc",
   "language": "python"
  },
  "language_info": {
   "codemirror_mode": {
    "name": "ipython",
    "version": 3
   },
   "file_extension": ".py",
   "mimetype": "text/x-python",
   "name": "python",
   "nbconvert_exporter": "python",
   "pygments_lexer": "ipython3",
   "version": "3.7.9-final"
  }
 },
 "nbformat": 4,
 "nbformat_minor": 2
}