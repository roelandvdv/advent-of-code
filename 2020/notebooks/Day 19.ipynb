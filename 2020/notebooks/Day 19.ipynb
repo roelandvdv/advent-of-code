{
 "cells": [
  {
   "cell_type": "code",
   "execution_count": 131,
   "metadata": {
    "tags": []
   },
   "outputs": [],
   "source": [
    "# Functions to load and transform data\n",
    "import regex\n",
    "\n",
    "\n",
    "def load_data(filename = \"../data/day19test.txt\"):\n",
    "    \"\"\"Load data and transform to dictionary of rules and list of messages.\"\"\"\n",
    "    with open(filename, \"r\") as f:\n",
    "        input = f.read()\n",
    "\n",
    "    parts = input.split(\"\\n\\n\")\n",
    "    rules = parts[0]\n",
    "    msgs = parts[1].split(\"\\n\")\n",
    "\n",
    "    rule_dict = {}\n",
    "    for rule in rules.split(\"\\n\"):\n",
    "        n = int(rule.split(\":\")[0])\n",
    "        rule_to_parse = rule.split(\":\")[1].strip()\n",
    "        if \"|\" in rule_to_parse:\n",
    "            rule_type = \"two_sequences\"\n",
    "            parts = rule_to_parse.split(\"|\")\n",
    "            value = [[int(value) for value in part.strip().split(\" \")] for part in parts]\n",
    "        elif \"a\" in rule_to_parse or \"b\" in rule_to_parse:\n",
    "            rule_type = \"letter\"\n",
    "            value = rule_to_parse.strip('\"')\n",
    "        else:\n",
    "            rule_type = \"sequence\"\n",
    "            value = [int(value) for value in rule_to_parse.strip().split(\" \")]\n",
    "        rule_dict[n] = (rule_type, value)\n",
    "\n",
    "    return rule_dict, msgs\n",
    "\n",
    "\n",
    "def solve_with_regex(parser, filename = \"../data/day19.txt\"):\n",
    "    \"\"\"Wrapper function to solve puzzle.\"\"\"\n",
    "    rule_dict, msgs = load_data(filename)\n",
    "    regex_result_str = parser(rule_dict)\n",
    "    #print(regex_result_str)\n",
    "    regex_str = regex.compile(\"^\" + regex_result_str + \"$\")\n",
    "    valid_msgs = [msg for msg in msgs if regex_str.match(msg)]\n",
    "    print(str(len(valid_msgs)) + \" out of \" + str(len(msgs)) + \" messages are allowed\")\n",
    "    return len(valid_msgs)\n"
   ]
  },
  {
   "cell_type": "code",
   "execution_count": 132,
   "metadata": {},
   "outputs": [
    {
     "output_type": "stream",
     "name": "stdout",
     "text": [
      "2 out of 5 messages are allowed\n124 out of 368 messages are allowed\n"
     ]
    },
    {
     "output_type": "execute_result",
     "data": {
      "text/plain": [
       "124"
      ]
     },
     "metadata": {},
     "execution_count": 132
    }
   ],
   "source": [
    "# Puzzle 1 with regex\n",
    "\n",
    "def parse_rule(rule_dict_parsed, n=0):\n",
    "    rule_to_parse = rule_dict_parsed[n]\n",
    "    rule_type = rule_to_parse[0]\n",
    "    rule_value = rule_to_parse[1]\n",
    "\n",
    "    if rule_type == \"two_sequences\":\n",
    "        result_list_0 = [parse_rule(rule_dict_parsed, value) for value in rule_value[0]]\n",
    "        result_list_1 = [parse_rule(rule_dict_parsed, value) for value in rule_value[1]]\n",
    "        result = \"(\" + \"\".join(result_list_0) + \"|\" + \"\".join(result_list_1) + \")\"\n",
    "    if rule_type == \"sequence\":\n",
    "        result_list = [parse_rule(rule_dict_parsed, value) for value in rule_value]\n",
    "        result = \"\".join(result_list)\n",
    "    if rule_type == \"letter\":\n",
    "        result = rule_value\n",
    "    return result\n",
    "\n",
    "\n",
    "solve_with_regex(parse_rule, \"../data/day19test.txt\")\n",
    "solve_with_regex(parse_rule, \"../data/day19.txt\")"
   ]
  },
  {
   "cell_type": "code",
   "execution_count": 133,
   "metadata": {},
   "outputs": [
    {
     "output_type": "stream",
     "name": "stdout",
     "text": [
      "3 out of 15 messages are allowed\n12 out of 15 messages are allowed\n228 out of 368 messages are allowed\n"
     ]
    },
    {
     "output_type": "execute_result",
     "data": {
      "text/plain": [
       "228"
      ]
     },
     "metadata": {},
     "execution_count": 133
    }
   ],
   "source": [
    "# Puzzle 2 with regex\n",
    "\n",
    "# Parts of it can be repeated\n",
    "# 8: 42 | 42 8 > first part repeated n times\n",
    "# 11: 42 31 | 42 11 31 > nested parts\n",
    "\n",
    "# 42 31\n",
    "# 42 42 31 31\n",
    "# 42 42 42 31 31 31\n",
    "# 42 42 42 42 31 31 31 31\n",
    "# ...\n",
    "# so only an equal number!\n",
    "# ab\n",
    "# aabb\n",
    "# aaabbb\n",
    "# https://stackoverflow.com/questions/17053438/use-regex-to-match-axbx-where-x-is-the-number-of-times-a-b-appear\n",
    "# Works in regex101 but needs numbered reference to group which gets difficult when there are more groups (maybe named reference?)\n",
    "# ^(a(?-1)?b)$ with relative reference -1 matches ab, aabb, aaabbb in regex101 but does not work in Python re or regex.\n",
    "# Use named groups finally, and Python regex for that.\n",
    "\n",
    "# New parser function\n",
    "def parse_rule_2(rule_dict_parsed, n=0):\n",
    "    rule_to_parse = rule_dict_parsed[n]\n",
    "    rule_type = rule_to_parse[0]\n",
    "    rule_value = rule_to_parse[1]\n",
    "\n",
    "    if n == 8:\n",
    "        result_42 = parse_rule_2(rule_dict_parsed, 42)\n",
    "        result = \"(\" + result_42 + \")+\" # repeat rule 42 >0 times\n",
    "    elif n == 11:\n",
    "        result_42 = parse_rule_2(rule_dict_parsed, 42)\n",
    "        result_31 = parse_rule_2(rule_dict_parsed, 31)\n",
    "        result = \"(?P<group>\" + result_42 + \"(?P>group)?\" + result_31 + \")\" # 42 31 or 42 42 31 31 or 42 42 42 31 31 31, etc.\n",
    "    else:\n",
    "        if rule_type == \"two_sequences\":\n",
    "            result_list_0 = [parse_rule_2(rule_dict_parsed, value) for value in rule_value[0]]\n",
    "            result_list_1 = [parse_rule_2(rule_dict_parsed, value) for value in rule_value[1]]\n",
    "            result = \"(\" + \"\".join(result_list_0) + \"|\" + \"\".join(result_list_1) + \")\"\n",
    "        if rule_type == \"sequence\":\n",
    "            result_list = [parse_rule_2(rule_dict_parsed, value) for value in rule_value]\n",
    "            result = \"\".join(result_list)\n",
    "        if rule_type == \"letter\":\n",
    "            result = rule_value\n",
    "    return result\n",
    "\n",
    "\n",
    "solve_with_regex(parse_rule, \"../data/day19test2.txt\")\n",
    "solve_with_regex(parse_rule_2, \"../data/day19test2.txt\")\n",
    "solve_with_regex(parse_rule_2, \"../data/day19.txt\")\n"
   ]
  },
  {
   "cell_type": "code",
   "execution_count": 137,
   "metadata": {},
   "outputs": [
    {
     "output_type": "stream",
     "name": "stdout",
     "text": [
      "<regex.Match object; span=(0, 4), match='aabb'>\nNone\n<regex.Match object; span=(0, 5), match='xaabb'>\n<regex.Match object; span=(0, 6), match='aaabbb'>\n<regex.Match object; span=(0, 8), match='xaaabbby'>\n"
     ]
    }
   ],
   "source": [
    "# Some regex tests\n",
    "\n",
    "# Works\n",
    "regex_str = regex.compile(\"^(a(?1)?b)$\") \n",
    "print(regex_str.match(\"aabb\"))\n",
    "\n",
    "# Does not work because of incorrect group reference\n",
    "regex_str = regex.compile(\"^(x)(a(?1)?b)$\") \n",
    "print(regex_str.match(\"xaabb\"))\n",
    "\n",
    "# Works\n",
    "regex_str = regex.compile(\"^(x)(a(?2)?b)$\") \n",
    "print(regex_str.match(\"xaabb\"))\n",
    "\n",
    "# Does not work, ?-1 not supported by Python regex\n",
    "#regex_str = regex.compile(\"^(a(?-1)?b)$\") \n",
    "#regex_str.match(\"aabb\")\n",
    "\n",
    "# Works\n",
    "regex_str = regex.compile(\"^(?P<bla>a(?P>bla)?b)$\") \n",
    "print(regex_str.match(\"aaabbb\"))\n",
    "\n",
    "# Works\n",
    "regex_str = regex.compile(\"^((x)(?P<group>a(?P>group)?b))(y)$\") \n",
    "print(regex_str.match(\"xaaabbby\"))\n"
   ]
  },
  {
   "cell_type": "code",
   "execution_count": null,
   "metadata": {},
   "outputs": [],
   "source": []
  }
 ],
 "metadata": {
  "kernelspec": {
   "name": "aoc",
   "display_name": "aoc",
   "language": "python"
  },
  "language_info": {
   "codemirror_mode": {
    "name": "ipython",
    "version": 3
   },
   "file_extension": ".py",
   "mimetype": "text/x-python",
   "name": "python",
   "nbconvert_exporter": "python",
   "pygments_lexer": "ipython3",
   "version": "3.7.9-final"
  }
 },
 "nbformat": 4,
 "nbformat_minor": 2
}