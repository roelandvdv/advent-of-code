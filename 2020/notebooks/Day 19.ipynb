{
 "cells": [
  {
   "cell_type": "code",
   "execution_count": 6,
   "metadata": {
    "tags": []
   },
   "outputs": [
    {
     "output_type": "execute_result",
     "data": {
      "text/plain": [
       "['4 1 5', '2 3 | 3 2', '4 4 | 5 5', '4 5 | 5 4', '\"a\"', '\"b\"']"
      ]
     },
     "metadata": {},
     "execution_count": 6
    }
   ],
   "source": [
    "# Load data\n",
    "with open(\"../data/day19test.txt\", \"r\") as f:\n",
    "    input = f.read()\n",
    "\n",
    "parts = input.split(\"\\n\\n\")\n",
    "rules = parts[0]\n",
    "msgs = parts[1]\n",
    "\n",
    "# real data is not sorted!\n",
    "rule_list = [rule[3:] for rule in rules.split(\"\\n\")]\n",
    "rule_list"
   ]
  },
  {
   "cell_type": "code",
   "execution_count": 88,
   "metadata": {},
   "outputs": [
    {
     "output_type": "stream",
     "name": "stdout",
     "text": [
      "4 1 5\n4\n1\n5\n2 3 | 3 2\n4 4 | 5 5\n4 5 | 5 4\na\nb\n"
     ]
    },
    {
     "output_type": "execute_result",
     "data": {
      "text/plain": [
       "['a', 'b']"
      ]
     },
     "metadata": {},
     "execution_count": 88
    }
   ],
   "source": [
    "# Puzzle 1\n",
    "# pyparsing?\n",
    "# build list of allowed options? might be too much\n",
    "import re\n",
    "\n",
    "allowed_options = []\n",
    "\n",
    "regex_rule = re.compile(r\"(\\d+ \\d+ \\| \\d+ \\d+)|((?:\\d+ ?)+)|\\\"([ab])\\\"\")\n",
    "\n",
    "k = 0\n",
    "i = 0\n",
    "while k < 6: # < make recursive function\n",
    "    # do regex and named groups for main rules\n",
    "    results = regex_rule.search(rule_list[k])\n",
    "    groups = results.groups()\n",
    "    if groups[0]: # 2 3 | 3 2\n",
    "        # do with regex\n",
    "        print(groups[0])\n",
    "    if groups[1]: # 4 1 5\n",
    "        print(groups[1])\n",
    "        for rule_n in groups[1].split(\" \"):\n",
    "            print(rule_n)\n",
    "            # call some function, recursion\n",
    "    if groups[2]: # a b\n",
    "        print(groups[2])\n",
    "        if groups[2] == \"a\":\n",
    "            allowed_options.append(\"a\")\n",
    "        if groups[2] == \"b\":\n",
    "            allowed_options.append(\"b\")\n",
    "    k += 1\n",
    "allowed_options\n"
   ]
  },
  {
   "cell_type": "code",
   "execution_count": null,
   "metadata": {},
   "outputs": [],
   "source": []
  },
  {
   "cell_type": "code",
   "execution_count": null,
   "metadata": {},
   "outputs": [],
   "source": []
  }
 ],
 "metadata": {
  "kernelspec": {
   "name": "aoc",
   "display_name": "aoc",
   "language": "python"
  },
  "language_info": {
   "codemirror_mode": {
    "name": "ipython",
    "version": 3
   },
   "file_extension": ".py",
   "mimetype": "text/x-python",
   "name": "python",
   "nbconvert_exporter": "python",
   "pygments_lexer": "ipython3",
   "version": "3.7.9-final"
  }
 },
 "nbformat": 4,
 "nbformat_minor": 2
}