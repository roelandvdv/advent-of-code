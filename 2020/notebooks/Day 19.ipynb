{
 "cells": [
  {
   "cell_type": "code",
   "execution_count": 328,
   "metadata": {
    "tags": []
   },
   "outputs": [],
   "source": [
    "# Load data\n",
    "with open(\"../data/day19.txt\", \"r\") as f:\n",
    "    input = f.read()\n",
    "\n",
    "parts = input.split(\"\\n\\n\")\n",
    "rules = parts[0]\n",
    "msgs = parts[1].split(\"\\n\")\n",
    "\n",
    "rule_dict = {int(rule.split(\":\")[0]):rule.split(\":\")[1][1:] for rule in rules.split(\"\\n\")}\n",
    "#rule_dict\n",
    "\n",
    "# maybe parse to better data structure first"
   ]
  },
  {
   "cell_type": "code",
   "execution_count": 329,
   "metadata": {},
   "outputs": [
    {
     "output_type": "execute_result",
     "data": {
      "text/plain": [
       "'8 11'"
      ]
     },
     "metadata": {},
     "execution_count": 329
    }
   ],
   "source": [
    "rule_dict[0]"
   ]
  },
  {
   "cell_type": "code",
   "execution_count": 330,
   "metadata": {},
   "outputs": [
    {
     "output_type": "execute_result",
     "data": {
      "text/plain": [
       "{17: '72 112 | 71 3',\n",
       " 31: '71 33 | 72 57',\n",
       " 49: '72 110 | 71 45',\n",
       " 37: '71 68 | 72 45',\n",
       " 124: '71 128 | 72 64',\n",
       " 1: '105 71 | 29 72',\n",
       " 44: '72 130 | 71 93',\n",
       " 93: '72 45 | 71 105',\n",
       " 126: '34 71 | 59 72',\n",
       " 89: '71 16 | 72 118',\n",
       " 92: '21 71 | 12 72',\n",
       " 55: '47 72 | 61 71',\n",
       " 7: '29 72 | 29 71',\n",
       " 45: '72 72 | 72 71',\n",
       " 28: '110 71 | 109 72',\n",
       " 10: '110 72 | 63 71',\n",
       " 29: '72 71',\n",
       " 27: '71 53 | 72 13',\n",
       " 107: '45 71',\n",
       " 84: '5 71 | 39 72',\n",
       " 119: '72 105 | 71 110',\n",
       " 53: '28 71 | 10 72',\n",
       " 18: '72 86 | 71 71',\n",
       " 25: '110 72 | 105 71',\n",
       " 82: '106 71 | 75 72',\n",
       " 46: '29 71 | 63 72',\n",
       " 71: '\"a\"',\n",
       " 129: '49 71 | 80 72',\n",
       " 123: '12 71 | 79 72',\n",
       " 111: '110 72 | 96 71',\n",
       " 35: '72 107 | 71 104',\n",
       " 113: '10 72 | 1 71',\n",
       " 106: '26 72 | 6 71',\n",
       " 8: '42',\n",
       " 36: '71 10 | 72 79',\n",
       " 26: '72 122 | 71 51',\n",
       " 74: '48 72 | 2 71',\n",
       " 5: '72 104 | 71 22',\n",
       " 120: '71 48 | 72 2',\n",
       " 64: '72 96 | 71 56',\n",
       " 72: '\"b\"',\n",
       " 131: '63 72 | 56 71',\n",
       " 79: '56 71',\n",
       " 23: '72 96 | 71 29',\n",
       " 6: '71 111 | 72 32',\n",
       " 43: '71 73 | 72 70',\n",
       " 78: '14 71 | 74 72',\n",
       " 16: '71 29',\n",
       " 54: '110 72 | 18 71',\n",
       " 80: '2 72 | 109 71',\n",
       " 75: '108 72 | 30 71',\n",
       " 13: '25 71 | 116 72',\n",
       " 132: '15 72 | 24 71',\n",
       " 70: '114 71 | 113 72',\n",
       " 112: '7 71 | 131 72',\n",
       " 88: '72 89 | 71 102',\n",
       " 130: '71 110 | 72 56',\n",
       " 0: '8 11',\n",
       " 117: '66 71 | 27 72',\n",
       " 127: '72 126 | 71 67',\n",
       " 52: '72 109 | 71 96',\n",
       " 122: '45 72 | 2 71',\n",
       " 103: '72 44 | 71 36',\n",
       " 58: '72 41 | 71 35',\n",
       " 114: '72 121 | 71 52',\n",
       " 85: '72 120 | 71 23',\n",
       " 19: '72 18 | 71 68',\n",
       " 2: '72 71 | 71 86',\n",
       " 65: '54 71 | 90 72',\n",
       " 96: '71 71 | 71 72',\n",
       " 69: '72 17 | 71 40',\n",
       " 116: '71 48 | 72 29',\n",
       " 66: '72 100 | 71 92',\n",
       " 115: '72 48 | 71 63',\n",
       " 39: '72 62 | 71 83',\n",
       " 22: '71 96',\n",
       " 50: '105 71 | 134 72',\n",
       " 108: '87 72 | 46 71',\n",
       " 34: '55 72 | 9 71',\n",
       " 11: '42 31',\n",
       " 14: '56 71 | 96 72',\n",
       " 24: '58 72 | 95 71',\n",
       " 83: '72 45 | 71 29',\n",
       " 47: '72 110 | 71 109',\n",
       " 94: '37 72 | 97 71',\n",
       " 12: '48 72',\n",
       " 51: '72 48 | 71 68',\n",
       " 98: '109 71 | 18 72',\n",
       " 32: '72 105 | 71 68',\n",
       " 95: '72 77 | 71 78',\n",
       " 118: '72 68 | 71 2',\n",
       " 21: '72 45 | 71 134',\n",
       " 59: '71 123 | 72 133',\n",
       " 105: '71 71',\n",
       " 76: '72 109 | 71 29',\n",
       " 56: '71 71 | 72 72',\n",
       " 68: '72 86 | 71 72',\n",
       " 3: '107 72 | 19 71',\n",
       " 86: '72 | 71',\n",
       " 33: '72 69 | 71 43',\n",
       " 128: '2 72 | 68 71',\n",
       " 67: '72 84 | 71 125',\n",
       " 60: '29 71 | 110 72',\n",
       " 100: '79 72 | 4 71',\n",
       " 97: '56 72 | 45 71',\n",
       " 133: '76 71 | 122 72',\n",
       " 104: '45 72 | 109 71',\n",
       " 109: '72 71 | 71 71',\n",
       " 30: '60 71 | 4 72',\n",
       " 99: '71 50 | 72 38',\n",
       " 9: '115 72 | 101 71',\n",
       " 87: '68 71 | 63 72',\n",
       " 77: '81 72 | 20 71',\n",
       " 101: '71 2 | 72 110',\n",
       " 20: '71 45 | 72 56',\n",
       " 40: '129 71 | 65 72',\n",
       " 42: '127 71 | 132 72',\n",
       " 91: '71 105 | 72 109',\n",
       " 81: '72 45',\n",
       " 62: '45 72 | 63 71',\n",
       " 61: '71 110 | 72 63',\n",
       " 4: '71 134 | 72 134',\n",
       " 57: '82 72 | 117 71',\n",
       " 41: '71 91 | 72 116',\n",
       " 134: '71 72',\n",
       " 73: '71 99 | 72 85',\n",
       " 90: '63 71 | 2 72',\n",
       " 15: '71 103 | 72 88',\n",
       " 38: '72 63',\n",
       " 121: '134 71 | 96 72',\n",
       " 110: '86 86',\n",
       " 48: '71 72 | 72 72',\n",
       " 63: '72 71 | 71 72',\n",
       " 125: '71 124 | 72 94',\n",
       " 102: '119 72 | 98 71'}"
      ]
     },
     "metadata": {},
     "execution_count": 330
    }
   ],
   "source": [
    "rule_dict\n"
   ]
  },
  {
   "cell_type": "code",
   "execution_count": 323,
   "metadata": {},
   "outputs": [
    {
     "output_type": "stream",
     "name": "stdout",
     "text": [
      "4 1 5 6 <re.Match object; span=(0, 7), match='4 1 5 6'>\n2 3 | 3 2 <re.Match object; span=(0, 9), match='2 3 | 3 2'>\n4 4 | 5 5 <re.Match object; span=(0, 9), match='4 4 | 5 5'>\n4 5 | 5 4 <re.Match object; span=(0, 9), match='4 5 | 5 4'>\n\"a\" <re.Match object; span=(0, 3), match='\"a\"'>\n\"b\" <re.Match object; span=(0, 3), match='\"b\"'>\n4 5 <re.Match object; span=(0, 3), match='4 5'>\n"
     ]
    }
   ],
   "source": [
    "regex_rule = re.compile(r\"(?P<TwoSequences>\\d+ \\d+ \\| \\d+ \\d+)|(?P<Sequence>(?:\\d+ ?)+)|\\\"(?P<Letter>[ab])\\\"\")\n",
    "\n",
    "for rule_to_parse in rule_dict.values():\n",
    "    regex_results = regex_rule.search(rule_to_parse)\n",
    "    print(rule_to_parse, regex_results)"
   ]
  },
  {
   "cell_type": "code",
   "execution_count": 324,
   "metadata": {
    "tags": []
   },
   "outputs": [
    {
     "output_type": "stream",
     "name": "stdout",
     "text": [
      "['ababbbab', 'abaaabab', 'aabbbbab', 'aabaabab', 'abbbabab']\n"
     ]
    }
   ],
   "source": [
    "# Puzzle 1 with objects\n",
    "\n",
    "# Not trees per se, but object-oriented, to easily copy objects.\n",
    "\n",
    "# Parsing function:\n",
    "# if a/b: store value, drop doing, move one of todo to doing, stop if todo is empty\n",
    "# if 1 2 3: put first into doing, rest into todo. \n",
    "# if 1 2 | 2 1: copy object, put both firsts into doing, rest into todo. call parsing functions of both\n",
    "\n",
    "# Quite slow, gives almost 1 million options. 62 is not correct!\n",
    "# Try another test, modify day19test.txt\n",
    "\n",
    "import re\n",
    "regex_rule = re.compile(r\"(?P<TwoSequences>\\d+ \\d+ \\| \\d+ \\d+)|(?P<Sequence>(?:\\d+ ?)+)|\\\"(?P<Letter>[ab])\\\"\")\n",
    "\n",
    "class RuleSet:\n",
    "    \"\"\"\n",
    "    Main class containing all of the rules and their results.\n",
    "    \"\"\"\n",
    "    def __init__(self, rule_dict):\n",
    "        self.rule_dict = rule_dict\n",
    "        self.rules = []\n",
    "\n",
    "        self.parse()\n",
    "\n",
    "    def parse(self):\n",
    "        \"\"\"Create initial rule, also refer back to RuleSet to be able to add new rules dynamically.\"\"\"\n",
    "        initial_rule = Rule(self.rule_dict, ruleset=self)\n",
    "        self.rules.append(initial_rule)\n",
    "\n",
    "    def get_results(self):\n",
    "        \"\"\"Return list of results.\"\"\"\n",
    "        return [rule.result for rule in self.rules]\n",
    "\n",
    "class Rule():\n",
    "    \"\"\"\n",
    "    Class to recursively parse the ruleset, creates new instance if a split is encountered.\n",
    "    \"\"\"\n",
    "    def __init__(self, rule_dict, todo=[], result=\"\", ruleset=None, start_n=0):\n",
    "        self.rule_dict = rule_dict\n",
    "        self.todo = todo\n",
    "        self.result = result\n",
    "        self.ruleset = ruleset\n",
    "\n",
    "        self.parse(start_n)\n",
    "\n",
    "    def parse(self, n=0):\n",
    "        rule_to_parse = self.rule_dict[n]\n",
    "        regex_results = regex_rule.search(rule_to_parse)\n",
    "\n",
    "        if regex_results[\"TwoSequences\"]:\n",
    "            parts = regex_results[\"TwoSequences\"].split(\"|\")\n",
    "\n",
    "            queue = self.sequence_to_queue(parts[1])\n",
    "            todo = queue + self.todo\n",
    "            rule_new = Rule(self.rule_dict, todo, self.result, self.ruleset, todo.pop(0))\n",
    "            self.ruleset.rules.append(rule_new)\n",
    "\n",
    "            self.parse_sequence(parts[0])\n",
    "            \n",
    "        if regex_results[\"Sequence\"]:\n",
    "            self.parse_sequence(regex_results[\"Sequence\"])\n",
    "\n",
    "        if regex_results[\"Letter\"]:\n",
    "            if regex_results[\"Letter\"] == \"a\":\n",
    "                self.result += \"a\"\n",
    "            if regex_results[\"Letter\"] == \"b\":\n",
    "                self.result += \"b\"\n",
    "            if self.todo:\n",
    "                self.parse(self.todo.pop(0))\n",
    "        return\n",
    "\n",
    "    def sequence_to_queue(self, sequence: str):\n",
    "        \"\"\"Parse 1 2 3 to [1, 2, 3]\"\"\"\n",
    "        return [int(value) for value in sequence.strip().split(\" \")]\n",
    "\n",
    "    def parse_sequence(self, sequence: str):\n",
    "        \"\"\"Parse 1 2 3\"\"\"\n",
    "        queue = self.sequence_to_queue(sequence)\n",
    "        self.todo = queue + self.todo\n",
    "        self.parse(self.todo.pop(0))\n",
    "\n",
    "\n",
    "rules = RuleSet(rule_dict)\n",
    "allowed_messages = rules.get_results()\n",
    "\n",
    "print(allowed_messages[0:5])"
   ]
  },
  {
   "cell_type": "code",
   "execution_count": 325,
   "metadata": {},
   "outputs": [
    {
     "output_type": "execute_result",
     "data": {
      "text/plain": [
       "8"
      ]
     },
     "metadata": {},
     "execution_count": 325
    }
   ],
   "source": [
    "len(allowed_messages)"
   ]
  },
  {
   "cell_type": "code",
   "execution_count": 326,
   "metadata": {},
   "outputs": [
    {
     "output_type": "stream",
     "name": "stdout",
     "text": [
      "2\n"
     ]
    }
   ],
   "source": [
    "n = 0\n",
    "for msg in msgs:\n",
    "    if msg in allowed_messages:\n",
    "        n += 1\n",
    "\n",
    "print(n)"
   ]
  },
  {
   "cell_type": "code",
   "execution_count": null,
   "metadata": {},
   "outputs": [],
   "source": []
  }
 ],
 "metadata": {
  "kernelspec": {
   "name": "aoc",
   "display_name": "aoc",
   "language": "python"
  },
  "language_info": {
   "codemirror_mode": {
    "name": "ipython",
    "version": 3
   },
   "file_extension": ".py",
   "mimetype": "text/x-python",
   "name": "python",
   "nbconvert_exporter": "python",
   "pygments_lexer": "ipython3",
   "version": "3.7.9-final"
  }
 },
 "nbformat": 4,
 "nbformat_minor": 2
}