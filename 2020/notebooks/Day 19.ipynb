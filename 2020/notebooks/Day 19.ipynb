{
 "cells": [
  {
   "cell_type": "code",
   "execution_count": 245,
   "metadata": {
    "tags": []
   },
   "outputs": [
    {
     "output_type": "execute_result",
     "data": {
      "text/plain": [
       "['4 1 5', '2 3 | 3 2', '4 4 | 5 5', '4 5 | 5 4', '\"a\"', '\"b\"']"
      ]
     },
     "metadata": {},
     "execution_count": 245
    }
   ],
   "source": [
    "# Load data\n",
    "with open(\"../data/day19test.txt\", \"r\") as f:\n",
    "    input = f.read()\n",
    "\n",
    "parts = input.split(\"\\n\\n\")\n",
    "rules = parts[0]\n",
    "msgs = parts[1]\n",
    "\n",
    "# TODO: real data is not sorted!\n",
    "rule_list = [rule[3:] for rule in rules.split(\"\\n\")]\n",
    "rule_list"
   ]
  },
  {
   "cell_type": "code",
   "execution_count": 246,
   "metadata": {},
   "outputs": [
    {
     "output_type": "execute_result",
     "data": {
      "text/plain": [
       "['ababbb',\n",
       " 'abaaab',\n",
       " 'aabbbb',\n",
       " 'aabaab',\n",
       " 'abbbab',\n",
       " 'abbabb',\n",
       " 'aaabab',\n",
       " 'aaaabb']"
      ]
     },
     "metadata": {},
     "execution_count": 246
    }
   ],
   "source": [
    "# Puzzle 1 with objects\n",
    "\n",
    "# Not trees per se, but object-oriented, to easily copy objects.\n",
    "\n",
    "# Parsing function:\n",
    "# if a/b: store value, drop doing, move one of todo to doing, stop if todo is empty\n",
    "# if 1 2 3: put first into doing, rest into todo. \n",
    "# if 1 2 | 2 1: copy object, put both firsts into doing, rest into todo. call parsing functions of both\n",
    "\n",
    "import re\n",
    "regex_rule = re.compile(r\"(?P<TwoSequences>\\d+ \\d+ \\| \\d+ \\d+)|(?P<Sequence>(?:\\d+ ?)+)|\\\"(?P<Letter>[ab])\\\"\")\n",
    "\n",
    "class RuleSet:\n",
    "    def __init__(self, rule_list):\n",
    "        self.rule_list = rule_list\n",
    "        self.rules = []\n",
    "\n",
    "    def parse(self):\n",
    "        \"\"\"Create initial rule, also refer back to RuleSet to be able to add new rules dynamically.\"\"\"\n",
    "        initial_rule = Rule(self.rule_list, ruleset=self)\n",
    "        self.rules.append(initial_rule)\n",
    "\n",
    "    def check_messages(self, messages):\n",
    "        \"\"\"Return boolean list?\"\"\"\n",
    "\n",
    "        # TO DO\n",
    "        return False\n",
    "\n",
    "class Rule():\n",
    "    def __init__(self, rule_list, todo=[], result=\"\", ruleset=None, start_n=0):\n",
    "        self.rule_list = rule_list\n",
    "        self.todo = todo\n",
    "        self.result = result\n",
    "        self.ruleset = ruleset\n",
    "\n",
    "        self.parse(start_n)\n",
    "\n",
    "    def parse(self, n=0):\n",
    "        rule_to_parse = self.rule_list[n]\n",
    "        regex_results = regex_rule.search(rule_to_parse)\n",
    "\n",
    "        if regex_results[\"TwoSequences\"]:\n",
    "            parts = regex_results[\"TwoSequences\"].split(\"|\")\n",
    "\n",
    "            queue2 = [int(value) for value in parts[1].strip().split(\" \")]\n",
    "            todo = queue2 + self.todo\n",
    "            rule_new = Rule(self.rule_list, todo, self.result, self.ruleset, todo.pop(0))\n",
    "            self.ruleset.rules.append(rule_new)\n",
    "\n",
    "            queue1 = [int(value) for value in parts[0].strip().split(\" \")]\n",
    "            self.todo = queue1 + self.todo\n",
    "            self.parse(self.todo.pop(0))\n",
    "            \n",
    "        if regex_results[\"Sequence\"]:\n",
    "            queue = [int(value) for value in regex_results[\"Sequence\"].strip().split(\" \")]\n",
    "            self.todo = queue + self.todo\n",
    "            self.parse(self.todo.pop(0))\n",
    "\n",
    "        if regex_results[\"Letter\"]:\n",
    "            if regex_results[\"Letter\"] == \"a\":\n",
    "                self.result += \"a\"\n",
    "            if regex_results[\"Letter\"] == \"b\":\n",
    "                self.result += \"b\"\n",
    "            if self.todo:\n",
    "                self.parse(self.todo.pop(0))\n",
    "        return\n",
    "\n",
    "    def parse_sequence(self):\n",
    "        \"\"\"Parse 1 2 3\"\"\"\n",
    "        #TO DO\n",
    "        return True\n",
    "\n",
    "\n",
    "rules = RuleSet(rule_list)\n",
    "rules.parse()\n",
    "[rule.result for rule in rules.rules]"
   ]
  },
  {
   "cell_type": "code",
   "execution_count": null,
   "metadata": {},
   "outputs": [],
   "source": []
  }
 ],
 "metadata": {
  "kernelspec": {
   "name": "aoc",
   "display_name": "aoc",
   "language": "python"
  },
  "language_info": {
   "codemirror_mode": {
    "name": "ipython",
    "version": 3
   },
   "file_extension": ".py",
   "mimetype": "text/x-python",
   "name": "python",
   "nbconvert_exporter": "python",
   "pygments_lexer": "ipython3",
   "version": "3.7.9-final"
  }
 },
 "nbformat": 4,
 "nbformat_minor": 2
}