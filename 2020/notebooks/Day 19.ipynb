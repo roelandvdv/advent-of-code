{
 "cells": [
  {
   "cell_type": "code",
   "execution_count": 95,
   "metadata": {
    "tags": []
   },
   "outputs": [
    {
     "output_type": "execute_result",
     "data": {
      "text/plain": [
       "['4 1 5', '2 3 | 3 2', '4 4 | 5 5', '4 5 | 5 4', '\"a\"', '\"b\"']"
      ]
     },
     "metadata": {},
     "execution_count": 95
    }
   ],
   "source": [
    "# Load data\n",
    "with open(\"../data/day19test.txt\", \"r\") as f:\n",
    "    input = f.read()\n",
    "\n",
    "parts = input.split(\"\\n\\n\")\n",
    "rules = parts[0]\n",
    "msgs = parts[1]\n",
    "\n",
    "# real data is not sorted!\n",
    "rule_list = [rule[3:] for rule in rules.split(\"\\n\")]\n",
    "rule_list"
   ]
  },
  {
   "cell_type": "code",
   "execution_count": 176,
   "metadata": {},
   "outputs": [
    {
     "output_type": "stream",
     "name": "stdout",
     "text": [
      "['', '', '', '', '', '', '', '', '', ''] 4 1 5 0\n['', '', '', '', '', '', '', '', '', ''] \"a\" 0\n['a', '', '', '', '', '', '', '', '', ''] 2 3 | 3 2 0\n['a', '', '', '', '', '', '', '', '', ''] 4 4 | 5 5 0\n['a', '', '', '', '', '', '', '', '', ''] \"a\" 0\n['aa', '', '', '', '', '', '', '', '', ''] \"a\" 0\n['aaa', '', '', '', '', '', '', '', '', ''] \"b\" 1\n['aaa', 'b', '', '', '', '', '', '', '', ''] \"b\" 1\n['aaa', 'bb', '', '', '', '', '', '', '', ''] 4 5 | 5 4 0\n['aaa', 'bb', '', '', '', '', '', '', '', ''] \"a\" 0\n['aaaa', 'bb', '', '', '', '', '', '', '', ''] \"b\" 0\n['aaaab', 'bb', '', '', '', '', '', '', '', ''] \"b\" 1\n['aaaab', 'bbb', '', '', '', '', '', '', '', ''] \"a\" 1\n['aaaab', 'bbba', '', '', '', '', '', '', '', ''] 4 5 | 5 4 1\n['aaaab', 'bbba', '', '', '', '', '', '', '', ''] \"a\" 1\n['aaaab', 'bbbaa', '', '', '', '', '', '', '', ''] \"b\" 1\n['aaaab', 'bbbaab', '', '', '', '', '', '', '', ''] \"b\" 2\n['aaaab', 'bbbaab', 'b', '', '', '', '', '', '', ''] \"a\" 2\n['aaaab', 'bbbaab', 'ba', '', '', '', '', '', '', ''] 4 4 | 5 5 1\n['aaaab', 'bbbaab', 'ba', '', '', '', '', '', '', ''] \"a\" 1\n['aaaab', 'bbbaaba', 'ba', '', '', '', '', '', '', ''] \"a\" 1\n['aaaab', 'bbbaabaa', 'ba', '', '', '', '', '', '', ''] \"b\" 2\n['aaaab', 'bbbaabaa', 'bab', '', '', '', '', '', '', ''] \"b\" 2\n['aaaab', 'bbbaabaa', 'babb', '', '', '', '', '', '', ''] \"b\" 0\n"
     ]
    },
    {
     "output_type": "execute_result",
     "data": {
      "text/plain": [
       "['aaaabb', 'bbbaabaa', 'babb', '', '', '', '', '', '', '']"
      ]
     },
     "metadata": {},
     "execution_count": 176
    }
   ],
   "source": [
    "# Puzzle 1\n",
    "# Questions:\n",
    "# - build list of allowed options? might be too much\n",
    "# Options:\n",
    "# - recursion function (see below): turns out to be difficult\n",
    "# - as tree, possibly object-oriented? but then how to follow the tree when testing the messages?\n",
    "import re\n",
    "regex_rule = re.compile(r\"(\\d+ \\d+ \\| \\d+ \\d+)|((?:\\d+ ?)+)|\\\"([ab])\\\"\")\n",
    "\n",
    "# Recursion test, not correct\n",
    "# rule_list should be known\n",
    "rule = [\"\"]*10\n",
    "def parse(rule, k, n):\n",
    "    \"\"\"\n",
    "    rule = ruleset to build\n",
    "    k = \n",
    "    n = start rule\n",
    "    \"\"\"\n",
    "    # do regex and named groups for main rules\n",
    "    print(rule, rule_list[n], k)\n",
    "    results = regex_rule.search(rule_list[n])\n",
    "    groups = results.groups()\n",
    "\n",
    "    if groups[0]: # 2 3 | 3 2\n",
    "        parts = groups[0].split(\"|\")\n",
    "        #rule[k + 1] = rule[k]\n",
    "        for rule_n in parts[0].strip().split(\" \"):\n",
    "            rule = parse(rule, k, int(rule_n))\n",
    "        k += 1 # split here\n",
    "        for rule_n in parts[1].strip().split(\" \"):\n",
    "            rule = parse(rule, k, int(rule_n))\n",
    "    if groups[1]: # 4 1 5\n",
    "        for rule_n in groups[1].strip().split(\" \"):\n",
    "            rule = parse(rule, k, int(rule_n))\n",
    "    if groups[2]: # a b\n",
    "        if groups[2] == \"a\":\n",
    "            rule[k] = rule[k] + \"a\"\n",
    "        if groups[2] == \"b\":\n",
    "            rule[k] = rule[k] + \"b\"\n",
    "    return rule\n",
    "\n",
    "parse(rule, 0, 0)"
   ]
  },
  {
   "cell_type": "code",
   "execution_count": 98,
   "metadata": {},
   "outputs": [
    {
     "output_type": "execute_result",
     "data": {
      "text/plain": [
       "['4 1 5', '2 3 | 3 2', '4 4 | 5 5', '4 5 | 5 4', '\"a\"', '\"b\"']"
      ]
     },
     "metadata": {},
     "execution_count": 98
    }
   ],
   "source": [
    "rule_list"
   ]
  },
  {
   "cell_type": "code",
   "execution_count": 217,
   "metadata": {},
   "outputs": [
    {
     "output_type": "execute_result",
     "data": {
      "text/plain": [
       "['ababbb',\n",
       " 'ababaa',\n",
       " 'abbbab',\n",
       " 'ababaa',\n",
       " 'abbbba',\n",
       " 'abbbab',\n",
       " 'abbaaa',\n",
       " 'abaaab']"
      ]
     },
     "metadata": {},
     "execution_count": 217
    }
   ],
   "source": [
    "# Puzzle 1 with objects\n",
    "\n",
    "# Not trees per se, but object-oriented, to easily copy objects.\n",
    "\n",
    "# Parsing function:\n",
    "#rule:\n",
    "# if a/b: store value, drop doing, move one of todo to doing, stop if todo is empty\n",
    "# if 1 2 3: put first into doing, rest into todo. \n",
    "# if 1 2 | 2 1: copy object, put both firsts into doing, rest into todo. call parsing functions of both\n",
    "\n",
    "# to improve: inherit rule_list from parent\n",
    "\n",
    "import re\n",
    "regex_rule = re.compile(r\"(\\d+ \\d+ \\| \\d+ \\d+)|((?:\\d+ ?)+)|\\\"([ab])\\\"\")\n",
    "\n",
    "class RuleSet:\n",
    "    def __init__(self, rule_list):\n",
    "        self.rule_list = rule_list\n",
    "        self.rules = []\n",
    "\n",
    "    def parse(self):\n",
    "        \"\"\"Create initial rule\"\"\"\n",
    "        rule = Rule(self.rule_list, ruleset=self)\n",
    "        self.rules.append(rule)\n",
    "\n",
    "class Rule:\n",
    "    def __init__(self, rule_list, todo=[], result=\"\", ruleset=None, start_n=0):\n",
    "        self.rule_list = rule_list\n",
    "        self.start_n = start_n\n",
    "        self.todo = todo\n",
    "        self.result = result\n",
    "        self.ruleset = ruleset\n",
    "\n",
    "        self.parse(start_n)\n",
    "\n",
    "    def parse(self, n=0):\n",
    "        rule_to_parse = self.rule_list[n]\n",
    "        groups = regex_rule.search(rule_to_parse).groups() # to do: named groups for main rules\n",
    "        if groups[0]: # 2 3 | 3 2\n",
    "            parts = groups[0].split(\"|\")\n",
    "\n",
    "            queue2 = [int(value) for value in parts[1].strip().split(\" \")]\n",
    "            todo = queue2 + self.todo\n",
    "            doing = todo.pop(0)\n",
    "            rule_new = Rule(self.rule_list, todo, self.result, self.ruleset, doing)\n",
    "            self.ruleset.rules.append(rule_new)\n",
    "\n",
    "            queue1 = [int(value) for value in parts[0].strip().split(\" \")]\n",
    "            self.todo += queue1\n",
    "            self.parse(self.todo.pop(0))\n",
    "            \n",
    "        if groups[1]: # 4 1 5\n",
    "            queue = [int(value) for value in groups[1].strip().split(\" \")]\n",
    "            self.todo = queue + self.todo\n",
    "            self.parse(self.todo.pop(0))\n",
    "        if groups[2]: # a b\n",
    "            if groups[2] == \"a\":\n",
    "                self.result += \"a\"\n",
    "            if groups[2] == \"b\":\n",
    "                self.result += \"b\"\n",
    "            if self.todo:\n",
    "                self.parse(self.todo.pop(0))\n",
    "        return\n",
    "\n",
    "\n",
    "rules = RuleSet(rule_list)\n",
    "rules.parse()\n",
    "[rule.result for rule in rules.rules]"
   ]
  },
  {
   "cell_type": "code",
   "execution_count": 205,
   "metadata": {},
   "outputs": [
    {
     "output_type": "execute_result",
     "data": {
      "text/plain": [
       "[<__main__.Rule at 0x7fe5cb412fd0>,\n",
       " <__main__.Rule at 0x7fe5cb412650>,\n",
       " <__main__.Rule at 0x7fe5cb0e0dd0>,\n",
       " <__main__.Rule at 0x7fe5cb0e0f90>,\n",
       " <__main__.Rule at 0x7fe5cb4126d0>,\n",
       " <__main__.Rule at 0x7fe5cb4122d0>]"
      ]
     },
     "metadata": {},
     "execution_count": 205
    }
   ],
   "source": [
    "rules.rules"
   ]
  },
  {
   "cell_type": "code",
   "execution_count": 182,
   "metadata": {},
   "outputs": [
    {
     "output_type": "execute_result",
     "data": {
      "text/plain": [
       "[2, 3]"
      ]
     },
     "metadata": {},
     "execution_count": 182
    }
   ],
   "source": [
    "x"
   ]
  },
  {
   "cell_type": "code",
   "execution_count": null,
   "metadata": {},
   "outputs": [],
   "source": []
  }
 ],
 "metadata": {
  "kernelspec": {
   "name": "aoc",
   "display_name": "aoc",
   "language": "python"
  },
  "language_info": {
   "codemirror_mode": {
    "name": "ipython",
    "version": 3
   },
   "file_extension": ".py",
   "mimetype": "text/x-python",
   "name": "python",
   "nbconvert_exporter": "python",
   "pygments_lexer": "ipython3",
   "version": "3.7.9-final"
  }
 },
 "nbformat": 4,
 "nbformat_minor": 2
}