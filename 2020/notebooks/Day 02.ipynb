{
 "cells": [
  {
   "cell_type": "code",
   "execution_count": 2,
   "metadata": {},
   "outputs": [
    {
     "output_type": "execute_result",
     "data": {
      "text/plain": [
       "['9-11 p: pppppppppxblp',\n",
       " '2-4 b: bbxbb',\n",
       " '3-5 q: dqfqb',\n",
       " '5-8 g: ggcgggglg',\n",
       " '10-18 l: gllpmlgtrmnllhllrlll',\n",
       " '18-19 z: zzzzznszzzzzzzzzzzxz',\n",
       " '3-6 r: frrhxsnrmgmw',\n",
       " '1-8 n: zkxhnxnzghnm',\n",
       " '11-12 z: zzczzzztlzlzzzz',\n",
       " '4-7 q: qqqbncqqq']"
      ]
     },
     "metadata": {},
     "execution_count": 2
    }
   ],
   "source": [
    "# Load data\n",
    "with open(\"../data/day2.txt\", \"r\") as f:\n",
    "    input = f.read()\n",
    "\n",
    "data = input.split(\"\\n\")\n",
    "data[0:10]"
   ]
  },
  {
   "cell_type": "code",
   "execution_count": 3,
   "metadata": {},
   "outputs": [
    {
     "output_type": "stream",
     "name": "stdout",
     "text": [
      "628\n705\n"
     ]
    }
   ],
   "source": [
    "# Puzzle 1 & 2\n",
    "import re\n",
    "\n",
    "regex = \"(\\d+)-(\\d+) (\\D){1}: (\\D+)\"\n",
    "\n",
    "m1 = 0\n",
    "m2 = 0\n",
    "for line in data:\n",
    "    regex_result = re.search(regex, line)\n",
    "    n_min = int(regex_result.group(1))\n",
    "    n_max = int(regex_result.group(2))\n",
    "    letter = regex_result.group(3)\n",
    "    pwd = regex_result.group(4)\n",
    "    #print(n_min, n_max, letter, pwd, pwd[n_min-1], pwd[n_max-1])\n",
    "\n",
    "    if n_min <= pwd.count(letter) <= n_max:\n",
    "        m1 += 1    \n",
    "    if (pwd[n_min-1] == letter) != (pwd[n_max-1] == letter):\n",
    "        m2 += 1\n",
    "print(m1)\n",
    "print(m2)"
   ]
  },
  {
   "cell_type": "code",
   "execution_count": null,
   "metadata": {},
   "outputs": [],
   "source": []
  }
 ],
 "metadata": {
  "kernelspec": {
   "display_name": "aoc",
   "language": "python",
   "name": "aoc"
  },
  "language_info": {
   "codemirror_mode": {
    "name": "ipython",
    "version": 3
   },
   "file_extension": ".py",
   "mimetype": "text/x-python",
   "name": "python",
   "nbconvert_exporter": "python",
   "pygments_lexer": "ipython3",
   "version": "3.7.9-final"
  }
 },
 "nbformat": 4,
 "nbformat_minor": 2
}