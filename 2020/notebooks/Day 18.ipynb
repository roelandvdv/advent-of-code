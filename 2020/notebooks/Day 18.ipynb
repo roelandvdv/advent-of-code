{
 "cells": [
  {
   "cell_type": "code",
   "execution_count": 2,
   "metadata": {
    "tags": []
   },
   "outputs": [],
   "source": [
    "# Load data\n",
    "with open(\"../data/day18.txt\", \"r\") as f:\n",
    "    input = f.read()\n",
    "\n",
    "lines = input.split(\"\\n\")"
   ]
  },
  {
   "cell_type": "code",
   "execution_count": 120,
   "metadata": {},
   "outputs": [
    {
     "output_type": "execute_result",
     "data": {
      "text/plain": [
       "86311597203806"
      ]
     },
     "metadata": {},
     "execution_count": 120
    }
   ],
   "source": [
    "# Puzzle 1\n",
    "# https://pythonhosted.org/pyparsing/pyparsing-module.html#infixNotation\n",
    "# https://github.com/higumachan/pyparsing-calculator/blob/master/main.py\n",
    "\n",
    "from pyparsing import pyparsing_common, infixNotation, opAssoc, oneOf\n",
    "\n",
    "def operator(string, locs, tokens):\n",
    "    total = tokens[0][0]\n",
    "    for operator, value in zip(tokens[0][1::2], tokens[0][2::2]):\n",
    "        if operator == \"+\":\n",
    "            total += value\n",
    "        if operator == \"-\":\n",
    "            total +- value\n",
    "        if operator == \"*\":\n",
    "            total = total * value\n",
    "    return total\n",
    "\n",
    "integer = pyparsing_common.signed_integer\n",
    "arith_expr = infixNotation(integer,\n",
    "    [\n",
    "        (oneOf('* + -'), 2, opAssoc.LEFT, operator),\n",
    "    ])\n",
    "\n",
    "test_input = \"1 + (2 * 3) + (4 * (5 + 6))\"\n",
    "assert arith_expr.parseString(test_input)[0] == 51\n",
    "\n",
    "results = [arith_expr.parseString(line)[0] for line in lines]\n",
    "sum(results)"
   ]
  },
  {
   "cell_type": "code",
   "execution_count": 123,
   "metadata": {},
   "outputs": [
    {
     "output_type": "execute_result",
     "data": {
      "text/plain": [
       "276894767062189"
      ]
     },
     "metadata": {},
     "execution_count": 123
    }
   ],
   "source": [
    "# Puzzle 2\n",
    "def plus_minus(string, locs, tokens):\n",
    "    total = tokens[0][0]\n",
    "    for operator, value in zip(tokens[0][1::2], tokens[0][2::2]):\n",
    "        if operator == \"+\":\n",
    "            total += value\n",
    "        if operator == \"-\":\n",
    "            total +- value\n",
    "    return total\n",
    "\n",
    "def multiplication(string, locs, tokens):\n",
    "    total = tokens[0][0]\n",
    "    for operator, value in zip(tokens[0][1::2], tokens[0][2::2]):\n",
    "        total = total * value\n",
    "    return total\n",
    "\n",
    "integer = pyparsing_common.signed_integer\n",
    "arith_expr = infixNotation(integer,\n",
    "    [\n",
    "        (oneOf('+ -'), 2, opAssoc.LEFT, plus_minus),\n",
    "        ('*', 2, opAssoc.LEFT, multiplication),\n",
    "    ])\n",
    "\n",
    "test_input = \"1 + 2 * 3 + 4 * 5 + 6\"\n",
    "assert arith_expr.parseString(test_input)[0] == 231\n",
    "\n",
    "results = [arith_expr.parseString(line)[0] for line in lines]\n",
    "sum(results)"
   ]
  },
  {
   "cell_type": "code",
   "execution_count": null,
   "metadata": {},
   "outputs": [],
   "source": []
  }
 ],
 "metadata": {
  "kernelspec": {
   "name": "aoc",
   "display_name": "aoc",
   "language": "python"
  },
  "language_info": {
   "codemirror_mode": {
    "name": "ipython",
    "version": 3
   },
   "file_extension": ".py",
   "mimetype": "text/x-python",
   "name": "python",
   "nbconvert_exporter": "python",
   "pygments_lexer": "ipython3",
   "version": "3.7.9-final"
  }
 },
 "nbformat": 4,
 "nbformat_minor": 2
}