{
 "cells": [
  {
   "cell_type": "code",
   "execution_count": 82,
   "metadata": {},
   "outputs": [],
   "source": [
    "# Load data\n",
    "with open(\"../data/day14.txt\", \"r\") as f:\n",
    "    input = f.read()\n",
    "\n",
    "#input"
   ]
  },
  {
   "cell_type": "code",
   "execution_count": 88,
   "metadata": {
    "tags": []
   },
   "outputs": [],
   "source": [
    "# Puzzle 1\n",
    "import re\n",
    "\n",
    "regex_instruction = re.compile(r\"mask = (.*)\\n(mem\\[\\d*] = \\d*(\\n)?)+\", re.MULTILINE)\n",
    "regex_mem = re.compile(r\"mem\\[(\\d*)] = (\\d*)\", re.MULTILINE)\n",
    "\n",
    "found_instructions = regex_instruction.finditer(input)\n",
    "instruction_list = []\n",
    "for found_instruction in found_instructions:\n",
    "    instruction = {}\n",
    "    instruction[\"mask\"] = found_instruction[1]\n",
    "\n",
    "    instruction_raw = found_instruction[0]\n",
    "    found_mems = regex_mem.finditer(instruction_raw)\n",
    "    instruction[\"mems\"] = [(int(found_mem[1]), int(found_mem[2])) for found_mem in found_mems]\n",
    "    \n",
    "    instruction_list.append(instruction)\n",
    "\n",
    "#print(instruction_list)"
   ]
  },
  {
   "cell_type": "code",
   "execution_count": 95,
   "metadata": {},
   "outputs": [
    {
     "output_type": "stream",
     "name": "stdout",
     "text": [
      "7611244640053\n"
     ]
    }
   ],
   "source": [
    "memory = {}\n",
    "\n",
    "for instruction in instruction_list:\n",
    "    mask = instruction[\"mask\"]\n",
    "    mask_and = int(mask.replace(\"X\", \"1\"), 2) # mask bits to 0\n",
    "    mask_or = int(mask.replace(\"X\", \"0\"), 2) # mask bits to 1\n",
    "\n",
    "    for (address, value) in instruction[\"mems\"]:\n",
    "        value_to_write = value & mask_and | mask_or\n",
    "        #print(address, value_to_write)\n",
    "        memory[address] = value_to_write\n",
    "\n",
    "print(sum(memory.values()))"
   ]
  },
  {
   "cell_type": "code",
   "execution_count": null,
   "metadata": {},
   "outputs": [],
   "source": []
  }
 ],
 "metadata": {
  "kernelspec": {
   "name": "aoc",
   "display_name": "aoc",
   "language": "python"
  },
  "language_info": {
   "codemirror_mode": {
    "name": "ipython",
    "version": 3
   },
   "file_extension": ".py",
   "mimetype": "text/x-python",
   "name": "python",
   "nbconvert_exporter": "python",
   "pygments_lexer": "ipython3",
   "version": "3.7.9-final"
  }
 },
 "nbformat": 4,
 "nbformat_minor": 2
}