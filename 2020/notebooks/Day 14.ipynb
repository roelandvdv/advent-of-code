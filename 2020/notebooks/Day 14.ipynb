{
 "cells": [
  {
   "cell_type": "code",
   "execution_count": 165,
   "metadata": {},
   "outputs": [],
   "source": [
    "# Load data\n",
    "with open(\"../data/day14.txt\", \"r\") as f:\n",
    "    input = f.read()"
   ]
  },
  {
   "cell_type": "code",
   "execution_count": 168,
   "metadata": {
    "tags": []
   },
   "outputs": [],
   "source": [
    "# Load instructions\n",
    "import re\n",
    "\n",
    "regex_instruction = re.compile(r\"mask = (.*)\\n(mem\\[\\d*] = \\d*(\\n)?)+\", re.MULTILINE)\n",
    "regex_mem = re.compile(r\"mem\\[(\\d*)] = (\\d*)\", re.MULTILINE)\n",
    "\n",
    "found_instructions = regex_instruction.finditer(input)\n",
    "instruction_list = []\n",
    "for found_instruction in found_instructions:\n",
    "    instruction = {}\n",
    "    instruction[\"mask\"] = found_instruction[1]\n",
    "\n",
    "    instruction_raw = found_instruction[0]\n",
    "    found_mems = regex_mem.finditer(instruction_raw)\n",
    "    instruction[\"mems\"] = [(int(found_mem[1]), int(found_mem[2])) for found_mem in found_mems]\n",
    "    \n",
    "    instruction_list.append(instruction)\n",
    "\n",
    "#print(instruction_list)"
   ]
  },
  {
   "cell_type": "code",
   "execution_count": 169,
   "metadata": {},
   "outputs": [
    {
     "output_type": "stream",
     "name": "stdout",
     "text": [
      "7611244640053\n"
     ]
    }
   ],
   "source": [
    "# Puzzle 1\n",
    "memory = {}\n",
    "for instruction in instruction_list:\n",
    "    mask = instruction[\"mask\"]\n",
    "    mask_and = int(mask.replace(\"X\", \"1\"), 2) # mask bits to 0\n",
    "    mask_or = int(mask.replace(\"X\", \"0\"), 2) # mask bits to 1\n",
    "\n",
    "    for (address, value) in instruction[\"mems\"]:\n",
    "        value_to_write = value & mask_and | mask_or\n",
    "        #print(address, value_to_write)\n",
    "        memory[address] = value_to_write\n",
    "\n",
    "print(sum(memory.values()))"
   ]
  },
  {
   "cell_type": "code",
   "execution_count": 172,
   "metadata": {},
   "outputs": [
    {
     "output_type": "stream",
     "name": "stdout",
     "text": [
      "[26, 27, 58, 59]\n",
      "[16, 17, 18, 19, 24, 25, 26, 27]\n",
      "3705162613854\n"
     ]
    }
   ],
   "source": [
    "# Puzzle 2\n",
    "from itertools import product\n",
    "\n",
    "def generate_addresses(address, mask):\n",
    "    mask_or = int(mask.replace(\"X\", \"0\"), 2) # mask bits to 1\n",
    "    address_temp = address | mask_or\n",
    "    address_temp_bin = \"{0:b}\".format(address_temp).zfill(36)\n",
    "\n",
    "    indices = [pos for pos, char in enumerate(mask) if char == \"X\"]\n",
    "    options = product('01', repeat=len(indices))\n",
    "    address_list = []\n",
    "    for option in options:\n",
    "        new_address = address_temp_bin\n",
    "        for i, value in zip(indices, option):\n",
    "            new_address = new_address[:i] + value + new_address[i+1:]\n",
    "        address_list.append(int(new_address, 2))\n",
    "\n",
    "    return address_list\n",
    "\n",
    "test_mask = \"000000000000000000000000000000X1001X\"\n",
    "test_address = 42\n",
    "print(generate_addresses(test_address, test_mask))\n",
    "\n",
    "test_mask = \"00000000000000000000000000000000X0XX\"\n",
    "test_address = 26\n",
    "print(generate_addresses(test_address, test_mask))\n",
    "\n",
    "memory = {}\n",
    "for instruction in instruction_list:\n",
    "    mask = instruction[\"mask\"]\n",
    "    for (address, value) in instruction[\"mems\"]:\n",
    "        addresses = generate_addresses(address, mask)\n",
    "        for actual_adress in addresses:\n",
    "            memory[actual_adress] = value\n",
    "\n",
    "print(sum(memory.values()))"
   ]
  },
  {
   "cell_type": "code",
   "execution_count": null,
   "metadata": {},
   "outputs": [],
   "source": []
  }
 ],
 "metadata": {
  "kernelspec": {
   "name": "aoc",
   "display_name": "aoc",
   "language": "python"
  },
  "language_info": {
   "codemirror_mode": {
    "name": "ipython",
    "version": 3
   },
   "file_extension": ".py",
   "mimetype": "text/x-python",
   "name": "python",
   "nbconvert_exporter": "python",
   "pygments_lexer": "ipython3",
   "version": "3.7.9-final"
  }
 },
 "nbformat": 4,
 "nbformat_minor": 2
}