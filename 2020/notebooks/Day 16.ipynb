{
 "cells": [
  {
   "cell_type": "code",
   "execution_count": 284,
   "metadata": {
    "tags": []
   },
   "outputs": [],
   "source": [
    "# Load data\n",
    "import re\n",
    "from itertools import chain # this consumes iterable\n",
    "\n",
    "with open(\"../data/day16.txt\", \"r\") as f:\n",
    "    input = f.read()\n",
    "\n",
    "def parse(input):\n",
    "    input_list = input.split(\"\\n\\n\")\n",
    "    rules = input_list[0].split(\"\\n\")\n",
    "    my_ticket = [int(value) for value in input_list[1].split(\"\\n\")[1].split(\",\")]\n",
    "    nearby_tickets = [[int(value) for value in ticket.split(\",\")] for ticket in input_list[2].split(\"\\n\")[1:]]\n",
    "\n",
    "    regex = re.compile(r\"(.*): (\\d+)-(\\d+) or (\\d+)-(\\d+)\") # named groups to dict?\n",
    "    rule_dict = {}\n",
    "    for rule in rules:\n",
    "        data = regex.search(rule).groups()\n",
    "        rule_name = data[0]\n",
    "        allowed = list(range(int(data[1]), int(data[2]) + 1)) + list(range(int(data[3]), int(data[4]) + 1))\n",
    "        rule_dict[rule_name] = allowed\n",
    "\n",
    "    full_rule_set = set().union(*rule_dict.values())\n",
    "    return rule_dict, nearby_tickets, my_ticket\n",
    "\n",
    "rule_dict, nearby_tickets, my_ticket = parse(input)\n",
    "\n",
    "#zone: 34-521 or 534-971\n",
    "assert 33 not in rule_dict[\"zone\"] \n",
    "assert 34 in rule_dict[\"zone\"]\n",
    "assert 521 in rule_dict[\"zone\"]\n",
    "assert 522 not in rule_dict[\"zone\"]\n",
    "assert 533 not in rule_dict[\"zone\"]\n",
    "assert 534 in rule_dict[\"zone\"]\n",
    "assert 971 in rule_dict[\"zone\"]\n",
    "assert 972 not in rule_dict[\"zone\"]"
   ]
  },
  {
   "cell_type": "code",
   "execution_count": 285,
   "metadata": {},
   "outputs": [
    {
     "output_type": "stream",
     "name": "stdout",
     "text": [
      "21081\n190\n"
     ]
    }
   ],
   "source": [
    "# Puzzle 1 (expanded/changed to retain valid tickets)\n",
    "import numpy as np\n",
    "\n",
    "errors = []\n",
    "valid_tickets = []\n",
    "for ticket in nearby_tickets:\n",
    "    ticket_errors = [value for value in ticket if value not in full_rule_set]\n",
    "    if ticket_errors:\n",
    "        errors.append(*ticket_errors)\n",
    "    else:\n",
    "        valid_tickets.append(ticket)\n",
    "\n",
    "print(sum(errors))\n",
    "print(len(valid_tickets))"
   ]
  },
  {
   "cell_type": "code",
   "execution_count": 286,
   "metadata": {},
   "outputs": [
    {
     "output_type": "stream",
     "name": "stdout",
     "text": [
      "[[279 705 188 ... 501 808 245]\n [ 51 436 407 ... 552 164 813]\n [407 242 909 ... 198 806  64]\n ...\n [348 556 567 ... 631 560 344]\n [515 391 442 ... 492 494 485]\n [409 442 390 ... 684 632 192]]\n{0: 'route', 12: 'seat', 4: 'arrival station', 5: 'duration', 1: 'arrival track', 8: 'train', 15: 'class', 19: 'departure track', 13: 'departure time', 7: 'departure platform', 16: 'departure date', 14: 'departure station', 2: 'departure location', 17: 'price', 11: 'wagon', 18: 'zone', 9: 'row', 6: 'arrival platform', 3: 'type', 10: 'arrival location'}\n"
     ]
    },
    {
     "output_type": "execute_result",
     "data": {
      "text/plain": [
       "314360510573"
      ]
     },
     "metadata": {},
     "execution_count": 286
    }
   ],
   "source": [
    "# Puzzle 2\n",
    "import numpy as np\n",
    "\n",
    "# Get ticket array\n",
    "ticket_array = np.array(valid_tickets)\n",
    "print(ticket_array)\n",
    "\n",
    "# Get all possible rules for every field\n",
    "rule_options = []\n",
    "for n in range(0, np.shape(ticket_array)[1]):\n",
    "    rule_option = [rule_name for rule_name, values in rule_dict.items() if set(ticket_array[:,n]).issubset(set(values))]\n",
    "    rule_options.append(rule_option)\n",
    "\n",
    "# Eliminate rules (can probably be done smarter)\n",
    "final_rules = {}\n",
    "while [ro for ro in rule_options if ro]:\n",
    "    k = 0\n",
    "    for rules in rule_options:\n",
    "        if len(rules) == 1:\n",
    "            to_remove = rules[0]\n",
    "            final_rules[k] = to_remove\n",
    "            for rules_deep in rule_options:\n",
    "                if to_remove in rules_deep:\n",
    "                    rules_deep.remove(to_remove)\n",
    "        k += 1\n",
    "\n",
    "print(final_rules)\n",
    "\n",
    "# Filter keys on departure\n",
    "np.prod([my_ticket[key] for key, field in final_rules.items() if field.startswith(\"departure\")])"
   ]
  },
  {
   "cell_type": "code",
   "execution_count": null,
   "metadata": {},
   "outputs": [],
   "source": []
  }
 ],
 "metadata": {
  "kernelspec": {
   "name": "aoc",
   "display_name": "aoc",
   "language": "python"
  },
  "language_info": {
   "codemirror_mode": {
    "name": "ipython",
    "version": 3
   },
   "file_extension": ".py",
   "mimetype": "text/x-python",
   "name": "python",
   "nbconvert_exporter": "python",
   "pygments_lexer": "ipython3",
   "version": "3.7.9-final"
  }
 },
 "nbformat": 4,
 "nbformat_minor": 2
}