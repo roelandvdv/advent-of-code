{
 "cells": [
  {
   "cell_type": "code",
   "execution_count": 152,
   "metadata": {
    "tags": []
   },
   "outputs": [],
   "source": [
    "# Load data\n",
    "import re\n",
    "from itertools import chain # this consumes iterable\n",
    "\n",
    "with open(\"../data/day16.txt\", \"r\") as f:\n",
    "    input = f.read()\n",
    "\n",
    "input_list = input.split(\"\\n\\n\")\n",
    "rules = input_list[0].split(\"\\n\")\n",
    "#my_ticket = input_list[1].split(\"\\n\")[1].split(\",\")\n",
    "nearby_tickets = [[int(value) for value in ticket.split(\",\")] for ticket in input_list[2].split(\"\\n\")[1:]]\n",
    "\n",
    "regex = re.compile(r\"(.*): (\\d+)-(\\d+) or (\\d+)-(\\d+)\") # named groups to dict?\n",
    "rule_dict = {}\n",
    "for rule in rules:\n",
    "    data = regex.search(rule).groups()\n",
    "    rule_name = data[0]\n",
    "    allowed = list(range(int(data[1]), int(data[2]) + 1)) + list(range(int(data[3]), int(data[4]) + 1))\n",
    "    rule_dict[rule_name] = allowed\n",
    "\n",
    "full_rule_set = set().union(*rule_dict.values())\n",
    "\n",
    "#zone: 34-521 or 534-971\n",
    "assert 33 not in rule_dict[\"zone\"] \n",
    "assert 34 in rule_dict[\"zone\"]\n",
    "assert 521 in rule_dict[\"zone\"]\n",
    "assert 522 not in rule_dict[\"zone\"]\n",
    "assert 533 not in rule_dict[\"zone\"]\n",
    "assert 534 in rule_dict[\"zone\"]\n",
    "assert 971 in rule_dict[\"zone\"]\n",
    "assert 972 not in rule_dict[\"zone\"]"
   ]
  },
  {
   "cell_type": "code",
   "execution_count": 160,
   "metadata": {
    "tags": []
   },
   "outputs": [
    {
     "output_type": "stream",
     "name": "stdout",
     "text": [
      "21081\n"
     ]
    }
   ],
   "source": [
    "# Puzzle 1\n",
    "errors = []\n",
    "for ticket in nearby_tickets:\n",
    "    for value in ticket:\n",
    "        if value not in full_rule_set:\n",
    "            errors.append(value)\n",
    "\n",
    "print(sum(errors))"
   ]
  },
  {
   "cell_type": "code",
   "execution_count": null,
   "metadata": {},
   "outputs": [],
   "source": [
    "# Puzzle 2"
   ]
  },
  {
   "cell_type": "code",
   "execution_count": null,
   "metadata": {},
   "outputs": [],
   "source": []
  }
 ],
 "metadata": {
  "kernelspec": {
   "name": "aoc",
   "display_name": "aoc",
   "language": "python"
  },
  "language_info": {
   "codemirror_mode": {
    "name": "ipython",
    "version": 3
   },
   "file_extension": ".py",
   "mimetype": "text/x-python",
   "name": "python",
   "nbconvert_exporter": "python",
   "pygments_lexer": "ipython3",
   "version": "3.7.9-final"
  }
 },
 "nbformat": 4,
 "nbformat_minor": 2
}