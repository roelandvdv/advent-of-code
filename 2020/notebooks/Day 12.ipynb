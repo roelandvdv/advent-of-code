{
 "cells": [
  {
   "cell_type": "code",
   "execution_count": 71,
   "metadata": {},
   "outputs": [],
   "source": [
    "# Load data\n",
    "with open(\"../data/day12.txt\", \"r\") as f:\n",
    "    input = f.read()\n",
    "\n",
    "data = input.split(\"\\n\")\n",
    "data[0:10]\n",
    "\n",
    "test_data = [\"F10\", \"N3\", \"F7\", \"R90\", \"F11\"]\n",
    "test_result = 25"
   ]
  },
  {
   "cell_type": "code",
   "execution_count": 72,
   "metadata": {},
   "outputs": [
    {
     "output_type": "stream",
     "name": "stdout",
     "text": [
      "521\n"
     ]
    }
   ],
   "source": [
    "# Puzzle 1\n",
    "def move(direction, value, x, y):\n",
    "    # do with dictionary instead?\n",
    "    if direction == \"N\":\n",
    "        y += int(value)\n",
    "    if direction == \"S\":\n",
    "        y += -int(value)\n",
    "    if direction == \"E\":\n",
    "        x += int(value)\n",
    "    if direction == \"W\":\n",
    "        x += -int(value)\n",
    "    return x, y\n",
    "\n",
    "# Setup\n",
    "x = 0\n",
    "y = 0\n",
    "direction = \"E\"\n",
    "NESW = [\"N\", \"E\", \"S\", \"W\"]\n",
    "\n",
    "for instruction in data:\n",
    "    # Get instructions\n",
    "    action = instruction[0]\n",
    "    value = int(instruction[1:])\n",
    "\n",
    "    # Do actions\n",
    "    if action in NESW:\n",
    "        x, y = move(action, value, x, y)\n",
    "    if action == \"F\":\n",
    "        x, y = move(direction, value, x, y)\n",
    "    if action == \"L\":\n",
    "        steps = int(4 * value/360)\n",
    "        direction = NESW[NESW.index(direction) - steps]\n",
    "    if action == \"R\":\n",
    "        steps = int(4 * value/360)\n",
    "        direction = NESW[(NESW.index(direction) + steps) % 4]\n",
    "\n",
    "    #print(x, y, direction)\n",
    "\n",
    "manhattan_distance = abs(x) + abs(y)\n",
    "print(manhattan_distance)\n"
   ]
  },
  {
   "cell_type": "code",
   "execution_count": 73,
   "metadata": {},
   "outputs": [
    {
     "output_type": "stream",
     "name": "stdout",
     "text": [
      "22848\n"
     ]
    }
   ],
   "source": [
    "# Puzzle 2\n",
    "# Track position of both ship and waypoint\n",
    "\n",
    "# Setup\n",
    "x = 0\n",
    "y = 0\n",
    "dx = 10\n",
    "dy = 1\n",
    "NESW = [\"N\", \"E\", \"S\", \"W\"]\n",
    "\n",
    "for instruction in data:\n",
    "    # Get instructions\n",
    "    action = instruction[0]\n",
    "    value = int(instruction[1:])\n",
    "\n",
    "    dx_org = dx\n",
    "    dy_org = dy\n",
    "\n",
    "    # Do actions\n",
    "    if action in NESW:\n",
    "        dx, dy = move(action, value, dx, dy)\n",
    "    if action == \"F\":\n",
    "        x = x + (value * dx)\n",
    "        y = y + (value * dy)\n",
    "    if (action == \"L\" and value == 90) or (action == \"R\" and value == 270):\n",
    "        dx = -dy_org\n",
    "        dy = dx_org\n",
    "    if (action == \"R\" and value == 90) or (action == \"L\" and value == 270):\n",
    "        dx = dy_org\n",
    "        dy = -dx_org\n",
    "    if action in [\"L\", \"R\"] and value == 180:\n",
    "        dx = -dx_org\n",
    "        dy = -dy_org\n",
    "\n",
    "    #print(x, y, dx, dy)\n",
    "\n",
    "manhattan_distance = abs(x) + abs(y)\n",
    "print(manhattan_distance)"
   ]
  },
  {
   "cell_type": "code",
   "execution_count": null,
   "metadata": {},
   "outputs": [],
   "source": []
  }
 ],
 "metadata": {
  "kernelspec": {
   "name": "aoc",
   "display_name": "aoc",
   "language": "python"
  },
  "language_info": {
   "codemirror_mode": {
    "name": "ipython",
    "version": 3
   },
   "file_extension": ".py",
   "mimetype": "text/x-python",
   "name": "python",
   "nbconvert_exporter": "python",
   "pygments_lexer": "ipython3",
   "version": "3.7.9-final"
  }
 },
 "nbformat": 4,
 "nbformat_minor": 2
}