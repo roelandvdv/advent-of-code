{
 "cells": [
  {
   "cell_type": "code",
   "execution_count": 1,
   "metadata": {},
   "outputs": [
    {
     "output_type": "execute_result",
     "data": {
      "text/plain": [
       "['mswxhfpl\\nxmhulfp\\njhglrxfvmp\\nxtldhmpf',\n",
       " 'c\\nc\\nlc\\nc',\n",
       " 'zxe\\nex\\noxncuje\\nvdex\\ndevx',\n",
       " 'xjylztwnkbma\\napxzvjlwnbdyk\\nzlnbrkyagwjx\\nykslxwbjuzang\\nwjkbylazxne',\n",
       " 'aekysof\\necfokmdaysl\\nykiosefa\\noxsugykeaf\\nfstyoake',\n",
       " 'svzgnfiujobmc\\nkjlvfbnwimuzdqtgsec\\ncgijufnsbmzxv\\ncsfnzvujmigb',\n",
       " 'jzofxqebrk\\nzmverjxoafush\\nozclfjbierx\\njforizlex',\n",
       " 'cedziyl\\nlnemy',\n",
       " 'oujdnhgwlqfbmpcrevktaizs\\ncovqbthupgradfnijslexwk',\n",
       " 'eawjhlxrtc\\nahjlwexcr']"
      ]
     },
     "metadata": {},
     "execution_count": 1
    }
   ],
   "source": [
    "# Load data\n",
    "with open(\"../data/day6.txt\", \"r\") as f:\n",
    "    input = f.read()\n",
    "\n",
    "data = input.split(\"\\n\\n\")\n",
    "data[0:10]"
   ]
  },
  {
   "cell_type": "code",
   "execution_count": 2,
   "metadata": {},
   "outputs": [
    {
     "output_type": "stream",
     "name": "stdout",
     "text": [
      "6726\n"
     ]
    }
   ],
   "source": [
    "# Puzzle 1\n",
    "\n",
    "total = 0\n",
    "for group in data:\n",
    "    answers = group.replace(\"\\n\", \"\")\n",
    "    n = len(set(answers))\n",
    "    \n",
    "    total +=n\n",
    "    \n",
    "print(total)"
   ]
  },
  {
   "cell_type": "code",
   "execution_count": 3,
   "metadata": {},
   "outputs": [
    {
     "output_type": "stream",
     "name": "stdout",
     "text": [
      "3316\n"
     ]
    }
   ],
   "source": [
    "# Puzzle 2\n",
    "\n",
    "total = 0\n",
    "for group in data:\n",
    "\n",
    "    group_list = group.split(\"\\n\")\n",
    "    group_sets = [set(entry) for entry in group_list]\n",
    "    intersection = set.intersection(*group_sets)\n",
    "    \n",
    "    #print(group_list)\n",
    "    #print(intersection)\n",
    "    \n",
    "    n = len(intersection)\n",
    "    total +=n\n",
    "    \n",
    "print(total)"
   ]
  },
  {
   "cell_type": "code",
   "execution_count": null,
   "metadata": {},
   "outputs": [],
   "source": []
  }
 ],
 "metadata": {
  "kernelspec": {
   "display_name": "aoc",
   "language": "python",
   "name": "aoc"
  },
  "language_info": {
   "codemirror_mode": {
    "name": "ipython",
    "version": 3
   },
   "file_extension": ".py",
   "mimetype": "text/x-python",
   "name": "python",
   "nbconvert_exporter": "python",
   "pygments_lexer": "ipython3",
   "version": "3.7.9-final"
  }
 },
 "nbformat": 4,
 "nbformat_minor": 2
}