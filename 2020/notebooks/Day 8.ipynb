{
 "cells": [
  {
   "cell_type": "code",
   "execution_count": 2,
   "metadata": {},
   "outputs": [
    {
     "output_type": "stream",
     "name": "stdout",
     "text": [
      "jmp +336\njmp +593\njmp +121\nacc -8\nnop +459\njmp +451\nacc -6\nacc +23\nacc +23\nacc -2\njmp +113\nacc -11\na\n"
     ]
    }
   ],
   "source": [
    "# Load data\n",
    "with open(\"../data/day8.txt\", \"r\") as f:\n",
    "    input = f.read()\n",
    "\n",
    "print(input[0:100])"
   ]
  },
  {
   "cell_type": "code",
   "execution_count": 3,
   "metadata": {},
   "outputs": [
    {
     "output_type": "execute_result",
     "data": {
      "text/plain": [
       "[['jmp', '+336'],\n",
       " ['jmp', '+593'],\n",
       " ['jmp', '+121'],\n",
       " ['acc', '-8'],\n",
       " ['nop', '+459'],\n",
       " ['jmp', '+451'],\n",
       " ['acc', '-6'],\n",
       " ['acc', '+23'],\n",
       " ['acc', '+23'],\n",
       " ['acc', '-2']]"
      ]
     },
     "metadata": {},
     "execution_count": 3
    }
   ],
   "source": [
    "program = [line.split(\" \") for line in input.split(\"\\n\")]\n",
    "program[0:10]"
   ]
  },
  {
   "cell_type": "code",
   "execution_count": 3,
   "metadata": {},
   "outputs": [
    {
     "output_type": "stream",
     "name": "stdout",
     "text": [
      "203 1766 603\n"
     ]
    }
   ],
   "source": [
    "# Puzzle 1\n",
    "line = 0\n",
    "acc = 0\n",
    "n = 0\n",
    "line_history = []\n",
    "\n",
    "while line not in line_history:\n",
    "    n += 1\n",
    "    line_history.append(line)\n",
    "    \n",
    "    instruction = program[line]\n",
    "    if instruction[0] == \"acc\":\n",
    "        acc += int(instruction[1])\n",
    "        line += 1\n",
    "    if instruction[0] == \"jmp\":\n",
    "        line += int(instruction[1])\n",
    "    if instruction[0] == \"nop\":\n",
    "        line += 1\n",
    "    \n",
    "print(n, acc, line)"
   ]
  },
  {
   "cell_type": "code",
   "execution_count": 5,
   "metadata": {},
   "outputs": [],
   "source": [
    "#input = \\\n",
    "#\"nop +0\\n\\\n",
    "#acc +1\\n\\\n",
    "#jmp +4\\n\\\n",
    "#acc +3\\n\\\n",
    "#jmp -3\\n\\\n",
    "#acc -99\\n\\\n",
    "#acc +1\\n\\\n",
    "#jmp -4\\n\\\n",
    "#acc +6\"\n",
    "#program = [line.split(\" \") for line in input.split(\"\\n\")]\n",
    "#program"
   ]
  },
  {
   "cell_type": "code",
   "execution_count": 6,
   "metadata": {},
   "outputs": [
    {
     "output_type": "execute_result",
     "data": {
      "text/plain": [
       "(False, 1766)"
      ]
     },
     "metadata": {},
     "execution_count": 6
    }
   ],
   "source": [
    "# Puzzle 2\n",
    "\n",
    "#jmp (to nop) or nop (to jmp)\n",
    "# do brute force?\n",
    "def run_program(program):\n",
    "    line = 0\n",
    "    acc = 0\n",
    "    n = 0\n",
    "    line_history = []\n",
    "    finished = False\n",
    "\n",
    "    while line not in line_history and not finished:\n",
    "        n += 1\n",
    "        line_history.append(line)\n",
    "\n",
    "        instruction = program[line]\n",
    "        if instruction[0] == \"acc\":\n",
    "            acc += int(instruction[1])\n",
    "            line += 1\n",
    "        if instruction[0] == \"jmp\":\n",
    "            line += int(instruction[1])\n",
    "        if instruction[0] == \"nop\":\n",
    "            line += 1\n",
    "        finished = line == len(program)\n",
    "\n",
    "    return finished, acc\n",
    "\n",
    "run_program(program)"
   ]
  },
  {
   "cell_type": "code",
   "execution_count": 7,
   "metadata": {},
   "outputs": [
    {
     "output_type": "stream",
     "name": "stdout",
     "text": [
      "205 True 1639\n"
     ]
    }
   ],
   "source": [
    "import copy\n",
    "\n",
    "n = 0\n",
    "finished = False\n",
    "while n < len(program) and not finished:\n",
    "\n",
    "    program_new = copy.deepcopy(program)\n",
    "    \n",
    "    if program[n][0] == \"jmp\":\n",
    "        program_new[n][0] = \"nop\"\n",
    "    if program[n][0] == \"nop\":\n",
    "        program_new[n][0] = \"jmp\"\n",
    "    \n",
    "    finished, acc = run_program(program_new)\n",
    "    n += 1\n",
    "\n",
    "print(n, finished, acc)"
   ]
  },
  {
   "cell_type": "code",
   "execution_count": null,
   "metadata": {},
   "outputs": [],
   "source": []
  }
 ],
 "metadata": {
  "kernelspec": {
   "display_name": "aoc",
   "language": "python",
   "name": "aoc"
  },
  "language_info": {
   "codemirror_mode": {
    "name": "ipython",
    "version": 3
   },
   "file_extension": ".py",
   "mimetype": "text/x-python",
   "name": "python",
   "nbconvert_exporter": "python",
   "pygments_lexer": "ipython3",
   "version": "3.7.9-final"
  }
 },
 "nbformat": 4,
 "nbformat_minor": 2
}