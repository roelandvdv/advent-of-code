{
 "cells": [
  {
   "cell_type": "code",
   "execution_count": 2,
   "metadata": {
    "tags": []
   },
   "outputs": [
    {
     "output_type": "stream",
     "name": "stdout",
     "text": [
      "mirrored beige bags contain 1 drab brown bag, 3 dotted crimson bags.\nlight lavender bags contain 5 clear teal bags, 2 wavy gold bags, 5 drab maroon bags, 2 posh cyan bags.\ndrab gold bags contain 2 posh aqua bags, 3 dark olive bags.\nplaid lime bags contain 5 posh purple bags.\npale brown bags contain 2 dotted teal bags, 4 light plum bags.\nvibrant orange bags contain 3 dim cyan bags, 1 shiny gold bag, 1 shiny salmon bag.\ndull olive bags contain 5 wavy yellow bags, 5 striped crimson bags, 2 dotted m\n"
     ]
    }
   ],
   "source": [
    "# Load data\n",
    "with open(\"../data/day7.txt\", \"r\") as f:\n",
    "    input = f.read()\n",
    "\n",
    "print(input[0:500])"
   ]
  },
  {
   "cell_type": "code",
   "execution_count": 5,
   "metadata": {
    "tags": []
   },
   "outputs": [],
   "source": [
    "# Parse data\n",
    "import re\n",
    "\n",
    "regex = \"^ ?(\\d+) (.+) bags?\\.?$\"\n",
    "\n",
    "def parse_input(input):\n",
    "    bag_dict = {}\n",
    "    for line in input.split(\"\\n\"):\n",
    "        split = line.split(\" bags contain \")\n",
    "        main_bag_color = split[0]\n",
    "\n",
    "        bag_contents = {}\n",
    "        if not split[1] == \"no other bags.\":\n",
    "            content_list = split[1].split(\",\")\n",
    "            for content in content_list:\n",
    "                regex_result = re.search(regex, content)\n",
    "                bag_number = int(regex_result[1])\n",
    "                bag_color = regex_result[2]\n",
    "                bag_contents[bag_color] = bag_number\n",
    "\n",
    "        bag_dict[main_bag_color] = bag_contents\n",
    "    return bag_dict\n",
    "\n",
    "bag_dict = parse_input(input)\n",
    "#print(bag_dict)\n"
   ]
  },
  {
   "cell_type": "code",
   "execution_count": 12,
   "metadata": {},
   "outputs": [
    {
     "output_type": "stream",
     "name": "stdout",
     "text": [
      "300\n"
     ]
    }
   ],
   "source": [
    "# Puzzle 1\n",
    "\n",
    "def find_gold(main_color, n):\n",
    "    contents = bag_dict[main_color]\n",
    "    for color in contents.keys():\n",
    "        if color == \"shiny gold\":\n",
    "            #print(\"Success!\", main_color)\n",
    "            n += 1\n",
    "        else:   \n",
    "            n = find_gold(color, n)\n",
    "    return n\n",
    "\n",
    "m = 0\n",
    "for main_color in bag_dict.keys():\n",
    "    #print(main_color)\n",
    "    \n",
    "    k = find_gold(main_color, 0)\n",
    "    if k > 0:\n",
    "        m += 1\n",
    "    \n",
    "print(m)"
   ]
  },
  {
   "cell_type": "code",
   "execution_count": 10,
   "metadata": {
    "tags": []
   },
   "outputs": [],
   "source": [
    "# For testing\n",
    "\n",
    "#input = \\\n",
    "#\"light red bags contain 1 bright white bag, 2 muted yellow bags.\\n\\\n",
    "#dark orange bags contain 3 bright white bags, 4 muted yellow bags.\\n\\\n",
    "#bright white bags contain 1 shiny gold bag.\\n\\\n",
    "#muted yellow bags contain 2 shiny gold bags, 9 faded blue bags.\\n\\\n",
    "#shiny gold bags contain 1 dark olive bag, 2 vibrant plum bags.\\n\\\n",
    "#dark olive bags contain 3 faded blue bags, 4 dotted black bags.\\n\\\n",
    "#vibrant plum bags contain 5 faded blue bags, 6 dotted black bags.\\n\\\n",
    "#faded blue bags contain no other bags.\\n\\\n",
    "#dotted black bags contain no other bags.\"\n",
    "\n",
    "#input = \\\n",
    "#\"shiny gold bags contain 2 dark red bags.\\n\\\n",
    "#dark red bags contain 2 dark orange bags.\\n\\\n",
    "#dark orange bags contain 2 dark yellow bags.\\n\\\n",
    "#dark yellow bags contain 2 dark green bags.\\n\\\n",
    "#dark green bags contain 2 dark blue bags.\\n\\\n",
    "#dark blue bags contain 2 dark violet bags.\\n\\\n",
    "#dark violet bags contain no other bags.\"\n",
    "\n",
    "#bag_dict = parse_input(input)"
   ]
  },
  {
   "cell_type": "code",
   "execution_count": 11,
   "metadata": {},
   "outputs": [
    {
     "output_type": "execute_result",
     "data": {
      "text/plain": [
       "8030"
      ]
     },
     "metadata": {},
     "execution_count": 11
    }
   ],
   "source": [
    "# Puzzle 2\n",
    "\n",
    "def count_bags(main_color, n=0, k_prev=1):\n",
    "    contents = bag_dict[main_color]\n",
    "    #print(main_color, contents, k_prev, n)\n",
    "    \n",
    "    for color, k in contents.items():\n",
    "        #print(\"1\", main_color, color, k_prev, k, n)\n",
    "        k_new = k_prev * k\n",
    "        n += k_new\n",
    "        #print(\"2\", main_color, color, k_prev, k, n)\n",
    "        n = count_bags(color, n, k_new)\n",
    "        #print(\"3\", main_color, color, k_prev, k, n)\n",
    "    return n\n",
    "\n",
    "count_bags(\"shiny gold\")"
   ]
  },
  {
   "cell_type": "code",
   "execution_count": null,
   "metadata": {},
   "outputs": [],
   "source": []
  }
 ],
 "metadata": {
  "kernelspec": {
   "display_name": "aoc",
   "language": "python",
   "name": "aoc"
  },
  "language_info": {
   "codemirror_mode": {
    "name": "ipython",
    "version": 3
   },
   "file_extension": ".py",
   "mimetype": "text/x-python",
   "name": "python",
   "nbconvert_exporter": "python",
   "pygments_lexer": "ipython3",
   "version": "3.7.9-final"
  }
 },
 "nbformat": 4,
 "nbformat_minor": 2
}