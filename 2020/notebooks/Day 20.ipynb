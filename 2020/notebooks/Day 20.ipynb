{
 "cells": [
  {
   "cell_type": "code",
   "execution_count": 35,
   "metadata": {
    "tags": []
   },
   "outputs": [],
   "source": [
    "# Load data\n",
    "import numpy as np\n",
    "\n",
    "with open(\"../data/day20test.txt\", \"r\") as f:\n",
    "    input = f.read()\n",
    "\n",
    "tiles = input.split(\"\\n\\n\")\n",
    "\n",
    "tile_dict = {}\n",
    "for tile in tiles:\n",
    "    lines = tile.split(\"\\n\")\n",
    "    tile_id = int(lines[0].split(\" \")[1][:-1])\n",
    "    tile_data = np.array(\n",
    "        [[int(character.replace(\".\", \"0\").replace(\"#\", \"1\")) for character in line] for line in lines[1:]]\n",
    "    )\n",
    "    tile_dict[tile_id] = tile_data\n",
    "\n",
    "#tile_dict"
   ]
  },
  {
   "cell_type": "code",
   "execution_count": 36,
   "metadata": {},
   "outputs": [
    {
     "output_type": "execute_result",
     "data": {
      "text/plain": [
       "array([[0, 0, 1, 1, 0, 1, 0, 0, 1, 0],\n",
       "       [1, 1, 0, 0, 1, 0, 0, 0, 0, 0],\n",
       "       [1, 0, 0, 0, 1, 1, 0, 0, 1, 0],\n",
       "       [1, 1, 1, 1, 0, 1, 0, 0, 0, 1],\n",
       "       [1, 1, 0, 1, 1, 0, 1, 1, 1, 0],\n",
       "       [1, 1, 0, 0, 0, 1, 0, 1, 1, 1],\n",
       "       [0, 1, 0, 1, 0, 1, 0, 0, 1, 1],\n",
       "       [0, 0, 1, 0, 0, 0, 0, 1, 0, 0],\n",
       "       [1, 1, 1, 0, 0, 0, 1, 0, 1, 0],\n",
       "       [0, 0, 1, 1, 1, 0, 0, 1, 1, 1]])"
      ]
     },
     "metadata": {},
     "execution_count": 36
    }
   ],
   "source": [
    "tile_dict[2311]"
   ]
  },
  {
   "cell_type": "code",
   "execution_count": 117,
   "metadata": {},
   "outputs": [
    {
     "output_type": "stream",
     "name": "stdout",
     "text": [
      "[[   0.    0.    0.    0.    0.]\n [   0.    0.    0.    0.    0.]\n [   0.    0. 1234. 1234. 1234.]\n [   0. 1234. 1234. 1234. 1234.]\n [   0.    0. 1234. 1234. 1234.]]\n(array([2, 2, 2, 3, 3, 3, 3, 4, 4, 4]), array([2, 3, 4, 1, 2, 3, 4, 2, 3, 4]))\n[2 2 2 3 3 3 3 4 4 4]\n[2 3 4 1 2 3 4 2 3 4]\n"
     ]
    }
   ],
   "source": [
    "# total image can be flipped and rotated, so some degrees of freedom\n",
    "\n",
    "# data structure:\n",
    "# - ids, full arrays\n",
    "#OR\n",
    "# - ids, top, right, left, bottom line (rotation, flip)\n",
    "\n",
    "# - grid with IDs\n",
    "\n",
    "id_list = list(tile_dict.keys())\n",
    "\n",
    "#grid[m,n] = doing\n",
    "#get_available_edges(m,n)\n",
    "\n",
    "# Grid Class\n",
    "# Tile Class (wth method to return edges, etc.)\n",
    "\n",
    "# prepare\n",
    "# put one ID on grid\n",
    "# update grid todo list (list of all neighbouring positions)\n",
    "# update tile todo list (remove tile id)\n",
    "# start\n",
    "# select any position in grid todo list (iterate over them)\n",
    "# get edges that must match, together with their position\n",
    "#   - get neighbouring IDs\n",
    "#   - get left side of right ID from dict, etc.\n",
    "# find matching ID with rotation and flip by (itertools?)\n",
    "# - iterate over IDs\n",
    "#       - iterate over edges/rotation (4)\n",
    "#           - iterate over flip (4)\n",
    "# for every step, match 1-4 edges (right=right, top=top, etc.)\n",
    "# if match:\n",
    "# - update grid with id\n",
    "# - update dict with rotation and flip (???)\n",
    "#       - do it by actually flipping/rotating (or reordering lists)\n",
    "# - update grid todo list\n",
    "# - update tile todo list\n",
    "# if no match:\n",
    "# - put id to back of todo_list\n",
    "# break if tile todo list is empty\n",
    "# continue iterating over IDs\n",
    "\n",
    "class Grid():\n",
    "    \"\"\"\n",
    "    Main class for grid.\n",
    "    \"\"\"\n",
    "    def __init__(self, tile_dict):\n",
    "        self.tile_dict = tile_dict\n",
    "        \n",
    "        self.grid = np.zeros((5, 5))\n",
    "        self.tile_todo = [] # list of ids\n",
    "        self.grid_todo = [] # necessary, or calculate on the fly?\n",
    "\n",
    "        self.tiles = [] # children?\n",
    "\n",
    "        self.prepare()\n",
    "\n",
    "    def prepare(self):\n",
    "\n",
    "        # create tile todo\n",
    "        self.tile_todo = list(self.tile_dict.keys())\n",
    "\n",
    "        # update grid and tile todo\n",
    "        start_coordinates = (2, 2)\n",
    "        new_grid = self.grid\n",
    "        new_grid[start_coordinates] = self.tile_todo.pop(0)\n",
    "        new_grid[(3,3)] = self.tile_todo.pop(0)\n",
    "        self.grid = new_grid\n",
    "\n",
    "        # create first tile object\n",
    "\n",
    "        # create grid todo\n",
    "        self.grid_todo = self.get_adjacents()\n",
    "\n",
    "    def get_adjacents(self):\n",
    "        \"\"\"\n",
    "        Use gradient for edge detection.\n",
    "        https://stackoverflow.com/questions/32334322/find-adjacent-elements-in-a-2d-numpy-grid\n",
    "        \"\"\"\n",
    "        return self.grid\n",
    "\n",
    "\n",
    "class Tile():\n",
    "    \"\"\"\n",
    "    Main class for tile.\n",
    "\n",
    "    needs id or not?\n",
    "    \"\"\"\n",
    "    def __init__(self, tile_id, tile_data):\n",
    "        self.tile_id = tile_id\n",
    "        self.rotation = 0 #0,1,2,3\n",
    "        self.flip = 0 # 0, 1, 2, 3 (to define what is what)\n",
    "        self.tile_data = tile_data\n",
    "\n",
    "    def set_orientation(self, rotation, flip):\n",
    "        self.rotation = rotation\n",
    "        self.flip = flip\n",
    "\n",
    "    def get_edges(self):\n",
    "        flip_y = self.flip in [1, 3]\n",
    "        flip_x = self.flip in [2, 3]\n",
    "\n",
    "        # put in logic for \n",
    "        list_of_edges = [\n",
    "            self.tile_data[0,:], # top\n",
    "            self.tile_data[-1,:], # bottom\n",
    "            self.tile_data[:,0], # left\n",
    "            self.tile_data[:,-1] # right\n",
    "        ]\n",
    "\n",
    "        list_of_edges_rotated = list_of_edges[self.rotation:] + list_of_edges[:self.rotation]\n",
    "        # fix rotation\n",
    "        \n",
    "        return list_of_edges_rotated\n",
    "\n",
    "\n",
    "grid = Grid(tile_dict)\n",
    "grid1 = grid.get_adjacents()\n",
    "grid1[(3,2)] = 1234\n",
    "grid1[(3,1)] = 1234\n",
    "grid1[(4,2)] = 1234\n",
    "grid1[2:,2:] = 1234\n",
    "print(grid1)\n",
    "bla = np.nonzero(grid1) # returns x and y values separately\n",
    "print(bla)\n",
    "for positions in bla:\n",
    "    print(positions)\n",
    "\n"
   ]
  },
  {
   "cell_type": "code",
   "execution_count": 106,
   "metadata": {},
   "outputs": [
    {
     "output_type": "stream",
     "name": "stdout",
     "text": [
      "[[False False False False False]\n [False False  True  True  True]\n [False  True False False False]\n [ True False False False False]\n [False  True False False False]]\n[[1 2]\n [1 3]\n [1 4]\n [2 1]\n [3 0]\n [4 1]]\n[1 2]\n"
     ]
    }
   ],
   "source": [
    "\n",
    "dy, dx = np.gradient(grid1)\n",
    "edges_x = np.abs(dx) > 0\n",
    "edges_y = np.abs(dy) > 0\n",
    "neighbour_array = (edges_x | edges_y) & ~(grid1 > 0)\n",
    "print(neighbour_array)\n",
    "coords = np.argwhere(neighbour_array)\n",
    "print(coords)\n",
    "print(coords[0])\n",
    "\n",
    "# make testcase for get_adjacents"
   ]
  },
  {
   "cell_type": "code",
   "execution_count": null,
   "metadata": {},
   "outputs": [],
   "source": [
    "def get_available_edges(grid, coords):\n",
    "    \"\"\"\n",
    "    Return list of positions that are empty.\n",
    "    Order: top, bottom, left, right\n",
    "\n",
    "    \"\"\"\n",
    "    neighbors = [\n",
    "        grid[coords[0] - 1, coords[1]] == 0,\n",
    "        grid[coords[0] + 1, coords[1]] == 0,\n",
    "        grid[coords[0], coords[1] - 1] == 0,\n",
    "        grid[coords[0], coords[1] + 1] == 0,\n",
    "    ]\n",
    "    return neighbors\n"
   ]
  },
  {
   "cell_type": "code",
   "execution_count": 58,
   "metadata": {},
   "outputs": [
    {
     "output_type": "stream",
     "name": "stdout",
     "text": [
      "[[0. 0. 0. 0. 0.]\n [0. 0. 1. 0. 0.]\n [0. 0. 0. 0. 0.]\n [0. 0. 0. 0. 0.]\n [0. 0. 4. 0. 0.]]\n"
     ]
    },
    {
     "output_type": "execute_result",
     "data": {
      "text/plain": [
       "[False, True, True, True]"
      ]
     },
     "metadata": {},
     "execution_count": 58
    }
   ],
   "source": [
    "grid = np.zeros((5, 5))\n",
    "grid[1,2] = 1\n",
    "grid[4, 2] = 4\n",
    "print(grid)\n",
    "m, n = 2, 2\n",
    "\n",
    "get_available_edges(grid, (m, n))"
   ]
  },
  {
   "cell_type": "code",
   "execution_count": 116,
   "metadata": {},
   "outputs": [
    {
     "output_type": "execute_result",
     "data": {
      "text/plain": [
       "[2, 3, 4, 5, 1]"
      ]
     },
     "metadata": {},
     "execution_count": 116
    }
   ],
   "source": [
    "x = [1,2,3,4,5]\n",
    "n = 1\n",
    "x[n:]+x[:n]"
   ]
  },
  {
   "cell_type": "code",
   "execution_count": 118,
   "metadata": {},
   "outputs": [
    {
     "output_type": "execute_result",
     "data": {
      "text/plain": [
       "[5, 4, 3, 2, 1]"
      ]
     },
     "metadata": {},
     "execution_count": 118
    }
   ],
   "source": [
    "x[::-1]"
   ]
  },
  {
   "cell_type": "code",
   "execution_count": null,
   "metadata": {},
   "outputs": [],
   "source": []
  }
 ],
 "metadata": {
  "kernelspec": {
   "name": "aoc",
   "display_name": "aoc",
   "language": "python"
  },
  "language_info": {
   "codemirror_mode": {
    "name": "ipython",
    "version": 3
   },
   "file_extension": ".py",
   "mimetype": "text/x-python",
   "name": "python",
   "nbconvert_exporter": "python",
   "pygments_lexer": "ipython3",
   "version": "3.7.9-final"
  }
 },
 "nbformat": 4,
 "nbformat_minor": 2
}