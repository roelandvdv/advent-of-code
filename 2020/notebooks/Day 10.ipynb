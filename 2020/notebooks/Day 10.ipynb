{
 "cells": [
  {
   "cell_type": "code",
   "execution_count": 23,
   "metadata": {},
   "outputs": [
    {
     "output_type": "execute_result",
     "data": {
      "text/plain": [
       "[73, 114, 100, 122, 10, 141, 89, 70, 134, 2]"
      ]
     },
     "metadata": {},
     "execution_count": 23
    }
   ],
   "source": [
    "# Load data\n",
    "with open(\"../data/day10.txt\", \"r\") as f:\n",
    "    input = f.read()\n",
    "\n",
    "data = [int(line) for line in input.split(\"\\n\")]\n",
    "data[0:10]"
   ]
  },
  {
   "cell_type": "code",
   "execution_count": 16,
   "metadata": {
    "tags": []
   },
   "outputs": [
    {
     "output_type": "stream",
     "name": "stdout",
     "text": [
      "2343\n"
     ]
    }
   ],
   "source": [
    "# Puzzle 1\n",
    "# Input can be 1, 2, or 3 lower\n",
    "\n",
    "#TODO: include beginning and end as well\n",
    "import numpy as np\n",
    "\n",
    "outlet_joltage = 0\n",
    "device_rated_joltage = max(data) + 3\n",
    "\n",
    "full_data = [outlet_joltage, *data, device_rated_joltage]\n",
    "\n",
    "differences = np.diff(np.sort(full_data))\n",
    "n_1 = np.count_nonzero(differences == 1)\n",
    "n_3 = np.count_nonzero(differences == 3)\n",
    "print(n_1 * n_3)"
   ]
  },
  {
   "cell_type": "code",
   "execution_count": 49,
   "metadata": {},
   "outputs": [
    {
     "output_type": "execute_result",
     "data": {
      "text/plain": [
       "[28, 33, 18, 42, 31, 14, 46, 20, 48, 47]"
      ]
     },
     "metadata": {},
     "execution_count": 49
    }
   ],
   "source": [
    "# Load data\n",
    "with open(\"../data/day10test.txt\", \"r\") as f:\n",
    "    input = f.read()\n",
    "\n",
    "data = [int(line) for line in input.split(\"\\n\")]\n",
    "data[0:10]"
   ]
  },
  {
   "cell_type": "code",
   "execution_count": 84,
   "metadata": {},
   "outputs": [
    {
     "output_type": "stream",
     "name": "stdout",
     "text": [
      "33\n31\n[0, 1, 2, 3, 4, 7, 8, 9, 10, 11, 14, 17, 18, 19, 20, 23, 24, 25, 28, 31, 32, 33, 34, 35, 38, 39, 42, 45, 46, 47, 48, 49, 52]\n[ True  True  True False False  True  True  True False False False  True\n  True False False  True False False False  True  True  True False False\n False False False  True  True  True False]\n"
     ]
    },
    {
     "output_type": "execute_result",
     "data": {
      "text/plain": [
       "array([False, False,  True, False,  True, False, False,  True, False,\n",
       "       False,  True, False,  True, False,  True,  True, False, False,\n",
       "        True, False, False,  True, False, False, False, False,  True,\n",
       "       False, False,  True])"
      ]
     },
     "metadata": {},
     "execution_count": 84
    }
   ],
   "source": [
    "# Puzzle 2\n",
    "\n",
    "# If differences to previous and next are both smaller than 3, that number might be optional\n",
    "# look at range of optional numbers?\n",
    "# if the two surrounding ones are 4 apart, we need at least one\n",
    "# if they are 5 apart, need two outer or one middle (complicated, or is it always the same?)\n",
    "# if >6, we need at least two\n",
    "\n",
    "#3, 4, 5, 6, 7, 8, 11\n",
    "\n",
    "# 3 to 8:\n",
    "# 5 apart and 4 optional numbers: all 4, any 3, any 2, middle two ones\n",
    "# 5 apart and 3 optional numbers: all 3, any 2, complicated!\n",
    "# 5 apart and 2 optional numbers: 1 \n",
    "\n",
    "# consider all differences?\n",
    "\n",
    "\n",
    "# mediocre approach: check all permutations of each sequence of optionals\n",
    "from itertools import combinations\n",
    "\n",
    "def check_valid(data):\n",
    "    # check if list is correct (doesn't have larger difference than 3)\n",
    "    return not np.any(np.diff(np.sort(data)) > 3)\n",
    "\n",
    "def check_number_valid(data):\n",
    "    # count number of posibilities\n",
    "    k_correct = 0\n",
    "    for n in range(0, len(data)-2+1):\n",
    "        combos = combinations(data[1:-1], n)\n",
    "        for m in combos:\n",
    "            list_to_test = [data[0], *m, data[-1]]\n",
    "            if check_valid(list_to_test):\n",
    "                k_correct += 1\n",
    "    return k_correct\n",
    "\n",
    "assert check_number_valid([0, 3, 4, 5, 7]) == 3 # I think\n",
    "\n",
    "\n",
    "def find_number(data):\n",
    "    outlet_joltage = 0\n",
    "    device_rated_joltage = max(data) + 3\n",
    "\n",
    "    full_data = [outlet_joltage, *np.sort(data), device_rated_joltage]\n",
    "    \n",
    "    differences = np.diff(full_data)\n",
    "\n",
    "    optional_numbers = (differences[0:-1] < 3) & (differences[1:] < 3)\n",
    "\n",
    "\n",
    "    # get all subranges (multiply in the end)\n",
    "\n",
    "    # get all permutations (leave n out)\n",
    "    # call for each: function to count valid options\n",
    "\n",
    "    return full_data, optional_numbers #2 ** np.count_nonzero(optional_numbers)\n",
    "\n",
    "example = [16, 10, 15, 5, 1, 11, 7, 19, 6, 12, 4]\n",
    "#example = [1, 2]\n",
    "full_data, result = find_number(data)\n",
    "print(len(full_data))\n",
    "print(len(result))\n",
    "print(full_data)\n",
    "print(result)\n",
    "\n",
    "np.diff(result)\n"
   ]
  },
  {
   "cell_type": "code",
   "execution_count": null,
   "metadata": {},
   "outputs": [],
   "source": [
    "0, 1, 2, 5\n",
    "1, 1, 3"
   ]
  },
  {
   "cell_type": "code",
   "execution_count": 63,
   "metadata": {},
   "outputs": [
    {
     "output_type": "execute_result",
     "data": {
      "text/plain": [
       "array([ -6,   5, -10,  -4,  10,  -4,  12, -13,   6,  -8])"
      ]
     },
     "metadata": {},
     "execution_count": 63
    }
   ],
   "source": [
    "np.diff(np.sort(example)"
   ]
  },
  {
   "cell_type": "code",
   "execution_count": null,
   "metadata": {},
   "outputs": [],
   "source": []
  }
 ],
 "metadata": {
  "kernelspec": {
   "name": "aoc",
   "display_name": "aoc",
   "language": "python"
  },
  "language_info": {
   "codemirror_mode": {
    "name": "ipython",
    "version": 3
   },
   "file_extension": ".py",
   "mimetype": "text/x-python",
   "name": "python",
   "nbconvert_exporter": "python",
   "pygments_lexer": "ipython3",
   "version": "3.7.9-final"
  }
 },
 "nbformat": 4,
 "nbformat_minor": 2
}