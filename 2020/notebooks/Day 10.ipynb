{
 "cells": [
  {
   "cell_type": "code",
   "execution_count": 107,
   "metadata": {},
   "outputs": [
    {
     "output_type": "execute_result",
     "data": {
      "text/plain": [
       "[73, 114, 100, 122, 10, 141, 89, 70, 134, 2]"
      ]
     },
     "metadata": {},
     "execution_count": 107
    }
   ],
   "source": [
    "# Load data\n",
    "with open(\"../data/day10.txt\", \"r\") as f:\n",
    "    input = f.read()\n",
    "\n",
    "data = [int(line) for line in input.split(\"\\n\")]\n",
    "data[0:10]"
   ]
  },
  {
   "cell_type": "code",
   "execution_count": 108,
   "metadata": {
    "tags": []
   },
   "outputs": [
    {
     "output_type": "stream",
     "name": "stdout",
     "text": [
      "2343\n"
     ]
    }
   ],
   "source": [
    "# Puzzle 1\n",
    "# Input can be 1, 2, or 3 lower\n",
    "\n",
    "#TODO: include beginning and end as well\n",
    "import numpy as np\n",
    "\n",
    "outlet_joltage = 0\n",
    "device_rated_joltage = max(data) + 3\n",
    "\n",
    "full_data = [outlet_joltage, *data, device_rated_joltage]\n",
    "\n",
    "differences = np.diff(np.sort(full_data))\n",
    "n_1 = np.count_nonzero(differences == 1)\n",
    "n_3 = np.count_nonzero(differences == 3)\n",
    "print(n_1 * n_3)"
   ]
  },
  {
   "cell_type": "code",
   "execution_count": 109,
   "metadata": {},
   "outputs": [
    {
     "output_type": "execute_result",
     "data": {
      "text/plain": [
       "[28, 33, 18, 42, 31, 14, 46, 20, 48, 47]"
      ]
     },
     "metadata": {},
     "execution_count": 109
    }
   ],
   "source": [
    "# Load data\n",
    "with open(\"../data/day10test.txt\", \"r\") as f:\n",
    "    input = f.read()\n",
    "\n",
    "data_test = [int(line) for line in input.split(\"\\n\")]\n",
    "data_test[0:10]"
   ]
  },
  {
   "cell_type": "code",
   "execution_count": 110,
   "metadata": {},
   "outputs": [
    {
     "output_type": "stream",
     "name": "stdout",
     "text": [
      "31581162962944\n"
     ]
    }
   ],
   "source": [
    "# Puzzle 2\n",
    "\n",
    "# If differences to previous and next are both smaller than 3, that number might be optional\n",
    "# A mediocre approach: check all permutations of each sequence of possible optionals\n",
    "\n",
    "from itertools import combinations\n",
    "\n",
    "def check_valid(data):\n",
    "    \"\"\"Check if list is correct (does not have larger difference than 3).\"\"\"\n",
    "    return not np.any(np.diff(np.sort(data)) > 3)\n",
    "\n",
    "\n",
    "def check_number_valid(data):\n",
    "    \"\"\"Count the number of posibilities, where the first and last are not optional.\"\"\"\n",
    "    k_correct = 0\n",
    "    for n in range(0, len(data)-2+1):\n",
    "        for m in combinations(data[1:-1], n):\n",
    "            list_to_test = [data[0], *m, data[-1]]\n",
    "            if check_valid(list_to_test):\n",
    "                k_correct += 1\n",
    "    return k_correct\n",
    "\n",
    "assert check_number_valid([0, 3, 4, 5, 7]) == 3 # I think\n",
    "\n",
    "\n",
    "def get_total_arrangements(data):\n",
    "    outlet_joltage = 0\n",
    "    device_rated_joltage = max(data) + 3\n",
    "\n",
    "    # Full sorted list of voltages\n",
    "    full_data = [outlet_joltage, *np.sort(data), device_rated_joltage]\n",
    "    \n",
    "    # Differences\n",
    "    differences = np.diff(full_data)\n",
    "\n",
    "    # Boolean array with possible optional numbers\n",
    "    optional_numbers = (differences[0:-1] < 3) & (differences[1:] < 3)\n",
    "    full_optional_numbers = [False, *optional_numbers, False]\n",
    "\n",
    "    # Get list of list of sequences with possible optionals\n",
    "    sequences = np.argwhere(np.diff(full_optional_numbers)).squeeze().reshape(-1,2)\n",
    "\n",
    "    # Loop over sequences and find number of permutations\n",
    "    perms = []\n",
    "    for sequence in sequences:\n",
    "        sequence_data = full_data[sequence[0]:sequence[1]+2]\n",
    "        perms.append(check_number_valid(sequence_data))\n",
    "\n",
    "    # Multiply all to get total number of arrangements\n",
    "    total_arrangements = np.prod(perms)\n",
    "\n",
    "    return total_arrangements\n",
    "\n",
    "assert get_total_arrangements([16, 10, 15, 5, 1, 11, 7, 19, 6, 12, 4]) == 8\n",
    "assert get_total_arrangements(data_test) == 19208\n",
    "\n",
    "print(get_total_arrangements(data))"
   ]
  },
  {
   "cell_type": "code",
   "execution_count": null,
   "metadata": {},
   "outputs": [],
   "source": []
  }
 ],
 "metadata": {
  "kernelspec": {
   "name": "aoc",
   "display_name": "aoc",
   "language": "python"
  },
  "language_info": {
   "codemirror_mode": {
    "name": "ipython",
    "version": 3
   },
   "file_extension": ".py",
   "mimetype": "text/x-python",
   "name": "python",
   "nbconvert_exporter": "python",
   "pygments_lexer": "ipython3",
   "version": "3.7.9-final"
  }
 },
 "nbformat": 4,
 "nbformat_minor": 2
}