{
 "cells": [
  {
   "cell_type": "code",
   "execution_count": 18,
   "metadata": {},
   "outputs": [
    {
     "output_type": "execute_result",
     "data": {
      "text/plain": [
       "[50, 32, 17, 18, 6, 12, 24, 43, 14, 40]"
      ]
     },
     "metadata": {},
     "execution_count": 18
    }
   ],
   "source": [
    "# Load data\n",
    "with open(\"../data/day9.txt\", \"r\") as f:\n",
    "    input = f.read()\n",
    "\n",
    "data = [int(value) for value in input.split(\"\\n\")]\n",
    "data[0:10]"
   ]
  },
  {
   "cell_type": "code",
   "execution_count": 2,
   "metadata": {
    "tags": []
   },
   "outputs": [
    {
     "output_type": "stream",
     "name": "stdout",
     "text": [
      "69316178 False (138730313, 74357286)\n"
     ]
    }
   ],
   "source": [
    "# Puzzle 1\n",
    "from itertools import combinations \n",
    "    \n",
    "lines = 25\n",
    "for n in range(lines, len(data)):\n",
    "    previous_lines = data[n-lines:n]\n",
    "    pairs = combinations(previous_lines, 2) \n",
    "\n",
    "    finished = False\n",
    "    for pair in pairs:\n",
    "        finished = sum(pair) == data[n]\n",
    "        if finished:\n",
    "            break\n",
    "\n",
    "    if not finished:\n",
    "        print(data[n], finished, pair)\n",
    "        "
   ]
  },
  {
   "cell_type": "code",
   "execution_count": 17,
   "metadata": {
    "tags": []
   },
   "outputs": [
    {
     "output_type": "stream",
     "name": "stdout",
     "text": [
      "True [3205921, 2845855, 2834836, 3083482, 3881565, 3840097, 4254961, 3652975, 3613632, 6516690, 4237730, 6045330, 3830685, 3832810, 4303716, 4114745, 5221148]\n9351526\n"
     ]
    }
   ],
   "source": [
    "# Puzzle 2\n",
    "# Contiguous set; iterate list and number of numbers? Increase number of elements in while loop, so we don't have to guess when to stop.\n",
    "\n",
    "finished = False\n",
    "lines = 2\n",
    "while not finished and lines < 100:\n",
    "    for n in range(lines, len(data)):\n",
    "        previous_lines = data[n-lines:n]\n",
    "\n",
    "        finished = sum(previous_lines) == 69316178\n",
    "        if finished:\n",
    "            print(finished, previous_lines)\n",
    "            result = previous_lines\n",
    "            break\n",
    "    lines += 1\n",
    "\n",
    "print(min(result) + max(result))\n"
   ]
  },
  {
   "cell_type": "code",
   "execution_count": null,
   "metadata": {},
   "outputs": [],
   "source": []
  }
 ],
 "metadata": {
  "kernelspec": {
   "display_name": "aoc",
   "language": "python",
   "name": "aoc"
  },
  "language_info": {
   "codemirror_mode": {
    "name": "ipython",
    "version": 3
   },
   "file_extension": ".py",
   "mimetype": "text/x-python",
   "name": "python",
   "nbconvert_exporter": "python",
   "pygments_lexer": "ipython3",
   "version": "3.7.9-final"
  }
 },
 "nbformat": 4,
 "nbformat_minor": 2
}