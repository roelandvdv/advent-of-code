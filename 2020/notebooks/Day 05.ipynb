{
 "cells": [
  {
   "cell_type": "code",
   "execution_count": 4,
   "metadata": {
    "tags": []
   },
   "outputs": [
    {
     "output_type": "stream",
     "name": "stdout",
     "text": [
      "BFFFBFFRLR\nFBBBFFBRRL\nFFBFBFFRRR\nFBBFBFFRRR\nBBBFFFFLLR\nFFBFBBFRRR\nBFFBBFFLRL\nBBBFBBFLRR\nBFFBFBFLRR\nB\n"
     ]
    }
   ],
   "source": [
    "# Load data\n",
    "with open(\"../data/day5.txt\", \"r\") as f:\n",
    "    input = f.read()\n",
    "\n",
    "print(input[0:100])"
   ]
  },
  {
   "cell_type": "code",
   "execution_count": 8,
   "metadata": {},
   "outputs": [
    {
     "output_type": "stream",
     "name": "stdout",
     "text": [
      "955\n"
     ]
    }
   ],
   "source": [
    "# Puzzle 1\n",
    "import math\n",
    "\n",
    "def calc_sequence(characters):\n",
    "    \"\"\"\n",
    "    Input: \"BFBFFFBLRL\"\n",
    "    \"\"\" \n",
    "    n_lower = 0\n",
    "    n_upper = 2 ** len(characters) - 1\n",
    "    \n",
    "    for character in characters:\n",
    "        avg = (n_upper + n_lower)/2\n",
    "        \n",
    "        if character in (\"F\", \"L\"): # Keep lower half\n",
    "            n_upper = math.floor(avg)\n",
    "        if character in (\"B\", \"R\"): # Keep upper half\n",
    "            n_lower = math.ceil(avg)\n",
    "            \n",
    "    assert n_lower == n_upper\n",
    "    return n_lower\n",
    "\n",
    "def calc_seat_id(input):\n",
    "    \"\"\"\n",
    "    Input: \"BFBFFFBLRL\"\n",
    "    \"\"\" \n",
    "    row = calc_sequence(input[0:7])\n",
    "    column = calc_sequence(input[7:10])\n",
    "    return row * 8 + column\n",
    "\n",
    "# Tests\n",
    "assert calc_sequence(\"FBFBBFF\") == 44\n",
    "assert calc_sequence(\"F\") == 0\n",
    "assert calc_sequence(\"RLR\") == 5\n",
    "\n",
    "assert calc_seat_id(\"BFFFBBFRRR\") == 567\n",
    "assert calc_seat_id(\"FFFBBBFRRR\") == 119\n",
    "assert calc_seat_id(\"BBFFBBFRLL\") == 820\n",
    "\n",
    "seat_id_list = [calc_seat_id(line) for line in input.split(\"\\n\")]\n",
    "print(max(seat_id_list))"
   ]
  },
  {
   "cell_type": "code",
   "execution_count": 9,
   "metadata": {},
   "outputs": [
    {
     "output_type": "execute_result",
     "data": {
      "text/plain": [
       "{569}"
      ]
     },
     "metadata": {},
     "execution_count": 9
    }
   ],
   "source": [
    "# Puzzle 2\n",
    "import numpy as np\n",
    "\n",
    "set(range(min(seat_id_list), max(seat_id_list))) - set(seat_id_list)"
   ]
  },
  {
   "cell_type": "code",
   "execution_count": null,
   "metadata": {},
   "outputs": [],
   "source": []
  }
 ],
 "metadata": {
  "kernelspec": {
   "display_name": "aoc",
   "language": "python",
   "name": "aoc"
  },
  "language_info": {
   "codemirror_mode": {
    "name": "ipython",
    "version": 3
   },
   "file_extension": ".py",
   "mimetype": "text/x-python",
   "name": "python",
   "nbconvert_exporter": "python",
   "pygments_lexer": "ipython3",
   "version": "3.7.9-final"
  }
 },
 "nbformat": 4,
 "nbformat_minor": 2
}