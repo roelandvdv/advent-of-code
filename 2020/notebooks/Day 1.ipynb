{
 "cells": [
  {
   "cell_type": "code",
   "execution_count": 1,
   "metadata": {},
   "outputs": [
    {
     "output_type": "execute_result",
     "data": {
      "text/plain": [
       "[1254, 1313, 1456, 1782, 1742, 1391, 1273, 1286, 1373, 1891]"
      ]
     },
     "metadata": {},
     "execution_count": 1
    }
   ],
   "source": [
    "# Load data\n",
    "with open(\"../data/day1.txt\", \"r\") as f:\n",
    "    input = f.read()\n",
    "\n",
    "data = [int(value) for value in input.split(\"\\n\")]\n",
    "data[0:10]"
   ]
  },
  {
   "cell_type": "code",
   "execution_count": 47,
   "metadata": {},
   "outputs": [
    {
     "output_type": "stream",
     "name": "stdout",
     "text": [
      "684 1336 913824\n1336 684 913824\n"
     ]
    }
   ],
   "source": [
    "# Puzzle 1\n",
    "# \"Naive\" approach. Can be done smarter with subtracting from 2020.\n",
    "for a in data:\n",
    "    for b in data:\n",
    "        if a + b == 2020:\n",
    "            print(a, b, a * b)"
   ]
  },
  {
   "cell_type": "code",
   "execution_count": 48,
   "metadata": {},
   "outputs": [
    {
     "output_type": "stream",
     "name": "stdout",
     "text": [
      "684 1336 913824\n"
     ]
    }
   ],
   "source": [
    "# With itertools\n",
    "from itertools import combinations\n",
    "import numpy as np\n",
    "\n",
    "pairs = combinations(data,2)\n",
    "\n",
    "for pair in pairs:\n",
    "    if sum(pair) == 2020:\n",
    "        print(*pair, np.prod(pair))"
   ]
  },
  {
   "cell_type": "code",
   "execution_count": 49,
   "metadata": {},
   "outputs": [
    {
     "output_type": "stream",
     "name": "stdout",
     "text": [
      "1068 444 508 240889536\n",
      "1068 508 444 240889536\n",
      "444 1068 508 240889536\n",
      "444 508 1068 240889536\n",
      "508 1068 444 240889536\n",
      "508 444 1068 240889536\n"
     ]
    }
   ],
   "source": [
    "# Puzzle 2\n",
    "# \"Naive\" approach\n",
    "for a in data:\n",
    "    for b in data:\n",
    "        for c in data:\n",
    "            if a + b + c == 2020:\n",
    "                print(a, b, c, a * b * c)"
   ]
  },
  {
   "cell_type": "code",
   "execution_count": 50,
   "metadata": {},
   "outputs": [
    {
     "output_type": "stream",
     "name": "stdout",
     "text": [
      "1068 444 508 240889536\n"
     ]
    }
   ],
   "source": [
    "# With itertools\n",
    "pairs = combinations(data,3)\n",
    "\n",
    "for pair in pairs:\n",
    "    if sum(pair) == 2020:\n",
    "        print(*pair, np.prod(pair))"
   ]
  },
  {
   "cell_type": "code",
   "execution_count": null,
   "metadata": {},
   "outputs": [],
   "source": []
  }
 ],
 "metadata": {
  "kernelspec": {
   "display_name": "aoc",
   "language": "python",
   "name": "aoc"
  },
  "language_info": {
   "codemirror_mode": {
    "name": "ipython",
    "version": 3
   },
   "file_extension": ".py",
   "mimetype": "text/x-python",
   "name": "python",
   "nbconvert_exporter": "python",
   "pygments_lexer": "ipython3",
   "version": "3.7.9-final"
  }
 },
 "nbformat": 4,
 "nbformat_minor": 4
}