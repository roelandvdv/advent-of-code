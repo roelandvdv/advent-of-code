{
 "cells": [
  {
   "cell_type": "code",
   "execution_count": 105,
   "metadata": {},
   "outputs": [
    {
     "data": {
      "text/plain": [
       "[[['bge',\n",
       "   'dacgef',\n",
       "   'gefac',\n",
       "   'geabf',\n",
       "   'gcab',\n",
       "   'baedf',\n",
       "   'efbdgc',\n",
       "   'agcfeb',\n",
       "   'gb',\n",
       "   'edacfgb'],\n",
       "  ['dabef', 'caefg', 'gb', 'gfabe']]]"
      ]
     },
     "execution_count": 105,
     "metadata": {},
     "output_type": "execute_result"
    }
   ],
   "source": [
    "import numpy as np\n",
    "\n",
    "# Load data\n",
    "with open(\"../data/day8.txt\", \"r\") as f:\n",
    "    input = f.read()\n",
    "\n",
    "data = [[c.split(\" \") for c in line.split(\" | \")] for line in input.split(\"\\n\")]\n",
    "data[0:1]"
   ]
  },
  {
   "cell_type": "code",
   "execution_count": 106,
   "metadata": {},
   "outputs": [
    {
     "data": {
      "text/plain": [
       "355"
      ]
     },
     "execution_count": 106,
     "metadata": {},
     "output_type": "execute_result"
    }
   ],
   "source": [
    "# Puzzle 1\n",
    "count = 0\n",
    "for line in data:\n",
    "    lens = [len(segment) for segment in line[1]]\n",
    "    bools = [number in [2, 3, 4, 7] for number in np.array(lens)] # [1, 4, 7, 8]\n",
    "    count += np.sum(bools)\n",
    "\n",
    "count\n",
    "        "
   ]
  },
  {
   "cell_type": "code",
   "execution_count": 107,
   "metadata": {},
   "outputs": [
    {
     "name": "stdout",
     "output_type": "stream",
     "text": [
      "983030\n"
     ]
    }
   ],
   "source": [
    "# Puzzle 2\n",
    "\n",
    "# Frozensets can be used as dictionary keys because they are immutable\n",
    "segment_dict = {\n",
    "    frozenset(\"abcdefg\"): 8,\n",
    "    frozenset(\"abdfg\"): 5,\n",
    "    frozenset(\"acdeg\"): 2,\n",
    "    frozenset(\"acdfg\"): 3,\n",
    "    frozenset(\"acf\"): 7,\n",
    "    frozenset(\"abcdfg\"): 9,\n",
    "    frozenset(\"abdefg\"): 6,\n",
    "    frozenset(\"bcdf\"): 4,\n",
    "    frozenset(\"abcefg\"): 0,\n",
    "    frozenset(\"cf\"): 1\n",
    "}\n",
    "\n",
    "total_number = 0\n",
    "for line in data:\n",
    "    #print(line)\n",
    "    \n",
    "    # Create letter mapping, key is wrong letter, value is real letter\n",
    "    letter_map = {}\n",
    "\n",
    "    # Get from 7 and 1:\n",
    "    for pattern in line[0]:\n",
    "        count = len(pattern)\n",
    "        if count == 3: # number 7\n",
    "            seven = pattern\n",
    "        if count == 2: # number 1\n",
    "            one = pattern\n",
    "        if count == 4: # number 4\n",
    "            four = pattern # contains real d\n",
    "    a_map = list(set(seven) - set(one))[0]\n",
    "    letter_map[a_map] = \"a\"\n",
    "\n",
    "    # Count total letter frequencies\n",
    "    all = \"\".join(line[0])\n",
    "    for letter in \"abcdefg\":\n",
    "        count = all.count(letter)\n",
    "        if count == 4:\n",
    "            letter_map[letter] = \"e\"\n",
    "        if count == 6:\n",
    "            letter_map[letter] = \"b\"\n",
    "        if count == 9:\n",
    "            letter_map[letter] = \"f\"\n",
    "        if count == 8 and letter is not a_map:\n",
    "            letter_map[letter] = \"c\"\n",
    "    \n",
    "    # Collect two remaining, the one that is in four is d\n",
    "    remaining = set(\"abcdefg\") - set(letter_map.keys())\n",
    "    letter_d = set(four).intersection(remaining)\n",
    "    letter_g = remaining - letter_d\n",
    "    letter_map[list(letter_d)[0]] = \"d\"\n",
    "    letter_map[list(letter_g)[0]] = \"g\"\n",
    "\n",
    "    # Apply mapping to real letters\n",
    "    real_numbers = []\n",
    "    for pattern in line[1]:\n",
    "        table = pattern.maketrans(letter_map)\n",
    "        new_pattern = pattern.translate(table)\n",
    "        \n",
    "        number = segment_dict[frozenset(new_pattern)]\n",
    "        real_numbers.append(str(number))\n",
    "    combined_number = int(\"\".join(real_numbers))\n",
    "\n",
    "    total_number += combined_number\n",
    "\n",
    "print(total_number)\n",
    " "
   ]
  },
  {
   "cell_type": "code",
   "execution_count": null,
   "metadata": {},
   "outputs": [],
   "source": []
  }
 ],
 "metadata": {
  "interpreter": {
   "hash": "2652f06b02976001099b950d6147bac727240ee3cc1ef0d920bd705c8021af22"
  },
  "kernelspec": {
   "display_name": "Python 3.7.9 64-bit ('aoc': conda)",
   "language": "python",
   "name": "python3"
  },
  "language_info": {
   "codemirror_mode": {
    "name": "ipython",
    "version": 3
   },
   "file_extension": ".py",
   "mimetype": "text/x-python",
   "name": "python",
   "nbconvert_exporter": "python",
   "pygments_lexer": "ipython3",
   "version": "3.7.9"
  },
  "orig_nbformat": 4
 },
 "nbformat": 4,
 "nbformat_minor": 2
}
