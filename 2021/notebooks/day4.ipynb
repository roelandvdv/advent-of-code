{
 "cells": [
  {
   "cell_type": "code",
   "execution_count": 8,
   "metadata": {},
   "outputs": [],
   "source": [
    "import numpy as np\n",
    "\n",
    "# Load data\n",
    "with open(\"../data/day4.txt\", \"r\") as f:\n",
    "    input = f.read()\n",
    "\n",
    "data = input.split(\"\\n\\n\")\n",
    "number_list = [int(number) for number in data.pop(0).split(\",\")]"
   ]
  },
  {
   "cell_type": "code",
   "execution_count": 13,
   "metadata": {},
   "outputs": [
    {
     "data": {
      "text/plain": [
       "[array([[48, 69, 68, 49, 13],\n",
       "        [25, 14, 30, 74, 89],\n",
       "        [16, 38, 19, 24, 29],\n",
       "        [56, 97, 50, 65, 79],\n",
       "        [57, 52,  5, 27, 76]]),\n",
       " array([[65, 69, 73, 60, 66],\n",
       "        [79, 23, 95, 32, 56],\n",
       "        [36, 51, 26,  1, 28],\n",
       "        [76,  9,  3, 71, 77],\n",
       "        [41, 15, 61, 68, 14]]),\n",
       " array([[77, 86, 11, 96, 50],\n",
       "        [64, 35, 76, 14,  5],\n",
       "        [31, 20, 53, 84, 66],\n",
       "        [83, 40,  1, 28, 79],\n",
       "        [15, 74, 92, 65, 39]])]"
      ]
     },
     "execution_count": 13,
     "metadata": {},
     "output_type": "execute_result"
    }
   ],
   "source": [
    "boards = [np.genfromtxt(board.split(\"\\n\"), dtype=int, delimiter=3) for board in data] # needs a file or list\n",
    "boards[0:3]"
   ]
  },
  {
   "cell_type": "code",
   "execution_count": 101,
   "metadata": {},
   "outputs": [
    {
     "name": "stdout",
     "output_type": "stream",
     "text": [
      "[[32 81 21 11 31]\n",
      " [30 56  3 25 18]\n",
      " [80 96 20 65 71]\n",
      " [41 67 22 97 10]\n",
      " [93 68 17 13  1]]\n",
      "16674\n"
     ]
    }
   ],
   "source": [
    "# Puzzle 1\n",
    "boards_dict = {i:(board, np.zeros_like(boards[0], dtype=bool)) for i, board in enumerate(boards)}\n",
    "\n",
    "bingo = False\n",
    "for number in number_list:\n",
    "    for key, (board, progress) in boards_dict.items():\n",
    "        new_progress = progress | (board == number)\n",
    "        boards_dict[key] = (board, new_progress) # not ideal, have to write board again\n",
    "\n",
    "        # Check if board is complete\n",
    "        bingo = new_progress.all(axis=0).any() | new_progress.all(axis=1).any()\n",
    "        if bingo:\n",
    "            break\n",
    "    if bingo:\n",
    "        break\n",
    "\n",
    "print(board)\n",
    "print(number * np.sum(board * ~new_progress))"
   ]
  },
  {
   "cell_type": "code",
   "execution_count": 102,
   "metadata": {},
   "outputs": [
    {
     "name": "stdout",
     "output_type": "stream",
     "text": [
      "25\n",
      "[[ 1 27 74 89  4]\n",
      " [29  9 78 48 54]\n",
      " [10 38 13 40 49]\n",
      " [71 73 79 77 17]\n",
      " [25 22 91 20  2]]\n",
      "7075\n"
     ]
    }
   ],
   "source": [
    "# Puzzle 2\n",
    "\n",
    "# Ugly but works\n",
    "\n",
    "boards_dict = {i:(board, np.zeros_like(boards[0], dtype=bool)) for i, board in enumerate(boards)}\n",
    "\n",
    "bingo = False\n",
    "for number in number_list:\n",
    "    to_pop = []\n",
    "    for key, (board, progress) in boards_dict.items():\n",
    "        new_progress = progress | (board == number)\n",
    "        boards_dict[key] = (board, new_progress) # not ideal, have to write board again\n",
    "\n",
    "        # Check if board is complete\n",
    "        bingo = new_progress.all(axis=0).any() | new_progress.all(axis=1).any()\n",
    "        if bingo:\n",
    "            to_pop.append(key)\n",
    "    for p in to_pop:\n",
    "        boards_dict.pop(p)\n",
    "        if len(boards_dict) == 0:\n",
    "            print(number)\n",
    "            print(board)\n",
    "            print(number * np.sum(board * ~new_progress))\n",
    "\n"
   ]
  },
  {
   "cell_type": "code",
   "execution_count": null,
   "metadata": {},
   "outputs": [],
   "source": []
  }
 ],
 "metadata": {
  "interpreter": {
   "hash": "2652f06b02976001099b950d6147bac727240ee3cc1ef0d920bd705c8021af22"
  },
  "kernelspec": {
   "display_name": "Python 3.7.9 64-bit ('aoc': conda)",
   "language": "python",
   "name": "python3"
  },
  "language_info": {
   "codemirror_mode": {
    "name": "ipython",
    "version": 3
   },
   "file_extension": ".py",
   "mimetype": "text/x-python",
   "name": "python",
   "nbconvert_exporter": "python",
   "pygments_lexer": "ipython3",
   "version": "3.7.9"
  },
  "orig_nbformat": 4
 },
 "nbformat": 4,
 "nbformat_minor": 2
}
