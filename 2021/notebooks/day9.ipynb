{
 "cells": [
  {
   "cell_type": "code",
   "execution_count": 90,
   "metadata": {},
   "outputs": [],
   "source": [
    "import numpy as np\n",
    "\n",
    "with open(\"../data/day9.txt\", \"r\") as f:\n",
    "    A = np.genfromtxt(f, delimiter=1, dtype=int)"
   ]
  },
  {
   "cell_type": "code",
   "execution_count": 91,
   "metadata": {},
   "outputs": [
    {
     "data": {
      "text/plain": [
       "537"
      ]
     },
     "execution_count": 91,
     "metadata": {},
     "output_type": "execute_result"
    }
   ],
   "source": [
    "# Puzzle 1\n",
    "A_p = np.pad(A, ((1, 1), (1, 1)), mode='constant', constant_values=10)\n",
    "B = (\n",
    "    (A_p < np.roll(A_p, 1, axis=0)) &\n",
    "    (A_p < np.roll(A_p, -1, axis=0)) &\n",
    "    (A_p < np.roll(A_p, 1, axis=1)) &\n",
    "    (A_p < np.roll(A_p, -1, axis=1))\n",
    ")\n",
    "np.sum(A[B[1:-1, 1:-1]] + 1)"
   ]
  },
  {
   "cell_type": "code",
   "execution_count": 92,
   "metadata": {},
   "outputs": [
    {
     "data": {
      "text/plain": [
       "1142757"
      ]
     },
     "execution_count": 92,
     "metadata": {},
     "output_type": "execute_result"
    }
   ],
   "source": [
    "# Puzzle 2\n",
    "from scipy import ndimage\n",
    "\n",
    "labelled_array, num_basins = ndimage.label(A != 9)\n",
    "sizes = [np.sum(labelled_array == n) for n in range(1, num_basins+1)]\n",
    "np.prod(np.sort(sizes)[-3:])"
   ]
  }
 ],
 "metadata": {
  "interpreter": {
   "hash": "2652f06b02976001099b950d6147bac727240ee3cc1ef0d920bd705c8021af22"
  },
  "kernelspec": {
   "display_name": "Python 3.7.9 64-bit ('aoc': conda)",
   "language": "python",
   "name": "python3"
  },
  "language_info": {
   "codemirror_mode": {
    "name": "ipython",
    "version": 3
   },
   "file_extension": ".py",
   "mimetype": "text/x-python",
   "name": "python",
   "nbconvert_exporter": "python",
   "pygments_lexer": "ipython3",
   "version": "3.7.9"
  },
  "orig_nbformat": 4
 },
 "nbformat": 4,
 "nbformat_minor": 2
}
