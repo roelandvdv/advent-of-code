{
 "cells": [
  {
   "cell_type": "code",
   "execution_count": 256,
   "metadata": {},
   "outputs": [
    {
     "name": "stdout",
     "output_type": "stream",
     "text": [
      "[[1159, 502], [291, 184], [850, 631], [460, 631], [301, 707]]\n",
      "['fold along x=655', 'fold along y=447', 'fold along x=327', 'fold along y=223', 'fold along x=163']\n"
     ]
    }
   ],
   "source": [
    "import numpy as np\n",
    "import matplotlib.pyplot as plt\n",
    "\n",
    "with open(\"../data/day13.txt\", \"r\") as f:\n",
    "    input = f.read()\n",
    "\n",
    "data = input.split(\"\\n\\n\")\n",
    "coords = [[int(x) for x in coord.split(\",\")] for coord in data[0].split(\"\\n\")]\n",
    "folds_string = data[1].split(\"\\n\")\n",
    "print(coords[0:5])\n",
    "print(folds_string[0:5])"
   ]
  },
  {
   "cell_type": "code",
   "execution_count": 258,
   "metadata": {},
   "outputs": [],
   "source": [
    "def parse_folds(folds_string):\n",
    "    folds = []\n",
    "    for fold_string in folds_string:\n",
    "        f = fold_string.split(\"=\")\n",
    "        direction = f[0][-1]\n",
    "        amount = int(f[1])\n",
    "        folds.append([direction, amount])\n",
    "\n",
    "    return folds\n",
    "\n",
    "\n",
    "def build_image(coords, folds):\n",
    "    x_max = [2*fold[1]+1 for fold in folds[0:2] if fold[0] == 'x'][0]\n",
    "    y_max = [2*fold[1]+1 for fold in folds[0:2] if fold[0] == 'y'][0]\n",
    "\n",
    "    A = np.zeros((y_max, x_max), dtype=bool)\n",
    "    for coord in coords:\n",
    "        A[coord[1], coord[0]] = 1\n",
    "    return A\n",
    "\n",
    "\n",
    "def do_fold(A, direction):\n",
    "    shape = np.shape(A)\n",
    "    if direction == 'y':\n",
    "        B = (\n",
    "            A[range(0, int((shape[0]-1)/2)), :] |\n",
    "            A[range(int((shape[0]-1)/2 + 1), shape[0])[::-1], :]\n",
    "        )\n",
    "    elif direction == 'x':\n",
    "        B = (\n",
    "            A[:, range(0, int((shape[1]-1)/2))] |\n",
    "            A[:, range(int((shape[1]-1)/2 + 1), shape[1])[::-1]]\n",
    "        )\n",
    "    return B\n",
    "\n",
    "\n",
    "folds = parse_folds(folds_string)\n",
    "A = build_image(coords, folds)"
   ]
  },
  {
   "cell_type": "code",
   "execution_count": 259,
   "metadata": {},
   "outputs": [
    {
     "data": {
      "text/plain": [
       "729"
      ]
     },
     "execution_count": 259,
     "metadata": {},
     "output_type": "execute_result"
    }
   ],
   "source": [
    "# Puzzle 1\n",
    "B = do_fold(A, folds[0][0])\n",
    "np.sum(B)"
   ]
  },
  {
   "cell_type": "code",
   "execution_count": 260,
   "metadata": {},
   "outputs": [
    {
     "data": {
      "text/plain": [
       "<matplotlib.image.AxesImage at 0x1f51be97cc0>"
      ]
     },
     "execution_count": 260,
     "metadata": {},
     "output_type": "execute_result"
    },
    {
     "data": {
      "image/png": "[encoded data removed]",
      "text/plain": [
       "<Figure size 432x288 with 1 Axes>"
      ]
     },
     "metadata": {
      "needs_background": "light"
     },
     "output_type": "display_data"
    }
   ],
   "source": [
    "# Puzzle 2\n",
    "A = build_image(coords, folds)\n",
    "for fold in folds:\n",
    "    A = do_fold(A, fold[0])\n",
    "\n",
    "plt.imshow(A)"
   ]
  },
  {
   "cell_type": "code",
   "execution_count": null,
   "metadata": {},
   "outputs": [],
   "source": []
  }
 ],
 "metadata": {
  "interpreter": {
   "hash": "2652f06b02976001099b950d6147bac727240ee3cc1ef0d920bd705c8021af22"
  },
  "kernelspec": {
   "display_name": "Python 3.7.9 64-bit ('aoc': conda)",
   "language": "python",
   "name": "python3"
  },
  "language_info": {
   "codemirror_mode": {
    "name": "ipython",
    "version": 3
   },
   "file_extension": ".py",
   "mimetype": "text/x-python",
   "name": "python",
   "nbconvert_exporter": "python",
   "pygments_lexer": "ipython3",
   "version": "3.7.3"
  },
  "orig_nbformat": 4
 },
 "nbformat": 4,
 "nbformat_minor": 2
}
