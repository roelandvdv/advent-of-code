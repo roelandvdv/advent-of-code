{
 "cells": [
  {
   "cell_type": "code",
   "execution_count": 50,
   "metadata": {},
   "outputs": [
    {
     "name": "stdout",
     "output_type": "stream",
     "text": [
      "VOKKVSKKPSBVOOKVCFOV\n"
     ]
    }
   ],
   "source": [
    "import numpy as np\n",
    "from collections import Counter\n",
    "\n",
    "with open(\"../data/day14.txt\", \"r\") as f:\n",
    "    input = f.read()\n",
    "\n",
    "data = input.split(\"\\n\\n\")\n",
    "\n",
    "# Starting polymer template\n",
    "template = data[0]\n",
    "print(template)\n",
    "\n",
    "# Make dictionary of pair list\n",
    "insertion_dict = {}\n",
    "for row in data[1].split(\"\\n\"):\n",
    "    pair = row.split(\" -> \")\n",
    "    insertion_dict[pair[0]] = pair[0][0] + pair[1] + pair[0][1]\n",
    "\n",
    "#insertion_dict"
   ]
  },
  {
   "cell_type": "code",
   "execution_count": 61,
   "metadata": {},
   "outputs": [
    {
     "data": {
      "text/plain": [
       "3095"
      ]
     },
     "execution_count": 61,
     "metadata": {},
     "output_type": "execute_result"
    }
   ],
   "source": [
    "# Puzzle 1\n",
    "\n",
    "def do_step(template):\n",
    "\n",
    "    polymer = \"\"\n",
    "    for n in range(len(template)-1):\n",
    "        pair = template[n:n+2]\n",
    "        polymer += insertion_dict.get(pair, \"\")[0:-1]\n",
    "\n",
    "    polymer += template[-1]\n",
    "\n",
    "    return polymer\n",
    "\n",
    "polymer = template\n",
    "for n in range(10):\n",
    "    polymer = do_step(polymer)\n",
    "\n",
    "ordered = Counter(polymer).most_common()\n",
    "most_common = ordered[0][1]\n",
    "least_common = ordered[-1][1]\n",
    "most_common - least_common"
   ]
  },
  {
   "cell_type": "code",
   "execution_count": 62,
   "metadata": {},
   "outputs": [
    {
     "name": "stdout",
     "output_type": "stream",
     "text": [
      "{'VO': 2, 'OK': 2, 'KK': 2, 'KV': 2, 'VS': 1, 'SK': 1, 'KP': 1, 'PS': 1, 'SB': 1, 'BV': 1, 'OO': 1, 'VC': 1, 'CF': 1, 'FO': 1, 'OV': 1}\n",
      "{'V': 5, 'O': 4, 'K': 5, 'S': 2, 'P': 1, 'B': 1, 'C': 1, 'F': 1}\n",
      "{'V': 1060403316668, 'O': 1224050041858, 'K': 1167260025114, 'S': 2220032906114, 'P': 1239749377296, 'B': 1646877070596, 'C': 4213191743184, 'F': 2923600418139, 'N': 4049021405486, 'H': 1146534623290}\n"
     ]
    },
    {
     "data": {
      "text/plain": [
       "3152788426516"
      ]
     },
     "execution_count": 62,
     "metadata": {},
     "output_type": "execute_result"
    }
   ],
   "source": [
    "# Puzzle 2\n",
    "\n",
    "def do_step(pair_dict, letter_dict):\n",
    "\n",
    "    new_pair_dict = pair_dict.copy()\n",
    "    for pair, count in pair_dict.items():\n",
    "        new_pair_1 = insertion_dict.get(pair, \"\")[0:-1]\n",
    "        new_pair_2 = insertion_dict.get(pair, \"\")[1:]\n",
    "        new_pair_dict[pair] = new_pair_dict[pair] - count\n",
    "        new_pair_dict[new_pair_1] = new_pair_dict.get(new_pair_1, 0) + count\n",
    "        new_pair_dict[new_pair_2] = new_pair_dict.get(new_pair_2, 0) + count\n",
    "\n",
    "        new_letter = insertion_dict.get(pair, \"\")[1]\n",
    "        letter_dict[new_letter] = letter_dict.get(new_letter, 0) + count\n",
    "    \n",
    "    return new_pair_dict, letter_dict\n",
    "\n",
    "\n",
    "pair_dict = {}\n",
    "for n in range(len(template)-1):\n",
    "    pair = template[n:n+2]\n",
    "    pair_dict[pair] = pair_dict.get(pair, 0) + 1\n",
    "print(pair_dict)\n",
    "\n",
    "letter_dict = {}\n",
    "for letter in template:\n",
    "    letter_dict[letter] = letter_dict.get(letter, 0) + 1\n",
    "print(letter_dict)\n",
    "\n",
    "\n",
    "for n in range(40):\n",
    "    pair_dict, letter_dict = do_step(pair_dict, letter_dict)\n",
    "print(letter_dict)\n",
    "\n",
    "ordered = np.sort(list(letter_dict.values()))\n",
    "ordered[-1] - ordered[0]"
   ]
  },
  {
   "cell_type": "code",
   "execution_count": null,
   "metadata": {},
   "outputs": [],
   "source": []
  }
 ],
 "metadata": {
  "interpreter": {
   "hash": "2652f06b02976001099b950d6147bac727240ee3cc1ef0d920bd705c8021af22"
  },
  "kernelspec": {
   "display_name": "Python 3.7.9 64-bit ('aoc': conda)",
   "language": "python",
   "name": "python3"
  },
  "language_info": {
   "codemirror_mode": {
    "name": "ipython",
    "version": 3
   },
   "file_extension": ".py",
   "mimetype": "text/x-python",
   "name": "python",
   "nbconvert_exporter": "python",
   "pygments_lexer": "ipython3",
   "version": "3.7.9"
  },
  "orig_nbformat": 4
 },
 "nbformat": 4,
 "nbformat_minor": 2
}
