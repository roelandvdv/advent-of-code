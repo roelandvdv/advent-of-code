{
 "cells": [
  {
   "cell_type": "code",
   "execution_count": 56,
   "metadata": {},
   "outputs": [
    {
     "name": "stdout",
     "output_type": "stream",
     "text": [
      "VOKKVSKKPSBVOOKVCFOV\n"
     ]
    }
   ],
   "source": [
    "import numpy as np\n",
    "from collections import Counter\n",
    "\n",
    "with open(\"../data/day14.txt\", \"r\") as f:\n",
    "    input = f.read()\n",
    "\n",
    "data = input.split(\"\\n\\n\")\n",
    "\n",
    "# Starting polymer template\n",
    "template = data[0]\n",
    "print(template)\n",
    "\n",
    "# Make dictionary of pair list\n",
    "pair_dict = {}\n",
    "for row in data[1].split(\"\\n\"):\n",
    "    pair = row.split(\" -> \")\n",
    "    pair_dict[pair[0]] = pair[0][0] + pair[1] + pair[0][1]\n"
   ]
  },
  {
   "cell_type": "code",
   "execution_count": 59,
   "metadata": {},
   "outputs": [
    {
     "data": {
      "text/plain": [
       "3095"
      ]
     },
     "execution_count": 59,
     "metadata": {},
     "output_type": "execute_result"
    }
   ],
   "source": [
    "# Puzzle 1\n",
    "\n",
    "def do_step(template):\n",
    "\n",
    "    polymer = \"\"\n",
    "    for n in range(len(template)-1):\n",
    "        pair = template[n:n+2]\n",
    "        polymer += pair_dict.get(pair, \"\")[0:-1]\n",
    "\n",
    "    polymer += template[-1]\n",
    "\n",
    "    return polymer\n",
    "\n",
    "polymer = template\n",
    "for n in range(10):\n",
    "    polymer = do_step(polymer)\n",
    "\n",
    "ordered = Counter(polymer).most_common()\n",
    "most_common = ordered[0][1]\n",
    "least_common = ordered[-1][1]\n",
    "most_common - least_common"
   ]
  },
  {
   "cell_type": "code",
   "execution_count": 53,
   "metadata": {},
   "outputs": [],
   "source": [
    "# Puzzle 2\n"
   ]
  },
  {
   "cell_type": "code",
   "execution_count": null,
   "metadata": {},
   "outputs": [],
   "source": []
  }
 ],
 "metadata": {
  "interpreter": {
   "hash": "2652f06b02976001099b950d6147bac727240ee3cc1ef0d920bd705c8021af22"
  },
  "kernelspec": {
   "display_name": "Python 3.7.9 64-bit ('aoc': conda)",
   "language": "python",
   "name": "python3"
  },
  "language_info": {
   "codemirror_mode": {
    "name": "ipython",
    "version": 3
   },
   "file_extension": ".py",
   "mimetype": "text/x-python",
   "name": "python",
   "nbconvert_exporter": "python",
   "pygments_lexer": "ipython3",
   "version": "3.7.3"
  },
  "orig_nbformat": 4
 },
 "nbformat": 4,
 "nbformat_minor": 2
}
