{
 "cells": [
  {
   "cell_type": "code",
   "execution_count": 31,
   "metadata": {},
   "outputs": [
    {
     "data": {
      "text/plain": [
       "array([[1, 1, 1, 1, 1],\n",
       "       [1, 9, 9, 9, 1],\n",
       "       [1, 9, 1, 9, 1],\n",
       "       [1, 9, 9, 9, 1],\n",
       "       [1, 1, 1, 1, 1]])"
      ]
     },
     "execution_count": 31,
     "metadata": {},
     "output_type": "execute_result"
    }
   ],
   "source": [
    "import numpy as np\n",
    "from scipy import ndimage\n",
    "\n",
    "with open(\"../data/day11test0.txt\", \"r\") as f:\n",
    "    D = np.genfromtxt(f, delimiter=1, dtype=int)\n",
    "\n",
    "D"
   ]
  },
  {
   "cell_type": "code",
   "execution_count": 44,
   "metadata": {},
   "outputs": [
    {
     "name": "stdout",
     "output_type": "stream",
     "text": [
      "[[0 0 0 0 0]\n",
      " [0 1 1 1 0]\n",
      " [0 1 0 1 0]\n",
      " [0 1 1 1 0]\n",
      " [0 0 0 0 0]]\n",
      "[[2 2 2 2 2]\n",
      " [2 2 2 2 2]\n",
      " [2 2 2 2 2]\n",
      " [2 2 2 2 2]\n",
      " [2 2 2 2 2]]\n"
     ]
    },
    {
     "data": {
      "text/plain": [
       "array([[ 0,  0,  0,  0,  0],\n",
       "       [ 0,  0,  0,  0,  0],\n",
       "       [ 3, 11,  3, 11,  3],\n",
       "       [ 3, 11, 11, 11,  3],\n",
       "       [ 3,  3,  3,  3,  3]])"
      ]
     },
     "execution_count": 44,
     "metadata": {},
     "output_type": "execute_result"
    }
   ],
   "source": [
    "# Puzzle 1\n",
    "# https://scipy-lectures.org/advanced/image_processing/\n",
    "\n",
    "def do_step(A):\n",
    "\n",
    "    # Add 1 to all\n",
    "    A1 = A + 1\n",
    "\n",
    "    # Initialize array to store which have flashed\n",
    "    has_flashed = np.zeros_like(A1)\n",
    "\n",
    "    # Find which to flash\n",
    "    flash = A1 > 9\n",
    "\n",
    "    #while np.any(flash):\n",
    "    for n in range(1):\n",
    "        # Find which to increase\n",
    "        # wrong, find a way to add all binary dilations\n",
    "        # convolution better option\n",
    "        print(flash.astype(int))\n",
    "        to_increase = ndimage.grey_dilation(flash.astype(int), structure=np.ones([3, 3], dtype=int))\n",
    "        print(to_increase.astype(int))\n",
    "        to_increase = to_increase & ~flash & ~has_flashed\n",
    "\n",
    "        # Store all the flashed\n",
    "        has_flashed |= flash\n",
    "\n",
    "        # Increase 1 around flashes\n",
    "        A1 += to_increase\n",
    "\n",
    "    # Reset all flashed to 0\n",
    "    A1[has_flashed] = 0\n",
    "\n",
    "    return A1\n",
    "\n",
    "A = D.copy() + 1\n",
    "do_step(A)"
   ]
  },
  {
   "cell_type": "code",
   "execution_count": null,
   "metadata": {},
   "outputs": [],
   "source": []
  }
 ],
 "metadata": {
  "interpreter": {
   "hash": "2652f06b02976001099b950d6147bac727240ee3cc1ef0d920bd705c8021af22"
  },
  "kernelspec": {
   "display_name": "Python 3.7.9 64-bit ('aoc': conda)",
   "language": "python",
   "name": "python3"
  },
  "language_info": {
   "codemirror_mode": {
    "name": "ipython",
    "version": 3
   },
   "file_extension": ".py",
   "mimetype": "text/x-python",
   "name": "python",
   "nbconvert_exporter": "python",
   "pygments_lexer": "ipython3",
   "version": "3.7.3"
  },
  "orig_nbformat": 4
 },
 "nbformat": 4,
 "nbformat_minor": 2
}
