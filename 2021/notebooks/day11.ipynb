{
 "cells": [
  {
   "cell_type": "code",
   "execution_count": 101,
   "metadata": {},
   "outputs": [
    {
     "data": {
      "text/plain": [
       "array([[2, 2, 6, 4, 5, 5, 2, 4, 7, 5],\n",
       "       [7, 6, 8, 1, 2, 8, 7, 3, 2, 5],\n",
       "       [3, 8, 7, 8, 7, 8, 1, 4, 4, 1],\n",
       "       [6, 8, 6, 8, 4, 7, 1, 7, 7, 6],\n",
       "       [7, 1, 7, 5, 2, 5, 5, 5, 5, 5],\n",
       "       [7, 5, 1, 7, 4, 4, 1, 2, 5, 3],\n",
       "       [3, 5, 1, 3, 4, 1, 8, 8, 4, 8],\n",
       "       [4, 6, 2, 8, 7, 3, 6, 7, 4, 7],\n",
       "       [1, 1, 3, 3, 1, 5, 5, 7, 6, 2],\n",
       "       [8, 8, 1, 6, 6, 2, 1, 6, 6, 3]])"
      ]
     },
     "execution_count": 101,
     "metadata": {},
     "output_type": "execute_result"
    }
   ],
   "source": [
    "import numpy as np\n",
    "from scipy import ndimage\n",
    "\n",
    "with open(\"../data/day11.txt\", \"r\") as f:\n",
    "    D = np.genfromtxt(f, delimiter=1, dtype=int)\n",
    "\n",
    "D"
   ]
  },
  {
   "cell_type": "code",
   "execution_count": 102,
   "metadata": {},
   "outputs": [
    {
     "data": {
      "text/plain": [
       "1632"
      ]
     },
     "execution_count": 102,
     "metadata": {},
     "output_type": "execute_result"
    }
   ],
   "source": [
    "# Puzzle 1\n",
    "# https://scipy-lectures.org/advanced/image_processing/\n",
    "\n",
    "def do_step(A):\n",
    "    # Add 1 to all\n",
    "    A1 = A + 1\n",
    "\n",
    "    # Initialize arrays\n",
    "    has_flashed = np.zeros_like(A1).astype(bool)\n",
    "    to_flash = A1 > 9\n",
    "\n",
    "    while np.any(to_flash):\n",
    "        # Find which to increase\n",
    "        to_increase = ndimage.convolve(\n",
    "            to_flash.astype(int), weights=np.ones([3, 3], dtype=int),\n",
    "            mode='constant'\n",
    "        )\n",
    "        to_increase = to_increase * ~to_flash\n",
    "\n",
    "        # Increase around flashes\n",
    "        A1 += to_increase\n",
    "\n",
    "        # Store all the flashed\n",
    "        has_flashed |= to_flash\n",
    "\n",
    "        # Find which to flash next\n",
    "        to_flash = (A1 > 9) & ~has_flashed\n",
    "\n",
    "    # Reset all flashed to 0. \n",
    "    A1 *= ~has_flashed\n",
    "\n",
    "    return A1, np.sum(has_flashed), np.all(has_flashed)\n",
    "\n",
    "A = D.copy()\n",
    "\n",
    "flashes = 0\n",
    "for n in range(100):\n",
    "    A, n, _ = do_step(A)\n",
    "    flashes += n\n",
    "\n",
    "flashes\n"
   ]
  },
  {
   "cell_type": "code",
   "execution_count": 103,
   "metadata": {},
   "outputs": [
    {
     "data": {
      "text/plain": [
       "303"
      ]
     },
     "execution_count": 103,
     "metadata": {},
     "output_type": "execute_result"
    }
   ],
   "source": [
    "# Puzzle 2\n",
    "\n",
    "A = D.copy()\n",
    "for n in range(500):\n",
    "    A, _, yeah = do_step(A)\n",
    "    if yeah:\n",
    "        break\n",
    "n + 1"
   ]
  }
 ],
 "metadata": {
  "interpreter": {
   "hash": "2652f06b02976001099b950d6147bac727240ee3cc1ef0d920bd705c8021af22"
  },
  "kernelspec": {
   "display_name": "Python 3.7.9 64-bit ('aoc': conda)",
   "language": "python",
   "name": "python3"
  },
  "language_info": {
   "codemirror_mode": {
    "name": "ipython",
    "version": 3
   },
   "file_extension": ".py",
   "mimetype": "text/x-python",
   "name": "python",
   "nbconvert_exporter": "python",
   "pygments_lexer": "ipython3",
   "version": "3.7.3"
  },
  "orig_nbformat": 4
 },
 "nbformat": 4,
 "nbformat_minor": 2
}
