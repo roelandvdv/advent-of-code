{
 "cells": [
  {
   "cell_type": "code",
   "execution_count": 12,
   "metadata": {},
   "outputs": [
    {
     "data": {
      "text/plain": [
       "['forward 8',\n",
       " 'forward 3',\n",
       " 'down 8',\n",
       " 'down 2',\n",
       " 'up 1',\n",
       " 'up 4',\n",
       " 'down 9',\n",
       " 'forward 3',\n",
       " 'forward 4',\n",
       " 'forward 5']"
      ]
     },
     "execution_count": 12,
     "metadata": {},
     "output_type": "execute_result"
    }
   ],
   "source": [
    "# Load data\n",
    "with open(\"../data/day2.txt\", \"r\") as f:\n",
    "    input = f.read()\n",
    "\n",
    "data = input.split(\"\\n\")\n",
    "data[0:10]"
   ]
  },
  {
   "cell_type": "code",
   "execution_count": 13,
   "metadata": {},
   "outputs": [
    {
     "name": "stdout",
     "output_type": "stream",
     "text": [
      "1855814\n"
     ]
    }
   ],
   "source": [
    "# Puzzle 1\n",
    "\n",
    "depth = 0\n",
    "hor_position = 0\n",
    "for row in data:\n",
    "    direction, amount = row.split(\" \")\n",
    "    amount = int(amount)\n",
    "\n",
    "    if direction == \"up\":\n",
    "        depth -= amount\n",
    "    elif direction == \"down\":\n",
    "        depth += amount\n",
    "    elif direction == \"forward\":\n",
    "        hor_position += amount\n",
    "\n",
    "print(depth * hor_position)\n"
   ]
  },
  {
   "cell_type": "code",
   "execution_count": 14,
   "metadata": {},
   "outputs": [
    {
     "name": "stdout",
     "output_type": "stream",
     "text": [
      "1845455714\n"
     ]
    }
   ],
   "source": [
    "# Puzzle 2\n",
    "\n",
    "depth = 0\n",
    "hor_position = 0\n",
    "aim = 0\n",
    "for row in data:\n",
    "    direction, amount = row.split(\" \")\n",
    "    amount = int(amount)\n",
    "    \n",
    "    if direction == \"up\":\n",
    "        aim -= amount\n",
    "    elif direction == \"down\":\n",
    "        aim += amount\n",
    "    elif direction == \"forward\":\n",
    "        hor_position += amount\n",
    "        depth += aim * amount\n",
    "\n",
    "print(depth * hor_position)"
   ]
  },
  {
   "cell_type": "code",
   "execution_count": null,
   "metadata": {},
   "outputs": [],
   "source": []
  }
 ],
 "metadata": {
  "interpreter": {
   "hash": "2652f06b02976001099b950d6147bac727240ee3cc1ef0d920bd705c8021af22"
  },
  "kernelspec": {
   "display_name": "Python 3.7.9 64-bit ('aoc': conda)",
   "language": "python",
   "name": "python3"
  },
  "language_info": {
   "codemirror_mode": {
    "name": "ipython",
    "version": 3
   },
   "file_extension": ".py",
   "mimetype": "text/x-python",
   "name": "python",
   "nbconvert_exporter": "python",
   "pygments_lexer": "ipython3",
   "version": "3.7.9"
  },
  "orig_nbformat": 4
 },
 "nbformat": 4,
 "nbformat_minor": 2
}
