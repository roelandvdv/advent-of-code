{
 "cells": [
  {
   "cell_type": "code",
   "execution_count": 95,
   "metadata": {},
   "outputs": [
    {
     "data": {
      "text/plain": [
       "['([<([{{<<(<<{[<><>)}<([][])<<>{}>>>{[{(){}}(()[])]<{()()}<()()>>}>([<<{}<>>(<><>)><[{}[]](<>())>][',\n",
       " '({{<<(<<<<{{[({}{})<[]()>]<([]{}){[]<>}>}{([{}[]]}}}>({(((()()))<{<>()}[<>()]>)[{(<>{})(()[])}[{[]',\n",
       " '[{{[([<({[([<{[]}({}<>)>]{(([]())[()[]]){<[]<>>[<><>]}}>{<[(()<>){[]<>}][[<>{}]<()()>]>[[[<>[]][()']"
      ]
     },
     "execution_count": 95,
     "metadata": {},
     "output_type": "execute_result"
    }
   ],
   "source": [
    "import numpy as np\n",
    "\n",
    "with open(\"../data/day10.txt\", \"r\") as f:\n",
    "    input = f.read()\n",
    "\n",
    "data = input.split(\"\\n\")\n",
    "data[0:3]"
   ]
  },
  {
   "cell_type": "code",
   "execution_count": 96,
   "metadata": {},
   "outputs": [
    {
     "name": "stdout",
     "output_type": "stream",
     "text": [
      "343863\n"
     ]
    }
   ],
   "source": [
    "# Puzzle 1\n",
    "import collections\n",
    "\n",
    "sep_dict = {\n",
    "    \")\": \"(\",\n",
    "    \"]\": \"[\",\n",
    "    \"}\": \"{\",\n",
    "    \">\": \"<\"\n",
    "}\n",
    "\n",
    "def check_syntax(line):\n",
    "    \"\"\"Remove pairs of characters, otherwise return wrong character.\"\"\"\n",
    "    while True:\n",
    "        positions = [line.find(ch) for ch in sep_dict.keys()]\n",
    "        positions_filtered = list(filter((-1).__ne__, positions))\n",
    "        if not positions_filtered:\n",
    "            return None\n",
    "        first = min(positions_filtered)\n",
    "\n",
    "        right_char = line[first]\n",
    "        if line[first - 1] != sep_dict[right_char]:\n",
    "            return right_char\n",
    "        else:\n",
    "            line = line[:(first-1)] + line[(first+1):]\n",
    "\n",
    "errors = [check_syntax(line) for line in data]\n",
    "\n",
    "score_dict = {\n",
    "    \")\": 3,\n",
    "    \"]\": 57,\n",
    "    \"}\": 1197,\n",
    "    \">\": 25137\n",
    "}\n",
    "counter = collections.Counter(errors)\n",
    "total_score = 0\n",
    "for char, score in score_dict.items():\n",
    "    count_dict = dict(counter)\n",
    "    total_score += score*count_dict[char]\n",
    "\n",
    "print(total_score)"
   ]
  },
  {
   "cell_type": "code",
   "execution_count": 100,
   "metadata": {},
   "outputs": [
    {
     "data": {
      "text/plain": [
       "2924734236"
      ]
     },
     "execution_count": 100,
     "metadata": {},
     "output_type": "execute_result"
    }
   ],
   "source": [
    "# Puzzle 2\n",
    "sep_dict = {\n",
    "    \"(\": \")\",\n",
    "    \"[\": \"]\",\n",
    "    \"{\": \"}\",\n",
    "    \"<\": \">\"\n",
    "}\n",
    "def get_missings(line):\n",
    "    \"\"\"Make list of incomplete chars.\"\"\"\n",
    "    chrs = []\n",
    "    while True:\n",
    "        positions = [line.rfind(ch) for ch in sep_dict.keys()]\n",
    "        positions_filtered = list(filter((-1).__ne__, positions))\n",
    "        if not positions_filtered:\n",
    "            return chrs\n",
    "\n",
    "        last = max(positions_filtered)\n",
    "        if len(line) == (last + 1):\n",
    "            chrs.append(sep_dict[line[last]])\n",
    "            line = line[:-1]\n",
    "        else:\n",
    "            line = line[:last] + line[(last+2):]\n",
    "\n",
    "score_dict = {\n",
    "    \")\": 1,\n",
    "    \"]\": 2,\n",
    "    \"}\": 3,\n",
    "    \">\": 4\n",
    "}\n",
    "def get_score(chrs):\n",
    "    total_score = 0\n",
    "    for chr in chrs:\n",
    "        total_score = 5 * total_score + score_dict[chr]\n",
    "    return total_score\n",
    "\n",
    "# From puzzle 1, make list of incomplete lines\n",
    "incomplete = [line for line, error in zip(data, errors) if not error]\n",
    "\n",
    "scores = [get_score(get_missings(line)) for line in incomplete]\n",
    "int(np.median(scores))"
   ]
  },
  {
   "cell_type": "code",
   "execution_count": null,
   "metadata": {},
   "outputs": [],
   "source": []
  }
 ],
 "metadata": {
  "interpreter": {
   "hash": "2652f06b02976001099b950d6147bac727240ee3cc1ef0d920bd705c8021af22"
  },
  "kernelspec": {
   "display_name": "Python 3.7.9 64-bit ('aoc': conda)",
   "language": "python",
   "name": "python3"
  },
  "language_info": {
   "codemirror_mode": {
    "name": "ipython",
    "version": 3
   },
   "file_extension": ".py",
   "mimetype": "text/x-python",
   "name": "python",
   "nbconvert_exporter": "python",
   "pygments_lexer": "ipython3",
   "version": "3.7.9"
  },
  "orig_nbformat": 4
 },
 "nbformat": 4,
 "nbformat_minor": 2
}
