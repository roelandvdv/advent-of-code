{
 "cells": [
  {
   "cell_type": "code",
   "execution_count": 14,
   "metadata": {},
   "outputs": [
    {
     "data": {
      "text/plain": [
       "[[556, 286, 341, 71],\n",
       " [337, 201, 782, 646],\n",
       " [786, 780, 117, 111],\n",
       " [977, 864, 199, 86],\n",
       " [544, 127, 544, 144],\n",
       " [539, 471, 539, 972],\n",
       " [364, 765, 364, 285],\n",
       " [282, 325, 892, 935],\n",
       " [536, 941, 158, 941],\n",
       " [280, 39, 806, 565],\n",
       " [168, 662, 363, 857],\n",
       " [639, 676, 639, 701],\n",
       " [397, 809, 466, 809],\n",
       " [716, 118, 625, 209],\n",
       " [153, 582, 497, 926]]"
      ]
     },
     "execution_count": 14,
     "metadata": {},
     "output_type": "execute_result"
    }
   ],
   "source": [
    "import numpy as np\n",
    "\n",
    "# Load data\n",
    "with open(\"../data/day5.txt\", \"r\") as f:\n",
    "    input = f.read()\n",
    "\n",
    "data = input.split(\"\\n\")\n",
    "lines = [[int(c) for s in line.split(\" -> \") for c in s.split(\",\")] for line in data]\n",
    "lines[0:15]"
   ]
  },
  {
   "cell_type": "code",
   "execution_count": 13,
   "metadata": {},
   "outputs": [
    {
     "name": "stdout",
     "output_type": "stream",
     "text": [
      "[[0. 0. 0. 0. 0. 0. 0. 1. 0. 0.]\n",
      " [0. 0. 1. 0. 0. 0. 0. 1. 0. 0.]\n",
      " [0. 0. 1. 0. 0. 0. 0. 1. 0. 0.]\n",
      " [0. 0. 0. 0. 0. 0. 0. 1. 0. 0.]\n",
      " [0. 1. 1. 2. 1. 1. 1. 2. 1. 1.]\n",
      " [0. 0. 0. 0. 0. 0. 0. 0. 0. 0.]\n",
      " [0. 0. 0. 0. 0. 0. 0. 0. 0. 0.]\n",
      " [0. 0. 0. 0. 0. 0. 0. 0. 0. 0.]\n",
      " [0. 0. 0. 0. 0. 0. 0. 0. 0. 0.]\n",
      " [2. 2. 2. 1. 1. 1. 0. 0. 0. 0.]]\n"
     ]
    },
    {
     "data": {
      "text/plain": [
       "5"
      ]
     },
     "execution_count": 13,
     "metadata": {},
     "output_type": "execute_result"
    }
   ],
   "source": [
    "# Puzzle 1\n",
    "N = max([max(line) for line in lines])\n",
    "A = np.zeros((N+1, N+1))\n",
    "\n",
    "for line in lines:\n",
    "    x1, y1, x2, y2 = line\n",
    "    if x1 == x2:\n",
    "        y1, y2 = np.sort([y1, y2])\n",
    "        A[y1:(y2+1), x1] += 1\n",
    "    if y1 == y2:\n",
    "        x1, x2 = np.sort([x1, x2])\n",
    "        A[y1, x1:(x2+1)] += 1\n",
    "print(A)\n",
    "np.sum(A >= 2)"
   ]
  },
  {
   "cell_type": "code",
   "execution_count": 19,
   "metadata": {},
   "outputs": [
    {
     "data": {
      "text/plain": [
       "16518"
      ]
     },
     "execution_count": 19,
     "metadata": {},
     "output_type": "execute_result"
    }
   ],
   "source": [
    "# Puzzle 2\n",
    "N = max([max(line) for line in lines])\n",
    "A = np.zeros((N+1, N+1))\n",
    "\n",
    "for line in lines:\n",
    "    x1, y1, x2, y2 = line\n",
    "    if x1 == x2:\n",
    "        y1, y2 = np.sort([y1, y2])\n",
    "        A[y1:(y2 + 1), x1] += 1\n",
    "    elif y1 == y2:\n",
    "        x1, x2 = np.sort([x1, x2])\n",
    "        A[y1, x1:(x2 + 1)] += 1\n",
    "    else:\n",
    "        dir_x = 2*(x2 > x1) - 1\n",
    "        dir_y = 2*(y2 > y1) - 1\n",
    "        for x, y in zip(range(x1, x2 + dir_x, dir_x), range(y1, y2 + dir_y, dir_y)):\n",
    "            A[y, x] += 1\n",
    "\n",
    "np.sum(A >= 2)"
   ]
  },
  {
   "cell_type": "code",
   "execution_count": null,
   "metadata": {},
   "outputs": [],
   "source": []
  }
 ],
 "metadata": {
  "interpreter": {
   "hash": "2652f06b02976001099b950d6147bac727240ee3cc1ef0d920bd705c8021af22"
  },
  "kernelspec": {
   "display_name": "Python 3.7.9 64-bit ('aoc': conda)",
   "language": "python",
   "name": "python3"
  },
  "language_info": {
   "codemirror_mode": {
    "name": "ipython",
    "version": 3
   },
   "file_extension": ".py",
   "mimetype": "text/x-python",
   "name": "python",
   "nbconvert_exporter": "python",
   "pygments_lexer": "ipython3",
   "version": "3.7.9"
  },
  "orig_nbformat": 4
 },
 "nbformat": 4,
 "nbformat_minor": 2
}
