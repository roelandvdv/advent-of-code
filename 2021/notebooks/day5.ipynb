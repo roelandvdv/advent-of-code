{
 "cells": [
  {
   "cell_type": "code",
   "execution_count": 124,
   "metadata": {},
   "outputs": [
    {
     "data": {
      "text/plain": [
       "[[0, 9, 5, 9],\n",
       " [8, 0, 0, 8],\n",
       " [9, 4, 3, 4],\n",
       " [2, 2, 2, 1],\n",
       " [7, 0, 7, 4],\n",
       " [6, 4, 2, 0],\n",
       " [0, 9, 2, 9],\n",
       " [3, 4, 1, 4],\n",
       " [0, 0, 8, 8],\n",
       " [5, 5, 8, 2]]"
      ]
     },
     "execution_count": 124,
     "metadata": {},
     "output_type": "execute_result"
    }
   ],
   "source": [
    "import numpy as np\n",
    "\n",
    "# Load data\n",
    "with open(\"../data/day5test.txt\", \"r\") as f:\n",
    "    input = f.read()\n",
    "\n",
    "data = input.split(\"\\n\")\n",
    "lines = [[int(c) for s in line.split(\" -> \") for c in s.split(\",\")] for line in data]\n",
    "lines[0:15]\n"
   ]
  },
  {
   "cell_type": "code",
   "execution_count": 125,
   "metadata": {},
   "outputs": [],
   "source": [
    "N = max([max(line) for line in lines])"
   ]
  },
  {
   "cell_type": "code",
   "execution_count": 126,
   "metadata": {},
   "outputs": [
    {
     "name": "stdout",
     "output_type": "stream",
     "text": [
      "[[0. 0. 0. 0. 0. 0. 0. 1. 0. 0.]\n",
      " [0. 0. 1. 0. 0. 0. 0. 1. 0. 0.]\n",
      " [0. 0. 1. 0. 0. 0. 0. 1. 0. 0.]\n",
      " [0. 0. 0. 0. 0. 0. 0. 1. 0. 0.]\n",
      " [0. 1. 1. 2. 1. 1. 1. 2. 1. 1.]\n",
      " [0. 0. 0. 0. 0. 0. 0. 0. 0. 0.]\n",
      " [0. 0. 0. 0. 0. 0. 0. 0. 0. 0.]\n",
      " [0. 0. 0. 0. 0. 0. 0. 0. 0. 0.]\n",
      " [0. 0. 0. 0. 0. 0. 0. 0. 0. 0.]\n",
      " [2. 2. 2. 1. 1. 1. 0. 0. 0. 0.]]\n"
     ]
    },
    {
     "data": {
      "text/plain": [
       "5"
      ]
     },
     "execution_count": 126,
     "metadata": {},
     "output_type": "execute_result"
    }
   ],
   "source": [
    "# Puzzle 1\n",
    "A = np.zeros((N+1, N+1))\n",
    "\n",
    "for line in lines:\n",
    "    x1, y1, x2, y2 = line\n",
    "    if x1 == x2:\n",
    "        y1, y2 = np.sort([y1, y2])\n",
    "        A[y1:(y2+1), x1] += 1\n",
    "    if y1 == y2:\n",
    "        x1, x2 = np.sort([x1, x2])\n",
    "        A[y1, x1:(x2+1)] += 1\n",
    "print(A)\n",
    "np.sum(A >= 2)\n"
   ]
  },
  {
   "cell_type": "code",
   "execution_count": 130,
   "metadata": {},
   "outputs": [
    {
     "data": {
      "text/plain": [
       "12"
      ]
     },
     "execution_count": 130,
     "metadata": {},
     "output_type": "execute_result"
    }
   ],
   "source": [
    "# Puzzle 2\n",
    "\n",
    "A = np.zeros((N+1, N+1))\n",
    "\n",
    "for line in lines:\n",
    "    x1, y1, x2, y2 = line\n",
    "    if x1 == x2:\n",
    "        y1, y2 = np.sort([y1, y2])\n",
    "        A[y1:(y2+1), x1] += 1\n",
    "    if y1 == y2:\n",
    "        x1, x2 = np.sort([x1, x2])\n",
    "        A[y1, x1:(x2+1)] += 1\n",
    "    \n",
    "    if x1 != x2 and y1 != y2:\n",
    "        dir_x = 2*(x2>x1)-1\n",
    "        dir_y = 2*(y2>y1)-1\n",
    "        for x, y in zip(range(x1, x2+dir_x, dir_x), range(y1, y2+dir_y, dir_y)):\n",
    "            A[y, x] += 1\n",
    "\n",
    "#print(A)\n",
    "np.sum(A >= 2)"
   ]
  },
  {
   "cell_type": "code",
   "execution_count": null,
   "metadata": {},
   "outputs": [],
   "source": []
  }
 ],
 "metadata": {
  "interpreter": {
   "hash": "2652f06b02976001099b950d6147bac727240ee3cc1ef0d920bd705c8021af22"
  },
  "kernelspec": {
   "display_name": "Python 3.7.9 64-bit ('aoc': conda)",
   "language": "python",
   "name": "python3"
  },
  "language_info": {
   "codemirror_mode": {
    "name": "ipython",
    "version": 3
   },
   "file_extension": ".py",
   "mimetype": "text/x-python",
   "name": "python",
   "nbconvert_exporter": "python",
   "pygments_lexer": "ipython3",
   "version": "3.7.9"
  },
  "orig_nbformat": 4
 },
 "nbformat": 4,
 "nbformat_minor": 2
}
