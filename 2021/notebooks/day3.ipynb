{
 "cells": [
  {
   "cell_type": "code",
   "execution_count": 127,
   "metadata": {},
   "outputs": [
    {
     "data": {
      "text/plain": [
       "array([['0', '0', '0', '0', '1', '1', '0', '1', '0', '0', '0', '1'],\n",
       "       ['0', '0', '0', '0', '0', '1', '1', '1', '0', '1', '0', '0'],\n",
       "       ['1', '1', '1', '1', '0', '0', '1', '0', '1', '0', '1', '0'],\n",
       "       ['1', '1', '1', '0', '0', '1', '1', '0', '0', '1', '1', '1'],\n",
       "       ['0', '0', '1', '0', '1', '0', '1', '0', '0', '1', '0', '0'],\n",
       "       ['1', '0', '1', '0', '1', '0', '0', '1', '0', '0', '0', '1'],\n",
       "       ['0', '0', '0', '0', '0', '1', '1', '0', '0', '0', '1', '1'],\n",
       "       ['0', '1', '0', '0', '1', '0', '1', '1', '0', '1', '0', '1'],\n",
       "       ['0', '1', '1', '0', '0', '1', '0', '1', '1', '1', '0', '0'],\n",
       "       ['0', '0', '1', '1', '1', '0', '1', '1', '1', '0', '0', '0']],\n",
       "      dtype='<U1')"
      ]
     },
     "execution_count": 127,
     "metadata": {},
     "output_type": "execute_result"
    }
   ],
   "source": [
    "import numpy as np\n",
    "\n",
    "# Load data\n",
    "with open(\"../data/day3.txt\", \"r\") as f:\n",
    "    data = np.genfromtxt(f, dtype=str, delimiter=1)\n",
    "\n",
    "data[0:10]"
   ]
  },
  {
   "cell_type": "code",
   "execution_count": 128,
   "metadata": {},
   "outputs": [
    {
     "data": {
      "text/plain": [
       "'111011010101'"
      ]
     },
     "execution_count": 128,
     "metadata": {},
     "output_type": "execute_result"
    }
   ],
   "source": [
    "# Puzzle 1\n",
    "from scipy.stats import mode\n",
    "\n",
    "result, _ = mode(data)\n",
    "binary = \"\".join(result[0])\n",
    "binary"
   ]
  },
  {
   "cell_type": "code",
   "execution_count": 129,
   "metadata": {},
   "outputs": [
    {
     "data": {
      "text/plain": [
       "1131506"
      ]
     },
     "execution_count": 129,
     "metadata": {},
     "output_type": "execute_result"
    }
   ],
   "source": [
    "gamma = int(binary, 2)\n",
    "epsilon = (1 << len(binary)) - 1 - gamma\n",
    "power = gamma * epsilon\n",
    "power\n"
   ]
  },
  {
   "cell_type": "code",
   "execution_count": 137,
   "metadata": {},
   "outputs": [
    {
     "name": "stdout",
     "output_type": "stream",
     "text": [
      "7863147\n"
     ]
    }
   ],
   "source": [
    "# Puzzle 2\n",
    "#from statistics import multimode # only from 3.8\n",
    "\n",
    "O2 = data.copy()\n",
    "CO = data.copy()\n",
    "for n in range(np.size(data, 1)):\n",
    "\n",
    "    # Oxygen generator rating\n",
    "    current_O2 = list(O2[:, n])\n",
    "    b_O2 = max('10', key=current_O2.count)\n",
    "    O2 = O2[O2[:,n] == b_O2]\n",
    "    if np.size(O2, 0) == 1:\n",
    "        O2_rating = int(\"\".join(O2[0]), 2)\n",
    "    \n",
    "    # CO2 scrubber rating\n",
    "    current_CO = list(CO[:, n])\n",
    "    b_CO = min('01', key=current_CO.count)\n",
    "    CO = CO[CO[:,n] == b_CO]\n",
    "    if np.size(CO, 0) == 1:\n",
    "        CO_rating = int(\"\".join(CO[0]), 2)\n",
    "\n",
    "rating = O2_rating * CO_rating\n",
    "print(rating)"
   ]
  }
 ],
 "metadata": {
  "interpreter": {
   "hash": "2652f06b02976001099b950d6147bac727240ee3cc1ef0d920bd705c8021af22"
  },
  "kernelspec": {
   "display_name": "Python 3.7.9 64-bit ('aoc': conda)",
   "language": "python",
   "name": "python3"
  },
  "language_info": {
   "codemirror_mode": {
    "name": "ipython",
    "version": 3
   },
   "file_extension": ".py",
   "mimetype": "text/x-python",
   "name": "python",
   "nbconvert_exporter": "python",
   "pygments_lexer": "ipython3",
   "version": "3.7.9"
  },
  "orig_nbformat": 4
 },
 "nbformat": 4,
 "nbformat_minor": 2
}
