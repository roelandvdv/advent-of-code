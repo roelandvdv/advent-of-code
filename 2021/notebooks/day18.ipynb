{
 "cells": [
  {
   "cell_type": "code",
   "execution_count": 673,
   "metadata": {},
   "outputs": [],
   "source": [
    "import numpy as np\n",
    "import re\n",
    "\n",
    "with open(\"../data/day18.txt\", \"r\") as f:\n",
    "    input = f.read()\n",
    "\n",
    "data = input.split(\"\\n\")"
   ]
  },
  {
   "cell_type": "markdown",
   "metadata": {},
   "source": [
    "### Puzzle 1"
   ]
  },
  {
   "cell_type": "code",
   "execution_count": 684,
   "metadata": {},
   "outputs": [],
   "source": [
    "# Helpers\n",
    "def parenthetic_contents(fullstr):\n",
    "    \"\"\"Generate parenthesized contents in string as pairs (level, contents).\n",
    "    \n",
    "    https://stackoverflow.com/questions/4284991/parsing-nested-parentheses-in-python-grab-content-by-level\n",
    "    \"\"\"\n",
    "    stack = []\n",
    "    for i, c in enumerate(fullstr):\n",
    "        if c == '[':\n",
    "            stack.append(i)\n",
    "        elif c == ']' and stack:\n",
    "            start = stack.pop()\n",
    "            yield (len(stack), (start + 1, i), fullstr[start + 1: i])\n",
    "\n",
    "\n",
    "def find_nested_pair(fullstr):\n",
    "    \"\"\"Returns (span left, span right, left number, right number).\"\"\"\n",
    "    tree = parenthetic_contents(fullstr)\n",
    "\n",
    "    for (level, pos, string) in tree:\n",
    "        results = re.search(\"(\\d{1,}),(\\d{1,})\", string)\n",
    "        if level == 4 and results:\n",
    "            return (pos[0], pos[1], int(results.group(1)), int(results.group(2)))\n",
    "    return None\n",
    "\n",
    "\n",
    "def find_number_from(fullstr, pos, direction='right'):\n",
    "    if direction == 'right':\n",
    "        right = fullstr[pos+1:]\n",
    "        result = re.search('\\d{1,}', right)\n",
    "        if result:\n",
    "            return tuple(pos+1 + span for span in result.span())\n",
    "    elif direction == 'left':\n",
    "        left = fullstr[:pos][::-1]\n",
    "        result = re.search('\\d{1,}', left)\n",
    "        if result:\n",
    "            return tuple(pos - span for span in result.span()[::-1])\n",
    "    return None\n",
    "\n",
    "\n",
    "def addinstr(fullstr, span, number: int):\n",
    "    return fullstr[:span[0]] + str(int(fullstr[span[0]:span[1]]) + number) + fullstr[span[1]:]\n",
    "\n",
    "# Actions\n",
    "def explode(fullstr):\n",
    "    if not find_nested_pair(fullstr):\n",
    "        return fullstr, False\n",
    "    left_pos, _, left_value, _ = find_nested_pair(fullstr)\n",
    "    span = find_number_from(fullstr, left_pos, direction=\"left\")\n",
    "    if span:\n",
    "        fullstr = addinstr(fullstr, span, left_value)\n",
    "\n",
    "    _, right_pos, _, right_value = find_nested_pair(fullstr) # Re-do because length might change\n",
    "    span = find_number_from(fullstr, right_pos, direction=\"right\")\n",
    "    if span:\n",
    "        fullstr = addinstr(fullstr, span, right_value)\n",
    "    \n",
    "    left_pos, right_pos , _, _ = find_nested_pair(fullstr) # Re-do because length might change\n",
    "    fullstr = fullstr[:left_pos-1] + '0' + fullstr[right_pos+1:]\n",
    "    return fullstr, True\n",
    "\n",
    "\n",
    "def split(fullstr):\n",
    "    results = re.search('\\d{2,}', fullstr)\n",
    "    if not results:\n",
    "        return fullstr, False\n",
    "    span = results.span(0)\n",
    "    number = int(fullstr[span[0]:span[1]])\n",
    "    left_number = int(np.floor(number/2))\n",
    "    right_number = int(number - left_number)\n",
    "    return fullstr[:span[0]] + f'[{left_number},{right_number}]' + fullstr[span[1]:], True\n",
    "\n",
    "\n",
    "def add(a, b):\n",
    "    return f'[{a},{b}]'\n",
    "\n",
    "# Reduce\n",
    "def reduce_once(fullstr):\n",
    "    result, done_it = explode(fullstr)\n",
    "    if not done_it:\n",
    "        result, done_it = split(fullstr)\n",
    "    return result, done_it\n",
    "\n",
    "\n",
    "def reduce(string):\n",
    "    done_it = True\n",
    "    while done_it:\n",
    "        string, done_it = reduce_once(string)\n",
    "    return string\n",
    "\n",
    "# Magnitude\n",
    "def magnitude_once(string):\n",
    "    results = re.search(\"(\\d{1,}),(\\d{1,})\", string)\n",
    "    return 3 * int(results.group(1)) + 2 * int(results.group(2))\n",
    "\n",
    "\n",
    "def magnitude(string):\n",
    "    while True:\n",
    "        matches = re.findall('\\[\\d{1,},\\d{1,}\\]', string)\n",
    "        if not matches:\n",
    "            break\n",
    "        for match in matches:\n",
    "            string = string.replace(match, str(magnitude_once(match)))\n",
    "    return int(string)"
   ]
  },
  {
   "cell_type": "code",
   "execution_count": 639,
   "metadata": {},
   "outputs": [
    {
     "name": "stdout",
     "output_type": "stream",
     "text": [
      "-------- Test --------\n",
      "Input:    [[[[[9,8],1],2],3],4]\n",
      "Result:   [[[[0,9],2],3],4]\n",
      "Expected: [[[[0,9],2],3],4]\n",
      "-------- Test --------\n",
      "Input:    [7,[6,[5,[4,[3,2]]]]]\n",
      "Result:   [7,[6,[5,[7,0]]]]\n",
      "Expected: [7,[6,[5,[7,0]]]]\n",
      "-------- Test --------\n",
      "Input:    [[6,[5,[4,[3,2]]]],1]\n",
      "Result:   [[6,[5,[7,0]]],3]\n",
      "Expected: [[6,[5,[7,0]]],3]\n",
      "-------- Test --------\n",
      "Input:    [[3,[2,[1,[7,3]]]],[6,[5,[4,[3,2]]]]]\n",
      "Result:   [[3,[2,[8,0]]],[9,[5,[4,[3,2]]]]]\n",
      "Expected: [[3,[2,[8,0]]],[9,[5,[4,[3,2]]]]]\n",
      "-------- Test --------\n",
      "Input:    [[3,[2,[8,0]]],[9,[5,[4,[3,2]]]]]\n",
      "Result:   [[3,[2,[8,0]]],[9,[5,[7,0]]]]\n",
      "Expected: [[3,[2,[8,0]]],[9,[5,[7,0]]]]\n",
      "-------- Test --------\n",
      "Input:    [[[[0,7],4],[7,[[8,4],9]]],[1,1]]\n",
      "Result:   [[[[0,7],4],[15,[0,13]]],[1,1]]\n",
      "Expected: [[[[0,7],4],[15,[0,13]]],[1,1]]\n"
     ]
    }
   ],
   "source": [
    "# Test explode\n",
    "test_input = [\n",
    "    '[[[[[9,8],1],2],3],4]',\n",
    "    '[7,[6,[5,[4,[3,2]]]]]',\n",
    "    '[[6,[5,[4,[3,2]]]],1]',\n",
    "    '[[3,[2,[1,[7,3]]]],[6,[5,[4,[3,2]]]]]',\n",
    "    '[[3,[2,[8,0]]],[9,[5,[4,[3,2]]]]]',\n",
    "    '[[[[0,7],4],[7,[[8,4],9]]],[1,1]]' # later example\n",
    "]\n",
    "\n",
    "test_output = [\n",
    "    '[[[[0,9],2],3],4]',\n",
    "    '[7,[6,[5,[7,0]]]]',\n",
    "    '[[6,[5,[7,0]]],3]',\n",
    "    '[[3,[2,[8,0]]],[9,[5,[4,[3,2]]]]]',\n",
    "    '[[3,[2,[8,0]]],[9,[5,[7,0]]]]',\n",
    "    '[[[[0,7],4],[15,[0,13]]],[1,1]]'\n",
    "]\n",
    "\n",
    "for input, output in zip(test_input, test_output):\n",
    "    print('-------- Test --------')\n",
    "    print(f'Input:    {input}')\n",
    "    print(f'Result:   {explode(input)[0]}')\n",
    "    print(f'Expected: {output}')\n"
   ]
  },
  {
   "cell_type": "code",
   "execution_count": 640,
   "metadata": {},
   "outputs": [
    {
     "data": {
      "text/plain": [
       "'[[[[0,7],4],[[7,8],[6,0]]],[8,1]]'"
      ]
     },
     "execution_count": 640,
     "metadata": {},
     "output_type": "execute_result"
    }
   ],
   "source": [
    "# Test reduce\n",
    "a = '[[[[4,3],4],4],[7,[[8,4],9]]]'\n",
    "b = '[1,1]'\n",
    "string = reduce(add(a,b))\n",
    "string"
   ]
  },
  {
   "cell_type": "code",
   "execution_count": 685,
   "metadata": {},
   "outputs": [
    {
     "name": "stdout",
     "output_type": "stream",
     "text": [
      "Result:   [[[[8,7],[7,7]],[[8,6],[7,7]]],[[[0,7],[6,6]],[8,7]]]\n",
      "Expected: [[[[8,7],[7,7]],[[8,6],[7,7]]],[[[0,7],[6,6]],[8,7]]]\n"
     ]
    }
   ],
   "source": [
    "# Test multiple sums\n",
    "test = [\n",
    "    '[[[0,[4,5]],[0,0]],[[[4,5],[2,6]],[9,5]]]',\n",
    "    '[7,[[[3,7],[4,3]],[[6,3],[8,8]]]]',\n",
    "    '[[2,[[0,8],[3,4]]],[[[6,7],1],[7,[1,6]]]]',\n",
    "    '[[[[2,4],7],[6,[0,5]]],[[[6,8],[2,8]],[[2,1],[4,5]]]]',\n",
    "    '[7,[5,[[3,8],[1,4]]]]',\n",
    "    '[[2,[2,2]],[8,[8,1]]]',\n",
    "    '[2,9]',\n",
    "    '[1,[[[9,3],9],[[9,0],[0,7]]]]',\n",
    "    '[[[5,[7,4]],7],1]',\n",
    "    '[[[[4,2],2],6],[8,7]]',\n",
    "]\n",
    "\n",
    "string = test[0]\n",
    "for pair in test[1:]:\n",
    "    string = reduce(add(string, pair))\n",
    "\n",
    "print(f'Result:   {string}')\n",
    "print(\"Expected: [[[[8,7],[7,7]],[[8,6],[7,7]]],[[[0,7],[6,6]],[8,7]]]\")"
   ]
  },
  {
   "cell_type": "code",
   "execution_count": 686,
   "metadata": {},
   "outputs": [
    {
     "data": {
      "text/plain": [
       "3488"
      ]
     },
     "execution_count": 686,
     "metadata": {},
     "output_type": "execute_result"
    }
   ],
   "source": [
    "# Test magnitude\n",
    "magnitude('[[[[8,7],[7,7]],[[8,6],[7,7]]],[[[0,7],[6,6]],[8,7]]]')"
   ]
  },
  {
   "cell_type": "code",
   "execution_count": 687,
   "metadata": {},
   "outputs": [
    {
     "name": "stdout",
     "output_type": "stream",
     "text": [
      "[[[[6,6],[7,6]],[[7,7],[7,0]]],[[[7,7],[7,7]],[[7,8],[9,9]]]]\n"
     ]
    },
    {
     "data": {
      "text/plain": [
       "4140"
      ]
     },
     "execution_count": 687,
     "metadata": {},
     "output_type": "execute_result"
    }
   ],
   "source": [
    "# Final test\n",
    "test = [\n",
    "    '[[[0,[5,8]],[[1,7],[9,6]]],[[4,[1,2]],[[1,4],2]]]',\n",
    "    '[[[5,[2,8]],4],[5,[[9,9],0]]]',\n",
    "    '[6,[[[6,2],[5,6]],[[7,6],[4,7]]]]',\n",
    "    '[[[6,[0,7]],[0,9]],[4,[9,[9,0]]]]',\n",
    "    '[[[7,[6,4]],[3,[1,3]]],[[[5,5],1],9]]',\n",
    "    '[[6,[[7,3],[3,2]]],[[[3,8],[5,7]],4]]',\n",
    "    '[[[[5,4],[7,7]],8],[[8,3],8]]',\n",
    "    '[[9,3],[[9,9],[6,[4,9]]]]',\n",
    "    '[[2,[[7,7],7]],[[5,8],[[9,3],[0,2]]]]',\n",
    "    '[[[[5,2],5],[8,[3,7]]],[[5,[7,5]],[4,4]]]',\n",
    "]\n",
    "\n",
    "string = test[0]\n",
    "for pair in test[1:]:\n",
    "    string = reduce(add(string, pair))\n",
    "\n",
    "print(string)\n",
    "magnitude(string)"
   ]
  },
  {
   "cell_type": "code",
   "execution_count": 688,
   "metadata": {},
   "outputs": [
    {
     "name": "stdout",
     "output_type": "stream",
     "text": [
      "[[[[7,7],[8,8]],[[0,8],[9,8]]],[[9,3],[8,[2,6]]]]\n"
     ]
    },
    {
     "data": {
      "text/plain": [
       "2907"
      ]
     },
     "execution_count": 688,
     "metadata": {},
     "output_type": "execute_result"
    }
   ],
   "source": [
    "# Puzzle 1\n",
    "string = data[0]\n",
    "for pair in data[1:]:\n",
    "    string = reduce(add(string, pair))\n",
    "\n",
    "print(string)\n",
    "magnitude(string)"
   ]
  },
  {
   "cell_type": "markdown",
   "metadata": {},
   "source": [
    "### Puzzle 2"
   ]
  },
  {
   "cell_type": "code",
   "execution_count": 689,
   "metadata": {},
   "outputs": [
    {
     "name": "stdout",
     "output_type": "stream",
     "text": [
      "[[2,[[7,7],7]],[[5,8],[[9,3],[0,2]]]]\n",
      "[[[0,[5,8]],[[1,7],[9,6]]],[[4,[1,2]],[[1,4],2]]]\n"
     ]
    }
   ],
   "source": [
    "test = [\n",
    "    '[[[0,[5,8]],[[1,7],[9,6]]],[[4,[1,2]],[[1,4],2]]]',\n",
    "    '[[[5,[2,8]],4],[5,[[9,9],0]]]',\n",
    "    '[6,[[[6,2],[5,6]],[[7,6],[4,7]]]]',\n",
    "    '[[[6,[0,7]],[0,9]],[4,[9,[9,0]]]]',\n",
    "    '[[[7,[6,4]],[3,[1,3]]],[[[5,5],1],9]]',\n",
    "    '[[6,[[7,3],[3,2]]],[[[3,8],[5,7]],4]]',\n",
    "    '[[[[5,4],[7,7]],8],[[8,3],8]]',\n",
    "    '[[9,3],[[9,9],[6,[4,9]]]]',\n",
    "    '[[2,[[7,7],7]],[[5,8],[[9,3],[0,2]]]]',\n",
    "    '[[[[5,2],5],[8,[3,7]]],[[5,[7,5]],[4,4]]]',\n",
    "]\n",
    "\n",
    "print(test[8])\n",
    "print(test[0])"
   ]
  },
  {
   "cell_type": "code",
   "execution_count": 690,
   "metadata": {},
   "outputs": [
    {
     "data": {
      "text/plain": [
       "3993"
      ]
     },
     "execution_count": 690,
     "metadata": {},
     "output_type": "execute_result"
    }
   ],
   "source": [
    "def magnitude_two_numbers(a, b):\n",
    "    return magnitude(reduce(add(a,b)))\n",
    "\n",
    "magnitude_two_numbers(test[8], test[0])"
   ]
  },
  {
   "cell_type": "code",
   "execution_count": 691,
   "metadata": {},
   "outputs": [
    {
     "data": {
      "text/plain": [
       "3993"
      ]
     },
     "execution_count": 691,
     "metadata": {},
     "output_type": "execute_result"
    }
   ],
   "source": [
    "from itertools import permutations\n",
    "\n",
    "pairs = permutations(test, r=2)\n",
    "magnitudes = [magnitude_two_numbers(pair[0], pair[1]) for pair in pairs]\n",
    "max(magnitudes)"
   ]
  },
  {
   "cell_type": "code",
   "execution_count": 692,
   "metadata": {},
   "outputs": [
    {
     "data": {
      "text/plain": [
       "4690"
      ]
     },
     "execution_count": 692,
     "metadata": {},
     "output_type": "execute_result"
    }
   ],
   "source": [
    "pairs = permutations(data, r=2)\n",
    "magnitudes = [magnitude_two_numbers(pair[0], pair[1]) for pair in pairs]\n",
    "max(magnitudes)"
   ]
  },
  {
   "cell_type": "markdown",
   "metadata": {},
   "source": [
    "### Appendix"
   ]
  },
  {
   "cell_type": "code",
   "execution_count": null,
   "metadata": {},
   "outputs": [
    {
     "data": {
      "text/plain": [
       "[[3, [2, [1, [7, 3]]]], [6, [5, [4, [3, 2]]]]]"
      ]
     },
     "metadata": {},
     "output_type": "display_data"
    }
   ],
   "source": [
    "# Puzzle 1\n",
    "import json\n",
    "js = json.loads('[[3,[2,[1,[7,3]]]],[6,[5,[4,[3,2]]]]]')\n",
    "js"
   ]
  },
  {
   "cell_type": "code",
   "execution_count": null,
   "metadata": {},
   "outputs": [
    {
     "name": "stdout",
     "output_type": "stream",
     "text": [
      "Harry\n",
      "├── Bill\n",
      "└── Jane\n",
      "    ├── Diane\n",
      "    │   └── Mary\n",
      "    └── Mark\n",
      "\n"
     ]
    }
   ],
   "source": [
    "from treelib import Node, Tree\n",
    "tree = Tree()\n",
    "tree.create_node(\"Harry\", \"harry\")  # root node\n",
    "tree.create_node(\"Jane\", \"jane\", parent=\"harry\")\n",
    "tree.create_node(\"Bill\", \"bill\", parent=\"harry\")\n",
    "tree.create_node(\"Diane\", \"diane\", parent=\"jane\")\n",
    "tree.create_node(\"Mary\", \"mary\", parent=\"diane\")\n",
    "tree.create_node(\"Mark\", \"mark\", parent=\"jane\")\n",
    "tree.show()"
   ]
  }
 ],
 "metadata": {
  "interpreter": {
   "hash": "2652f06b02976001099b950d6147bac727240ee3cc1ef0d920bd705c8021af22"
  },
  "kernelspec": {
   "display_name": "Python 3.7.9 64-bit ('aoc': conda)",
   "language": "python",
   "name": "python3"
  },
  "language_info": {
   "codemirror_mode": {
    "name": "ipython",
    "version": 3
   },
   "file_extension": ".py",
   "mimetype": "text/x-python",
   "name": "python",
   "nbconvert_exporter": "python",
   "pygments_lexer": "ipython3",
   "version": "3.7.9"
  },
  "orig_nbformat": 4
 },
 "nbformat": 4,
 "nbformat_minor": 2
}
