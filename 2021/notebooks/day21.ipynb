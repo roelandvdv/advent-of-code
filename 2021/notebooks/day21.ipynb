{
 "cells": [
  {
   "cell_type": "markdown",
   "metadata": {},
   "source": [
    "### Puzzle 1"
   ]
  },
  {
   "cell_type": "code",
   "execution_count": 147,
   "metadata": {},
   "outputs": [
    {
     "name": "stdout",
     "output_type": "stream",
     "text": [
      "10 1000\n",
      "3 745\n",
      "331\n",
      "739785\n"
     ]
    }
   ],
   "source": [
    "# Test\n",
    "# Player 1 starting position: 4\n",
    "# Player 2 starting position: 8\n",
    "\n",
    "# Puzzle input\n",
    "# Player 1 starting position: 4\n",
    "# Player 2 starting position: 10\n",
    "\n",
    "space_1 = 4\n",
    "score_1 = 0\n",
    "space_2 = 8\n",
    "score_2 = 0\n",
    "\n",
    "\n",
    "def deterministic_dice():\n",
    "    \"\"\"Generator\"\"\"\n",
    "    n = 1\n",
    "    while True:\n",
    "        yield (n - 1) % 100 + 1\n",
    "        n += 1\n",
    "\n",
    "\n",
    "def throw(dice, space):\n",
    "    dice_values = [next(dice) for _ in range(3)]\n",
    "    space = (space + sum(dice_values) - 1) % 10 + 1\n",
    "    return space\n",
    "\n",
    "\n",
    "n = 0\n",
    "dice = deterministic_dice()\n",
    "while True:# and n < 20:\n",
    "    n += 1\n",
    "    space_1 = throw(dice, space_1)\n",
    "    score_1 += space_1\n",
    "    if score_1 >= 1000:\n",
    "        break\n",
    "\n",
    "    n += 1\n",
    "    space_2 = throw(dice, space_2)\n",
    "    score_2 += space_2\n",
    "    if score_2 >= 1000:\n",
    "        break\n",
    "\n",
    "print(space_1, score_1)\n",
    "print(space_2, score_2)\n",
    "print(n)\n",
    "print(min([score_1, score_2]) * n * 3)\n"
   ]
  },
  {
   "cell_type": "markdown",
   "metadata": {},
   "source": [
    "### Puzzle 2"
   ]
  },
  {
   "cell_type": "code",
   "execution_count": null,
   "metadata": {},
   "outputs": [],
   "source": [
    "# calculate back from score?\n",
    "# save number of wins/losses every step\n",
    "# store win/loss for every combination of spaces.\n"
   ]
  },
  {
   "cell_type": "code",
   "execution_count": 149,
   "metadata": {},
   "outputs": [
    {
     "data": {
      "text/plain": [
       "46000"
      ]
     },
     "execution_count": 149,
     "metadata": {},
     "output_type": "execute_result"
    }
   ],
   "source": [
    "# number of ending positions approx:\n",
    "# 10*10*20*29 (some are not possible)\n",
    "# both on any of 10 spaces, with a score 0-20 and 0-23 (actually less)\n",
    "10*10*20*23\n",
    "\n",
    "# store end result, look up every time"
   ]
  },
  {
   "cell_type": "code",
   "execution_count": 158,
   "metadata": {},
   "outputs": [
    {
     "name": "stdout",
     "output_type": "stream",
     "text": [
      "[(1, 1, 1), (1, 1, 2), (1, 1, 3), (1, 2, 2), (1, 2, 3), (1, 3, 3), (2, 2, 2), (2, 2, 3), (2, 3, 3), (3, 3, 3)]\n",
      "[3 4 5 5 6 6 7 7 8 9]\n"
     ]
    }
   ],
   "source": [
    "# Symmetries: \n",
    "from itertools import combinations_with_replacement\n",
    "combs = list(combinations_with_replacement([1, 2, 3], r=3))\n",
    "print(combs)\n",
    "print(np.sort([sum(c) for c in combs]))"
   ]
  },
  {
   "cell_type": "code",
   "execution_count": null,
   "metadata": {},
   "outputs": [],
   "source": []
  }
 ],
 "metadata": {
  "interpreter": {
   "hash": "2652f06b02976001099b950d6147bac727240ee3cc1ef0d920bd705c8021af22"
  },
  "kernelspec": {
   "display_name": "Python 3.7.9 64-bit ('aoc': conda)",
   "language": "python",
   "name": "python3"
  },
  "language_info": {
   "codemirror_mode": {
    "name": "ipython",
    "version": 3
   },
   "file_extension": ".py",
   "mimetype": "text/x-python",
   "name": "python",
   "nbconvert_exporter": "python",
   "pygments_lexer": "ipython3",
   "version": "3.7.9"
  },
  "orig_nbformat": 4
 },
 "nbformat": 4,
 "nbformat_minor": 2
}
