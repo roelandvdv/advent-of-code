{
 "cells": [
  {
   "cell_type": "code",
   "execution_count": 1,
   "metadata": {},
   "outputs": [
    {
     "data": {
      "text/plain": [
       "[1, 4, 1, 1, 1, 1, 5, 1, 1, 5]"
      ]
     },
     "execution_count": 1,
     "metadata": {},
     "output_type": "execute_result"
    }
   ],
   "source": [
    "import numpy as np\n",
    "\n",
    "# Load data\n",
    "with open(\"../data/day6.txt\", \"r\") as f:\n",
    "    input = f.read()\n",
    "\n",
    "data = [int(n) for n in input.split(\",\")]\n",
    "data[0:10]"
   ]
  },
  {
   "cell_type": "code",
   "execution_count": 2,
   "metadata": {},
   "outputs": [
    {
     "name": "stdout",
     "output_type": "stream",
     "text": [
      "385391\n"
     ]
    }
   ],
   "source": [
    "# Puzzle 1\n",
    "\n",
    "def time_step(state):\n",
    "    array = np.array(state)\n",
    "    new_array = array - 1\n",
    "\n",
    "    to_replace = new_array < 0\n",
    "    new_array[to_replace] = 6\n",
    "    n_to_append = np.sum(to_replace)\n",
    "    new_array = np.append(new_array, 8 * np.ones(n_to_append, dtype=int))\n",
    "\n",
    "    return new_array\n",
    "\n",
    "state = data.copy()\n",
    "for t in range(80):\n",
    "    state = time_step(state)\n",
    "\n",
    "print(len(state))"
   ]
  },
  {
   "cell_type": "code",
   "execution_count": 3,
   "metadata": {},
   "outputs": [
    {
     "name": "stdout",
     "output_type": "stream",
     "text": [
      "1728611055389\n"
     ]
    }
   ],
   "source": [
    "# Puzzle 2\n",
    "number_count = [np.sum(np.array(data) == n) for n in range(9)]\n",
    "\n",
    "for t in range(256):\n",
    "    n_below_zero = number_count.pop(0)\n",
    "    number_count.append(n_below_zero)\n",
    "    number_count[6] += n_below_zero\n",
    "\n",
    "print(np.sum(number_count))\n"
   ]
  }
 ],
 "metadata": {
  "interpreter": {
   "hash": "2652f06b02976001099b950d6147bac727240ee3cc1ef0d920bd705c8021af22"
  },
  "kernelspec": {
   "display_name": "Python 3.7.9 64-bit ('aoc': conda)",
   "language": "python",
   "name": "python3"
  },
  "language_info": {
   "codemirror_mode": {
    "name": "ipython",
    "version": 3
   },
   "file_extension": ".py",
   "mimetype": "text/x-python",
   "name": "python",
   "nbconvert_exporter": "python",
   "pygments_lexer": "ipython3",
   "version": "3.7.9"
  },
  "orig_nbformat": 4
 },
 "nbformat": 4,
 "nbformat_minor": 2
}
