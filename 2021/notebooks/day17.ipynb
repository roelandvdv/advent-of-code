{
 "cells": [
  {
   "cell_type": "code",
   "execution_count": 70,
   "metadata": {},
   "outputs": [
    {
     "name": "stdout",
     "output_type": "stream",
     "text": [
      "target area: x=20..30, y=-10..-5\n"
     ]
    }
   ],
   "source": [
    "import numpy as np\n",
    "\n",
    "with open(\"../data/day17test.txt\", \"r\") as f:\n",
    "    input = f.read()\n",
    "\n",
    "print(input)"
   ]
  },
  {
   "cell_type": "code",
   "execution_count": 93,
   "metadata": {},
   "outputs": [],
   "source": [
    "# Puzzle 1\n",
    "\n",
    "# target area: x=20..30, y=-10..-5\n",
    "x_min = 20\n",
    "x_max = 30\n",
    "y_min = -10\n",
    "y_max = -5\n",
    "\n",
    "# target area: x=144..178, y=-100..-76\n",
    "x_min = 144\n",
    "x_max = 178\n",
    "y_min = -100\n",
    "y_max = -76\n",
    "\n",
    "# y-direction. Directions are independent.\n",
    "y_results = []\n",
    "for vy0 in range(-200,200):\n",
    "    y = 0\n",
    "    y_top = 0\n",
    "    vy = vy0\n",
    "    n = 1\n",
    "    while y >= y_min:\n",
    "        y += vy\n",
    "        y_top = max([y, y_top])\n",
    "        vy -= 1\n",
    "        if y >= y_min and y <= y_max:\n",
    "            y_results.append((vy0, n, y_top))\n",
    "        n += 1\n",
    "n_max = max(y_results, key=lambda x:x[1])[1]\n",
    "\n",
    "# x-direction. Directions are independent.\n",
    "x_results = []\n",
    "for vx0 in range(0,200):\n",
    "    x = 0\n",
    "    vx = vx0\n",
    "    n = 1\n",
    "    while n <= n_max and x <= x_max: # Cannot just stop when vx=0\n",
    "        x += vx\n",
    "        if vx != 0:\n",
    "            vx -= int(vx/abs(vx))\n",
    "        if x >= x_min and x <= x_max:\n",
    "            x_results.append((vx0, n))\n",
    "        n += 1"
   ]
  },
  {
   "cell_type": "code",
   "execution_count": 94,
   "metadata": {},
   "outputs": [
    {
     "name": "stdout",
     "output_type": "stream",
     "text": [
      "vx: [(17, 200), (18, 200)] vy: 99, y_top: 4950\n"
     ]
    }
   ],
   "source": [
    "# Puzzle 1. Other values of vy might be possible\n",
    "y_results.sort(key=lambda x:x[2], reverse=True)\n",
    "\n",
    "for vy0, n, y_top in y_results:\n",
    "\n",
    "    x_possible = [(vx0, nx) for vx0, nx in  x_results if n == nx]\n",
    "    if x_possible:\n",
    "        print(f\"vx: {x_possible} vy: {vy0}, y_top: {y_top}\")\n",
    "        break"
   ]
  },
  {
   "cell_type": "code",
   "execution_count": 95,
   "metadata": {},
   "outputs": [
    {
     "name": "stdout",
     "output_type": "stream",
     "text": [
      "1477\n"
     ]
    }
   ],
   "source": [
    "# Puzzle 2\n",
    "#print(x_results)\n",
    "#print(y_results)\n",
    "\n",
    "# Iterate over steps\n",
    "all = []\n",
    "for n in range(1, n_max+1):\n",
    "    vx_sel = [vx for vx, nx in x_results if n == nx]\n",
    "    vy_sel = [vy for vy, ny, _ in y_results if n == ny]\n",
    "    # Get all combinations\n",
    "    comb = [(x, y) for x in vx_sel for y in vy_sel]\n",
    "    all += comb\n",
    "\n",
    "# Get set\n",
    "print(len(set(all)))"
   ]
  },
  {
   "cell_type": "code",
   "execution_count": null,
   "metadata": {},
   "outputs": [],
   "source": []
  }
 ],
 "metadata": {
  "interpreter": {
   "hash": "2652f06b02976001099b950d6147bac727240ee3cc1ef0d920bd705c8021af22"
  },
  "kernelspec": {
   "display_name": "Python 3.7.9 64-bit ('aoc': conda)",
   "language": "python",
   "name": "python3"
  },
  "language_info": {
   "codemirror_mode": {
    "name": "ipython",
    "version": 3
   },
   "file_extension": ".py",
   "mimetype": "text/x-python",
   "name": "python",
   "nbconvert_exporter": "python",
   "pygments_lexer": "ipython3",
   "version": "3.7.9"
  },
  "orig_nbformat": 4
 },
 "nbformat": 4,
 "nbformat_minor": 2
}
