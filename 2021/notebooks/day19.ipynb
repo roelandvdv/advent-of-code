{
 "cells": [
  {
   "cell_type": "code",
   "execution_count": 551,
   "metadata": {},
   "outputs": [],
   "source": [
    "import numpy as np\n",
    "from itertools import combinations\n",
    "import networkx as nx \n",
    "\n",
    "\n",
    "with open(\"../data/day19.txt\", \"r\") as f:\n",
    "    input = f.read()\n",
    "\n",
    "data = [[[int(c) for c in b.split(\",\")] for b in s.split(\"\\n\")[1:]] for s in input.split(\"\\n\\n\")]"
   ]
  },
  {
   "cell_type": "markdown",
   "metadata": {},
   "source": [
    "### Puzzle 1"
   ]
  },
  {
   "cell_type": "code",
   "execution_count": 480,
   "metadata": {},
   "outputs": [],
   "source": [
    "# Image registration (correlation) probably too slow\n",
    "# r.apply is way too slow (15s), see appendix\n",
    "# matrix multiplication also too slow (10s)\n",
    "# Simply loop over translations, axis orientations and signs\n",
    "\n",
    "def get_transform(M, d):\n",
    "    return lambda v: v @ M.T + d\n",
    "\n",
    "\n",
    "def get_inv_transform(M, d):\n",
    "    return lambda v: (v - d) @ M\n",
    "\n",
    "\n",
    "def find_transform(data0, data1):\n",
    "    \"\"\"Return transformation functions\"\"\"\n",
    "    transform = np.zeros((3, 3), dtype=int)\n",
    "    d = np.array([0, 0, 0])\n",
    "    axes = [0, 1, 2]\n",
    "    for dx in range(-2000, 2001):\n",
    "        for sign in [1, -1]:\n",
    "            for axis0 in range(0,3):\n",
    "                for axis1 in range(0,3): # can be simplified, one less here\n",
    "                    c0 = data0[:, axis0]\n",
    "                    c1 = sign * data1[:, axis1] + dx\n",
    "                    count = len((set(c0).intersection(c1)))\n",
    "                    if count == 11 or count == 10:\n",
    "                        print(f\"Count of {count} found\")\n",
    "                    if count >= 11: # Supposed to be 12, but doesn't work!\n",
    "                        transform[axis0, axis1] = sign\n",
    "                        d[axis0] = dx\n",
    "                        axes.remove(axis0)\n",
    "                        if not axes:\n",
    "                            return get_transform(transform, d), get_inv_transform(transform, d)\n",
    "    return None\n"
   ]
  },
  {
   "cell_type": "code",
   "execution_count": null,
   "metadata": {},
   "outputs": [],
   "source": [
    "# Create list of graph edges with transformation functions\n",
    "# Slow, about 6 mins.\n",
    "edge_list = []\n",
    "for s0, s1 in combinations(range(len(data)), r=2):\n",
    "    data0 = np.array(data[s0])\n",
    "    data1 = np.array(data[s1])\n",
    "    functions = find_transform(data0, data1)\n",
    "    if functions:\n",
    "        print(f\"Mapping found between {s0} and {s1}\")\n",
    "        edge_list.append((s0, s1, {\"t\": functions[1]}))\n",
    "        edge_list.append((s1, s0, {\"t\": functions[0]}))"
   ]
  },
  {
   "cell_type": "code",
   "execution_count": 552,
   "metadata": {},
   "outputs": [
    {
     "data": {
      "image/png": "[encoded data removed]",
      "text/plain": [
       "<Figure size 432x288 with 1 Axes>"
      ]
     },
     "metadata": {},
     "output_type": "display_data"
    }
   ],
   "source": [
    "# Create graph from edge list and draw\n",
    "G = nx.DiGraph()\n",
    "G.add_edges_from(edge_list)\n",
    "nx.draw(G, with_labels=True)"
   ]
  },
  {
   "cell_type": "code",
   "execution_count": 554,
   "metadata": {},
   "outputs": [
    {
     "name": "stdout",
     "output_type": "stream",
     "text": [
      "376\n"
     ]
    }
   ],
   "source": [
    "# Find shortest path to scanner 0 from every other scanner and transform beacon coordinates\n",
    "all_beacons = np.array(data[0]) # array to store all beacons relative to scanner 0\n",
    "loc_dict = {} # dict to store location of scanners relative to scanner 0\n",
    "for scanner in range(1, len(data)):\n",
    "    try:\n",
    "        path = nx.shortest_path(G, scanner, 0)\n",
    "        dx = np.array([0,0,0])\n",
    "        beacons = data[scanner]\n",
    "        for u, v in zip(path[:-1], path[1:]):\n",
    "            f = G.get_edge_data(u, v)[\"t\"]\n",
    "            dx = f(dx)\n",
    "            beacons = f(beacons)\n",
    "        loc_dict[scanner] = list(dx)\n",
    "        all_beacons = np.concatenate((all_beacons, beacons))   \n",
    "    except:\n",
    "        print(f\"No path from {scanner}\") \n",
    "\n",
    "all_beacons_deduplicated = set([tuple(beacon) for beacon in all_beacons])\n",
    "print(len(all_beacons_deduplicated))"
   ]
  },
  {
   "cell_type": "markdown",
   "metadata": {},
   "source": [
    "### Puzzle 2\n",
    "Not beacons, but scanner distance."
   ]
  },
  {
   "cell_type": "code",
   "execution_count": 568,
   "metadata": {},
   "outputs": [
    {
     "data": {
      "text/plain": [
       "10772"
      ]
     },
     "execution_count": 568,
     "metadata": {},
     "output_type": "execute_result"
    }
   ],
   "source": [
    "def manhattan(pair):\n",
    "    return np.sum(np.abs(np.array(pair[1]) - np.array(pair[0])))\n",
    "\n",
    "pairs = combinations(list(loc_dict.values()), r=2)\n",
    "dist_list = [manhattan(pair) for pair in pairs]\n",
    "np.sort(dist_list)[-1]"
   ]
  },
  {
   "cell_type": "markdown",
   "metadata": {},
   "source": [
    "### Appendix"
   ]
  },
  {
   "cell_type": "code",
   "execution_count": null,
   "metadata": {},
   "outputs": [
    {
     "data": {
      "text/plain": [
       "array([ 2.67712574, -0.17301807, -0.18620982])"
      ]
     },
     "metadata": {},
     "output_type": "display_data"
    }
   ],
   "source": [
    "r, _ = R.align_vectors(data[0][0:2], data[1][0:2])\n",
    "r.as_rotvec()"
   ]
  },
  {
   "cell_type": "code",
   "execution_count": null,
   "metadata": {},
   "outputs": [],
   "source": [
    "# Generate euler angles for all 24 orientations\n",
    "facings = [0, 180]\n",
    "orientations = [0, 90, 180, 270]\n",
    "\n",
    "def rotate(l, n):\n",
    "    return l[-n:] + l[:-n]\n",
    "\n",
    "angles = []\n",
    "for axis in range(3):\n",
    "    for facing in facings:\n",
    "        for orientation in orientations:\n",
    "            if axis == 0:\n",
    "                angles.append([orientation, facing, 0])\n",
    "            elif axis == 1:\n",
    "                angles.append([0, orientation, facing + 90])\n",
    "            elif axis == 2:\n",
    "                angles.append([0, facing + 90, orientation])\n",
    "angles\n"
   ]
  },
  {
   "cell_type": "code",
   "execution_count": null,
   "metadata": {},
   "outputs": [],
   "source": [
    "from scipy.spatial.transform import Rotation as R\n",
    "# For now only rotations\n",
    "\n",
    "r = R.from_euler('xyz', angles, degrees=True)"
   ]
  },
  {
   "cell_type": "code",
   "execution_count": null,
   "metadata": {},
   "outputs": [],
   "source": [
    "M = r.as_matrix().astype(int)"
   ]
  },
  {
   "cell_type": "code",
   "execution_count": null,
   "metadata": {},
   "outputs": [],
   "source": [
    "# Matrix multiplication is slow\n",
    "for dx in range(-2000, 2001):\n",
    "    for m in M:\n",
    "\n",
    "        x0 = [tuple(c) for c in data[0]]\n",
    "        #x1 = [tuple(c) for c in ]\n",
    "\n",
    "        x1d = [tuple([n - dx for n in c]) for c in data[1] @ m]\n",
    "        count = len(list(set(x0).intersection(x1d)))\n",
    "\n",
    "        #print(x1d)\n",
    "        if count >= 12:\n",
    "            print(dx)\n",
    "            print(count)\n",
    "            print(list(set(x0).intersection(x1d)))\n",
    "            #break\n"
   ]
  },
  {
   "cell_type": "code",
   "execution_count": null,
   "metadata": {},
   "outputs": [],
   "source": [
    "# Testing\n",
    "\n",
    "M = np.array([\n",
    "    [1, 0, 0],\n",
    "    [0, 0, -1],\n",
    "    [0, 1, 0],\n",
    "])\n",
    "(M @ np.array(data[0]).T).T\n"
   ]
  }
 ],
 "metadata": {
  "interpreter": {
   "hash": "2652f06b02976001099b950d6147bac727240ee3cc1ef0d920bd705c8021af22"
  },
  "kernelspec": {
   "display_name": "Python 3.7.9 64-bit ('aoc': conda)",
   "language": "python",
   "name": "python3"
  },
  "language_info": {
   "codemirror_mode": {
    "name": "ipython",
    "version": 3
   },
   "file_extension": ".py",
   "mimetype": "text/x-python",
   "name": "python",
   "nbconvert_exporter": "python",
   "pygments_lexer": "ipython3",
   "version": "3.7.9"
  },
  "orig_nbformat": 4
 },
 "nbformat": 4,
 "nbformat_minor": 2
}
