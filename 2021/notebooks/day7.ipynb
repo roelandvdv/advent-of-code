{
 "cells": [
  {
   "cell_type": "code",
   "execution_count": 51,
   "metadata": {},
   "outputs": [
    {
     "data": {
      "text/plain": [
       "[1101, 1, 29, 67, 1102, 0, 1, 65, 1008, 65]"
      ]
     },
     "execution_count": 51,
     "metadata": {},
     "output_type": "execute_result"
    }
   ],
   "source": [
    "import numpy as np\n",
    "\n",
    "# Load data\n",
    "with open(\"../data/day7.txt\", \"r\") as f:\n",
    "    input = f.read()\n",
    "\n",
    "data = [int(x) for x in input.split(\",\")]\n",
    "data[0:10]"
   ]
  },
  {
   "cell_type": "code",
   "execution_count": 52,
   "metadata": {},
   "outputs": [
    {
     "data": {
      "text/plain": [
       "342641"
      ]
     },
     "execution_count": 52,
     "metadata": {},
     "output_type": "execute_result"
    }
   ],
   "source": [
    "# Puzzle 1\n",
    "loss = lambda x: sum(abs(np.array(data) - x))\n",
    "\n",
    "# We could write/use a better optimizer of course...\n",
    "losses = [loss(pos) for pos in range(0, max(data))] \n",
    "min(losses)\n"
   ]
  },
  {
   "cell_type": "code",
   "execution_count": 53,
   "metadata": {},
   "outputs": [
    {
     "data": {
      "text/plain": [
       "93006301"
      ]
     },
     "execution_count": 53,
     "metadata": {},
     "output_type": "execute_result"
    }
   ],
   "source": [
    "# Puzzle 2\n",
    "def loss(x):\n",
    "    dis = abs(np.array(data) - x)\n",
    "    return int(sum(1/2 * dis * (dis + 1)))\n",
    "\n",
    "# We could write/use a better optimizer of course...\n",
    "losses = [loss(pos) for pos in range(0, max(data))]\n",
    "min(losses)"
   ]
  },
  {
   "cell_type": "code",
   "execution_count": 54,
   "metadata": {},
   "outputs": [
    {
     "data": {
      "text/plain": [
       "[<matplotlib.lines.Line2D at 0x7fde00be2d10>]"
      ]
     },
     "execution_count": 54,
     "metadata": {},
     "output_type": "execute_result"
    },
    {
     "data": {
      "image/png": "[encoded data removed]",
      "text/plain": [
       "<Figure size 432x288 with 1 Axes>"
      ]
     },
     "metadata": {
      "needs_background": "light"
     },
     "output_type": "display_data"
    }
   ],
   "source": [
    "import matplotlib.pyplot as plt\n",
    "plt.plot(losses)"
   ]
  },
  {
   "cell_type": "code",
   "execution_count": null,
   "metadata": {},
   "outputs": [],
   "source": []
  }
 ],
 "metadata": {
  "interpreter": {
   "hash": "2652f06b02976001099b950d6147bac727240ee3cc1ef0d920bd705c8021af22"
  },
  "kernelspec": {
   "display_name": "Python 3.7.9 64-bit ('aoc': conda)",
   "language": "python",
   "name": "python3"
  },
  "language_info": {
   "codemirror_mode": {
    "name": "ipython",
    "version": 3
   },
   "file_extension": ".py",
   "mimetype": "text/x-python",
   "name": "python",
   "nbconvert_exporter": "python",
   "pygments_lexer": "ipython3",
   "version": "3.7.9"
  },
  "orig_nbformat": 4
 },
 "nbformat": 4,
 "nbformat_minor": 2
}
