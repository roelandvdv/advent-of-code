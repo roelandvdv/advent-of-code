{
 "cells": [
  {
   "cell_type": "code",
   "execution_count": 349,
   "metadata": {},
   "outputs": [
    {
     "name": "stdout",
     "output_type": "stream",
     "text": [
      "0052E4A00905271049796FB8872A0D25B9FB746893847236200B4F0BCE5194401C9B9E3F9C63992C8931A65A1CCC0D222100511A00BCBA647D98BE29A397005E55064A9DFEEC86600BD002AF2343A91A1CCE773C26600D126B69D15A6793BFCE2775D9E4A9002AB86339B5F9AB411A15CCAF10055B3EFFC00BCCE730112FA6620076268CE5CDA1FCEB69005A3800D24F4DB66E53F074F811802729733E0040E5C5E5C5C8015F9613937B83F23B278724068018014A00588014005519801EC04B220116CC0402000EAEC03519801A402B30801A802138801400170A0046A800C10001AB37FD8EB805D1C266963E95A4D1A5FF9719FEF7FDB4FB2DB29008CD2BAFA3D005CD31EB4EF2EBE4F4235DF78C66009E80293AE9310D3FCBFBCA440144580273BAEE17E55B66508803C2E0087E630F72BCD5E71B32CCFBBE2800017A2C2803D272BCBCD12BD599BC874B939004B5400964AE84A6C1E7538004CD300623AC6C882600E4328F710CC01C82D1B228980292ECD600B48E0526E506F700760CCC468012E68402324F9668028200C41E8A30E00010D8B11E62F98029801AB88039116344340004323EC48873233E72A36402504CB75006EA00084C7B895198001098D91AE2190065933AA6EB41AD0042626A93135681A400804CB54C0318032200E47B8F71C0001098810D61D8002111B228468000E5269324AD1ECF7C519B86309F35A46200A1660A280150968A4CB45365A03F3DDBAE980233407E00A80021719A1B4181006E1547D87C6008E0043337EC434C32BDE487A4AE08800D34BC3DEA974F35C20100BE723F1197F59E662FDB45824AA1D2DDCDFA2D29EBB69005072E5F2EDF3C0B244F30E0600AE00203229D229B342CC007EC95F5D6E200202615D000FB92CE7A7A402354EE0DAC0141007E20C5E87A200F4318EB0C\n"
     ]
    }
   ],
   "source": [
    "import numpy as np\n",
    "with open(\"../data/day16.txt\", \"r\") as f:\n",
    "    input = f.read()\n",
    "\n",
    "hex = input\n",
    "print(hex)\n",
    "\n",
    "bits = bin(int(hex, 16))[2:].zfill(4*len(hex))\n",
    "#print(bits)"
   ]
  },
  {
   "cell_type": "code",
   "execution_count": 337,
   "metadata": {},
   "outputs": [
    {
     "data": {
      "text/plain": [
       "('0', 986)"
      ]
     },
     "execution_count": 337,
     "metadata": {},
     "output_type": "execute_result"
    }
   ],
   "source": [
    "# Puzzle 1\n",
    "\n",
    "def parse_literal(bits):\n",
    "    n = 0\n",
    "    literal = \"\"\n",
    "    while True:\n",
    "        literal += bits[n+1:n+5]\n",
    "        if not int(bits[n]): break\n",
    "        n+=5\n",
    "    #print(f'Literal found: {int(literal, 2)}')\n",
    "    return bits[n+5:]\n",
    "\n",
    "\n",
    "def parse_packet(bits, s=0):\n",
    "\n",
    "    if bits is None or len(bits) < 6:\n",
    "        return bits, s\n",
    "    V = bits[0:3]\n",
    "    T = bits[3:6]\n",
    "    #print(f'Version: {int(V, 2)}, Type: {T}')\n",
    "\n",
    "    s += int(V, 2)\n",
    "\n",
    "    if T == \"100\": # Literals, 4\n",
    "        input = bits[6:]\n",
    "        rest = parse_literal(input)\n",
    "        return rest, s\n",
    "    else:\n",
    "        I = bits[6]\n",
    "        if int(I) == 0:\n",
    "            L = bits[7:7+15]\n",
    "            length = int(L, 2)\n",
    "            sub_packets = bits[7+15:7+15+length]\n",
    "            while sub_packets:\n",
    "                sub_packets, s = parse_packet(sub_packets, s)\n",
    "            return bits[7+15+length:], s\n",
    "        else:\n",
    "            L = bits[7:7+11]\n",
    "            number = int(L, 2)\n",
    "            rest = bits[7+11:]\n",
    "            for n in range(number):\n",
    "                rest, s = parse_packet(rest, s)\n",
    "            return rest, s\n",
    "\n",
    "\n",
    "parse_packet(bits)"
   ]
  },
  {
   "cell_type": "code",
   "execution_count": 346,
   "metadata": {},
   "outputs": [
    {
     "name": "stdout",
     "output_type": "stream",
     "text": [
      "------------ Test ------------\n",
      "True\n",
      "------------ Test ------------\n",
      "True\n",
      "------------ Test ------------\n",
      "True\n",
      "------------ Test ------------\n",
      "True\n",
      "------------ Test ------------\n",
      "True\n"
     ]
    }
   ],
   "source": [
    "# Tests\n",
    "hex_list = [\n",
    "    \"8A004A801A8002F478\",\n",
    "    \"620080001611562C8802118E34\",\n",
    "    \"C0015000016115A2E0802F182340\", #wrong\n",
    "    \"A0016C880162017C3686B18A3D4780\",\n",
    "    \"0052E4A00905271049796FB8872A0D25B9FB746893847236200B4F0BCE5194401C9B9E3F9C63992C8931A65A1CCC0D222100511A00BCBA647D98BE29A397005E55064A9DFEEC86600BD002AF2343A91A1CCE773C26600D126B69D15A6793BFCE2775D9E4A9002AB86339B5F9AB411A15CCAF10055B3EFFC00BCCE730112FA6620076268CE5CDA1FCEB69005A3800D24F4DB66E53F074F811802729733E0040E5C5E5C5C8015F9613937B83F23B278724068018014A00588014005519801EC04B220116CC0402000EAEC03519801A402B30801A802138801400170A0046A800C10001AB37FD8EB805D1C266963E95A4D1A5FF9719FEF7FDB4FB2DB29008CD2BAFA3D005CD31EB4EF2EBE4F4235DF78C66009E80293AE9310D3FCBFBCA440144580273BAEE17E55B66508803C2E0087E630F72BCD5E71B32CCFBBE2800017A2C2803D272BCBCD12BD599BC874B939004B5400964AE84A6C1E7538004CD300623AC6C882600E4328F710CC01C82D1B228980292ECD600B48E0526E506F700760CCC468012E68402324F9668028200C41E8A30E00010D8B11E62F98029801AB88039116344340004323EC48873233E72A36402504CB75006EA00084C7B895198001098D91AE2190065933AA6EB41AD0042626A93135681A400804CB54C0318032200E47B8F71C0001098810D61D8002111B228468000E5269324AD1ECF7C519B86309F35A46200A1660A280150968A4CB45365A03F3DDBAE980233407E00A80021719A1B4181006E1547D87C6008E0043337EC434C32BDE487A4AE08800D34BC3DEA974F35C20100BE723F1197F59E662FDB45824AA1D2DDCDFA2D29EBB69005072E5F2EDF3C0B244F30E0600AE00203229D229B342CC007EC95F5D6E200202615D000FB92CE7A7A402354EE0DAC0141007E20C5E87A200F4318EB0C\"\n",
    "]\n",
    "expected_list = [16, 12, 23, 31, 986]\n",
    "\n",
    "for hex, expected in zip(hex_list, expected_list):\n",
    "    print(\"------------ Test ------------\")\n",
    "    bits = bin(int(hex, 16))[2:].zfill(4*len(hex))\n",
    "    _, s = parse_packet(bits)\n",
    "    print(s == expected)\n"
   ]
  },
  {
   "cell_type": "code",
   "execution_count": 350,
   "metadata": {},
   "outputs": [
    {
     "data": {
      "text/plain": [
       "('0', 18234816469452, 986)"
      ]
     },
     "execution_count": 350,
     "metadata": {},
     "output_type": "execute_result"
    }
   ],
   "source": [
    "# Puzzle 2\n",
    "\n",
    "def parse_literal(bits, value):\n",
    "    n = 0\n",
    "    literal = \"\"\n",
    "    while True:\n",
    "        literal += bits[n+1:n+5]\n",
    "        if not int(bits[n]): break\n",
    "        n+=5\n",
    "    #print(f'Literal found: {int(literal, 2)}')\n",
    "    return bits[n+5:], int(literal, 2) # Return rest and value\n",
    "\n",
    "\n",
    "def parse_packet(bits, value=0, s=0):\n",
    "    if bits is None or len(bits) < 6:\n",
    "        return bits, value, s\n",
    "    V = bits[0:3]\n",
    "    T = bits[3:6]\n",
    "    #print(f'Version: {int(V, 2)}, Type: {T}')\n",
    "\n",
    "    s += int(V, 2)\n",
    "\n",
    "    value_list = []\n",
    "    if T == \"100\": # Literals, 4\n",
    "        input = bits[6:]\n",
    "        rest, value = parse_literal(input, value)\n",
    "    else: # Operator\n",
    "        I = bits[6]\n",
    "        if int(I) == 0:\n",
    "            L = bits[7:7+15]\n",
    "            length = int(L, 2)\n",
    "            sub_packets = bits[7+15:7+15+length]\n",
    "            while sub_packets:\n",
    "                sub_packets, value, s = parse_packet(sub_packets, value, s)\n",
    "                value_list.append(value)\n",
    "            rest = bits[7+15+length:]\n",
    "        else:\n",
    "            L = bits[7:7+11]\n",
    "            number = int(L, 2)\n",
    "            rest = bits[7+11:]\n",
    "            for n in range(number):\n",
    "                rest, value, s = parse_packet(rest, value, s)\n",
    "                value_list.append(value)\n",
    "\n",
    "    if T == \"000\": # maybe do mapping with functions instead of if/elif\n",
    "        value = np.sum(value_list)\n",
    "    elif T == \"001\":\n",
    "        value = np.prod(value_list)\n",
    "    elif T == \"010\":\n",
    "        value = np.min(value_list)\n",
    "    elif T == \"011\":\n",
    "        value = np.max(value_list)\n",
    "    elif T == \"101\":\n",
    "        value = int(value_list[0] > value_list[1])\n",
    "    elif T == \"110\":\n",
    "        value = int(value_list[0] < value_list[1])\n",
    "    elif T == \"111\":\n",
    "        value = int(value_list[0] == value_list[1])\n",
    "\n",
    "    return rest, value, s\n",
    "\n",
    "#hex = \"C200B40A82\"\n",
    "#bits = bin(int(hex, 16))[2:].zfill(4*len(hex))\n",
    "parse_packet(bits)"
   ]
  },
  {
   "cell_type": "code",
   "execution_count": 345,
   "metadata": {},
   "outputs": [
    {
     "name": "stdout",
     "output_type": "stream",
     "text": [
      "------------ Test ------------\n",
      "True\n",
      "------------ Test ------------\n",
      "True\n",
      "------------ Test ------------\n",
      "True\n",
      "------------ Test ------------\n",
      "True\n",
      "------------ Test ------------\n",
      "True\n",
      "------------ Test ------------\n",
      "True\n",
      "------------ Test ------------\n",
      "True\n",
      "------------ Test ------------\n",
      "True\n"
     ]
    }
   ],
   "source": [
    "# Tests\n",
    "hex_list = [\n",
    "    \"C200B40A82\",\n",
    "    \"04005AC33890\",\n",
    "    \"880086C3E88112\",\n",
    "    \"CE00C43D881120\",\n",
    "    \"D8005AC2A8F0\",\n",
    "    \"F600BC2D8F\",\n",
    "    \"9C005AC2F8F0\",\n",
    "    \"9C0141080250320F1802104A08\",\n",
    "]\n",
    "expected_list = [3, 54, 7, 9, 1, 0, 0, 1]\n",
    "\n",
    "value = 0\n",
    "for hex, expected in zip(hex_list, expected_list):\n",
    "    print(\"------------ Test ------------\")\n",
    "    bits = bin(int(hex, 16))[2:].zfill(4*len(hex))\n",
    "    _, value, _ = parse_packet(bits) # empty list is needed here?\n",
    "    print(value == expected)"
   ]
  },
  {
   "cell_type": "code",
   "execution_count": null,
   "metadata": {},
   "outputs": [],
   "source": []
  }
 ],
 "metadata": {
  "interpreter": {
   "hash": "2652f06b02976001099b950d6147bac727240ee3cc1ef0d920bd705c8021af22"
  },
  "kernelspec": {
   "display_name": "Python 3.7.9 64-bit ('aoc': conda)",
   "language": "python",
   "name": "python3"
  },
  "language_info": {
   "codemirror_mode": {
    "name": "ipython",
    "version": 3
   },
   "file_extension": ".py",
   "mimetype": "text/x-python",
   "name": "python",
   "nbconvert_exporter": "python",
   "pygments_lexer": "ipython3",
   "version": "3.7.9"
  },
  "orig_nbformat": 4
 },
 "nbformat": 4,
 "nbformat_minor": 2
}
