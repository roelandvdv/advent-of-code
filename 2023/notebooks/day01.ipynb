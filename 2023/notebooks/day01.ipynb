{
 "cells": [
  {
   "cell_type": "code",
   "execution_count": 97,
   "metadata": {},
   "outputs": [],
   "source": [
    "# Load data\n",
    "with open(\"../data/day01.txt\", \"r\") as f:\n",
    "    input = f.read()\n",
    "\n",
    "lines = input.split(\"\\n\")"
   ]
  },
  {
   "cell_type": "code",
   "execution_count": 98,
   "metadata": {},
   "outputs": [
    {
     "data": {
      "text/plain": [
       "55538"
      ]
     },
     "execution_count": 98,
     "metadata": {},
     "output_type": "execute_result"
    }
   ],
   "source": [
    "# Part 1\n",
    "total = 0\n",
    "for line in lines:\n",
    "    numbers = \"\".join(filter(str.isdigit, line))\n",
    "    number = int(\"\".join([numbers[0], numbers[-1]]))\n",
    "    total += number\n",
    "\n",
    "total"
   ]
  },
  {
   "cell_type": "code",
   "execution_count": 101,
   "metadata": {},
   "outputs": [
    {
     "data": {
      "text/plain": [
       "54875"
      ]
     },
     "execution_count": 101,
     "metadata": {},
     "output_type": "execute_result"
    }
   ],
   "source": [
    "# Part 2\n",
    "text_digits = [\"one\", \"two\", \"three\", \"four\", \"five\", \"six\", \"seven\", \"eight\", \"nine\"]\n",
    "digits = [str(d) for d in range(1,10)]\n",
    "\n",
    "total = 0\n",
    "for line in lines:\n",
    "    # Find first index\n",
    "    index = [(line.find(t), d) for t, d in zip(text_digits+digits, digits+digits)]\n",
    "    index = [(i,d) for i,d in index if i>=0]\n",
    "    index = sorted(index, key=lambda tup: tup[0])\n",
    "    first = index[0][1]\n",
    "\n",
    "    # Find last index\n",
    "    index = [(line.rfind(t), d) for t, d in zip(text_digits+digits, digits+digits)]\n",
    "    index = [(i,d) for i,d in index if i>=0]\n",
    "    index = sorted(index, key=lambda tup: tup[0])\n",
    "    last = index[-1][1]\n",
    "\n",
    "    number = int(first + last)\n",
    "    total += number\n",
    "total"
   ]
  },
  {
   "cell_type": "code",
   "execution_count": null,
   "metadata": {},
   "outputs": [],
   "source": []
  }
 ],
 "metadata": {
  "kernelspec": {
   "display_name": "aoc",
   "language": "python",
   "name": "python3"
  },
  "language_info": {
   "codemirror_mode": {
    "name": "ipython",
    "version": 3
   },
   "file_extension": ".py",
   "mimetype": "text/x-python",
   "name": "python",
   "nbconvert_exporter": "python",
   "pygments_lexer": "ipython3",
   "version": "3.7.9"
  }
 },
 "nbformat": 4,
 "nbformat_minor": 2
}
