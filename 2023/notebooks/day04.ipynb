{
 "cells": [
  {
   "cell_type": "code",
   "execution_count": 54,
   "metadata": {},
   "outputs": [],
   "source": [
    "# Load data\n",
    "with open(\"../data/day04.txt\", \"r\") as f:\n",
    "    input = f.read()\n",
    "\n",
    "lines = input.splitlines()"
   ]
  },
  {
   "cell_type": "code",
   "execution_count": 55,
   "metadata": {},
   "outputs": [
    {
     "name": "stdout",
     "output_type": "stream",
     "text": [
      "20855\n"
     ]
    }
   ],
   "source": [
    "# Part 1\n",
    "\n",
    "total = 0\n",
    "for line in lines:\n",
    "    numbers = line.split(\":\")[1].split(\"|\")\n",
    "    winning = [int(n) for n in numbers[0].strip().split(\" \") if n != \"\"]\n",
    "    drawn = [int(n) for n in numbers[1].strip().split(\" \") if n != \"\"]\n",
    "\n",
    "    n_wins = sum(n in winning for n in drawn) # number of wins\n",
    "    if n_wins > 0:\n",
    "        points = 2**(n_wins - 1)\n",
    "        total += points\n",
    "\n",
    "print(total)"
   ]
  },
  {
   "cell_type": "code",
   "execution_count": 56,
   "metadata": {},
   "outputs": [
    {
     "name": "stdout",
     "output_type": "stream",
     "text": [
      "5489600\n"
     ]
    }
   ],
   "source": [
    "# Part 2\n",
    "from operator import add\n",
    "\n",
    "cards = [1] * len(lines)\n",
    "\n",
    "for i, line in enumerate(lines):\n",
    "    numbers = line.split(\":\")[1].split(\"|\")\n",
    "    winning = [int(n) for n in numbers[0].strip().split(\" \") if n != \"\"]\n",
    "    drawn = [int(n) for n in numbers[1].strip().split(\" \") if n != \"\"]\n",
    "\n",
    "    n_wins = sum(n in winning for n in drawn) # number of wins\n",
    "    if n_wins > 0:\n",
    "        n_copies = cards[i]\n",
    "        cards[(i+1):(i+1+n_wins)] = list(map(add, cards[(i+1):(i+1+n_wins)], [n_copies]*n_wins)) # numpy would be cleaner\n",
    "\n",
    "print(sum(cards))"
   ]
  }
 ],
 "metadata": {
  "kernelspec": {
   "display_name": "aoc",
   "language": "python",
   "name": "python3"
  },
  "language_info": {
   "codemirror_mode": {
    "name": "ipython",
    "version": 3
   },
   "file_extension": ".py",
   "mimetype": "text/x-python",
   "name": "python",
   "nbconvert_exporter": "python",
   "pygments_lexer": "ipython3",
   "version": "3.7.9"
  }
 },
 "nbformat": 4,
 "nbformat_minor": 2
}
