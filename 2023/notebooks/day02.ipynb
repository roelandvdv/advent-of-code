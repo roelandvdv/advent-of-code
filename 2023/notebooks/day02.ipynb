{
 "cells": [
  {
   "cell_type": "code",
   "execution_count": 43,
   "metadata": {},
   "outputs": [],
   "source": [
    "# Load data\n",
    "with open(\"../data/day02.txt\", \"r\") as f:\n",
    "    input = f.read()\n",
    "\n",
    "lines = input.split(\"\\n\")"
   ]
  },
  {
   "cell_type": "code",
   "execution_count": 44,
   "metadata": {},
   "outputs": [
    {
     "name": "stdout",
     "output_type": "stream",
     "text": [
      "2061\n"
     ]
    }
   ],
   "source": [
    "# Part 1\n",
    "max_values = {\"red\": 12, \"green\": 13, \"blue\": 14}\n",
    "\n",
    "total = 0\n",
    "for game in lines:\n",
    "    possible = True\n",
    "\n",
    "    id = int(game.split(\":\")[0].split(\" \")[-1])\n",
    "    sets = game.split(\":\")[1].split(\";\")\n",
    "    for set in sets:\n",
    "        color_dict = {c.lstrip().split(\" \")[1]: int(c.lstrip().split(\" \")[0]) for c in set.split(\",\")}\n",
    "        # Compare dict\n",
    "        for k, v in color_dict.items():\n",
    "            if v > max_values[k]:\n",
    "                possible = False\n",
    "                # this can be more efficient\n",
    "    if possible:\n",
    "        total += id\n",
    "print(total)"
   ]
  },
  {
   "cell_type": "code",
   "execution_count": 45,
   "metadata": {},
   "outputs": [
    {
     "name": "stdout",
     "output_type": "stream",
     "text": [
      "72596\n"
     ]
    }
   ],
   "source": [
    "# Part 2\n",
    "\n",
    "answer = 0\n",
    "for game in lines:\n",
    "    id = int(game.split(\":\")[0].split(\" \")[-1])\n",
    "    sets = game.split(\":\")[1].split(\";\")\n",
    "\n",
    "    min_dict = {\"red\": 0, \"green\": 0, \"blue\": 0}\n",
    "    for set in sets:\n",
    "        color_dict = {c.lstrip().split(\" \")[1]: int(c.lstrip().split(\" \")[0]) for c in set.split(\",\")}\n",
    "        for k, v in color_dict.items():\n",
    "            min_dict[k] = max(min_dict[k], color_dict[k])\n",
    "\n",
    "    total = 1\n",
    "    for n in min_dict.values():\n",
    "        total *= n\n",
    "\n",
    "    answer += total\n",
    "\n",
    "print(answer)"
   ]
  }
 ],
 "metadata": {
  "kernelspec": {
   "display_name": "aoc",
   "language": "python",
   "name": "python3"
  },
  "language_info": {
   "codemirror_mode": {
    "name": "ipython",
    "version": 3
   },
   "file_extension": ".py",
   "mimetype": "text/x-python",
   "name": "python",
   "nbconvert_exporter": "python",
   "pygments_lexer": "ipython3",
   "version": "3.7.9"
  }
 },
 "nbformat": 4,
 "nbformat_minor": 2
}
