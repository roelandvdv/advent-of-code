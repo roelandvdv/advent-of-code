{
 "cells": [
  {
   "cell_type": "code",
   "execution_count": 191,
   "metadata": {},
   "outputs": [],
   "source": [
    "# Load data\n",
    "with open(\"../data/day03.txt\", \"r\") as f:\n",
    "    input = f.read()\n",
    "\n",
    "from io import StringIO\n",
    "import numpy as np\n",
    "\n",
    "M = np.genfromtxt(StringIO(input), delimiter=1, dtype=str, comments=None)"
   ]
  },
  {
   "cell_type": "code",
   "execution_count": 192,
   "metadata": {},
   "outputs": [
    {
     "name": "stdout",
     "output_type": "stream",
     "text": [
      "532445\n"
     ]
    }
   ],
   "source": [
    "# Part 1\n",
    "from scipy import ndimage\n",
    "from scipy import signal\n",
    "\n",
    "empty = M == \".\"\n",
    "digits = np.char.isdigit(M)\n",
    "symbols = ~empty & ~digits\n",
    "\n",
    "# Get groups of digits\n",
    "components, n = ndimage.measurements.label(digits)\n",
    "\n",
    "total = 0\n",
    "for i in range(1, n+1):\n",
    "    # Expand to neighbors of numbers (ndimage.generic_filter slow)\n",
    "    kernel = np.ones((3, 3), dtype=int)\n",
    "    results = signal.convolve2d(components == i, kernel, mode='same', boundary='fill', fillvalue=0)\n",
    "\n",
    "    # If overlap with symbol\n",
    "    has_symbol = ((results > 0) & symbols).sum() > 0\n",
    "    if has_symbol:\n",
    "        number = int(\"\".join(M[components == i]))\n",
    "        total += number\n",
    "\n",
    "print(total)"
   ]
  },
  {
   "cell_type": "code",
   "execution_count": 194,
   "metadata": {},
   "outputs": [
    {
     "data": {
      "text/plain": [
       "79842967"
      ]
     },
     "execution_count": 194,
     "metadata": {},
     "output_type": "execute_result"
    }
   ],
   "source": [
    "# Part 2\n",
    "# Reuse number components from part 1\n",
    "\n",
    "gears = M == \"*\"\n",
    "\n",
    "# Get groups of gears (can be simpler)\n",
    "gear_components, gear_n = ndimage.measurements.label(gears)\n",
    "\n",
    "total = 0\n",
    "for i in range(1, gear_n+1):\n",
    "    # Expand to neighbors of gears\n",
    "    kernel = np.ones((3, 3), dtype=int)\n",
    "    results = signal.convolve2d(gear_components == i, kernel, mode='same', boundary='fill', fillvalue=0)\n",
    "\n",
    "    # Get unique number ids\n",
    "    n_numbers = np.unique(components[(results > 0) & digits])\n",
    "    if len(n_numbers) == 2:\n",
    "        ratio = 1\n",
    "        for n in n_numbers:\n",
    "            number = int(\"\".join(M[components == n]))\n",
    "            ratio *= number\n",
    "        total += ratio\n",
    "total\n"
   ]
  },
  {
   "cell_type": "markdown",
   "metadata": {},
   "source": [
    "# Archive"
   ]
  },
  {
   "cell_type": "code",
   "execution_count": 190,
   "metadata": {},
   "outputs": [
    {
     "name": "stdout",
     "output_type": "stream",
     "text": [
      "467 0 2\n",
      "114 5 7\n"
     ]
    }
   ],
   "source": [
    "# Do more row based\n",
    "row = 0\n",
    "number = \"\"\n",
    "for i, c in enumerate(M[row,:]):\n",
    "    if c.isdigit():\n",
    "        number += c\n",
    "    elif len(number) > 0:\n",
    "        # Number finished\n",
    "        end = i - 1\n",
    "        start = i - len(number)\n",
    "        print(number, start, end)\n",
    "        number = \"\"\n",
    "\n",
    "        M[row, i]\n"
   ]
  }
 ],
 "metadata": {
  "kernelspec": {
   "display_name": "aoc",
   "language": "python",
   "name": "python3"
  },
  "language_info": {
   "codemirror_mode": {
    "name": "ipython",
    "version": 3
   },
   "file_extension": ".py",
   "mimetype": "text/x-python",
   "name": "python",
   "nbconvert_exporter": "python",
   "pygments_lexer": "ipython3",
   "version": "3.7.9"
  }
 },
 "nbformat": 4,
 "nbformat_minor": 2
}
